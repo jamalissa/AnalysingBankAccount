{
 "cells": [
  {
   "cell_type": "markdown",
   "id": "2846f776",
   "metadata": {},
   "source": [
    "# The Data Manupilator:\n",
    "### This is the most simple Code to Manupilate the Data so no one will able to figure any thing usefull from it \n",
    "### in this example we will Manupilate Banktransactions Exports"
   ]
  },
  {
   "cell_type": "markdown",
   "id": "4ab8fae5",
   "metadata": {},
   "source": [
    "## 1. Import libraries for\n",
    "-\tdata structures and data analysis tools (pandas)\n",
    "-   numerical Python library (numpy).\n",
    "-   general visualization (matplotlib)"
   ]
  },
  {
   "cell_type": "code",
   "execution_count": 1,
   "id": "0378f5b1",
   "metadata": {},
   "outputs": [],
   "source": [
    "import pandas as pd\n",
    "import numpy as np"
   ]
  },
  {
   "cell_type": "markdown",
   "id": "7f81416d",
   "metadata": {},
   "source": [
    "## 2. Import the Bank transaction CSV file as a DataFrame\n",
    "-\tRead the data from a CSV file into a DataFrame (panda.read_csv)\n",
    "-   PS: The data that is loaded is already Manupilated. The original ones could not be uploaded"
   ]
  },
  {
   "cell_type": "code",
   "execution_count": 3,
   "id": "d3bb4fea",
   "metadata": {},
   "outputs": [
    {
     "data": {
      "text/html": [
       "<div>\n",
       "<style scoped>\n",
       "    .dataframe tbody tr th:only-of-type {\n",
       "        vertical-align: middle;\n",
       "    }\n",
       "\n",
       "    .dataframe tbody tr th {\n",
       "        vertical-align: top;\n",
       "    }\n",
       "\n",
       "    .dataframe thead th {\n",
       "        text-align: right;\n",
       "    }\n",
       "</style>\n",
       "<table border=\"1\" class=\"dataframe\">\n",
       "  <thead>\n",
       "    <tr style=\"text-align: right;\">\n",
       "      <th></th>\n",
       "      <th>Valutadatum</th>\n",
       "      <th>Buchungstext</th>\n",
       "      <th>Verwendungszweck</th>\n",
       "      <th>Beguenstigter/Zahlungspflichtiger</th>\n",
       "      <th>Betrag</th>\n",
       "    </tr>\n",
       "  </thead>\n",
       "  <tbody>\n",
       "    <tr>\n",
       "      <th>0</th>\n",
       "      <td>30.06.2022</td>\n",
       "      <td>ONLINE-UEBERWEISUNG</td>\n",
       "      <td>SVWZ+XNXTLVX PAYOPDATUM XX.XX.XXXX, XX.XX UHRname</td>\n",
       "      <td>PPRO Payment Services SA</td>\n",
       "      <td>-3,22</td>\n",
       "    </tr>\n",
       "    <tr>\n",
       "      <th>1</th>\n",
       "      <td>30.06.2022</td>\n",
       "      <td>KARTENZAHLUNG</td>\n",
       "      <td>SVWZ+XXXX-XX-XXTXX.XXDebitk.X XXXX-XXABWA+OSAK...</td>\n",
       "      <td>Osakii Mainz GmbH</td>\n",
       "      <td>-50</td>\n",
       "    </tr>\n",
       "    <tr>\n",
       "      <th>2</th>\n",
       "      <td>29.06.2022</td>\n",
       "      <td>KARTENZAHLUNG</td>\n",
       "      <td>SVWZ+XXXX-XX-XXTXX.XXDebitk.X XXXX-XXABWA+SumU...</td>\n",
       "      <td>Landesbank Hessen-Thuringen Girozentrale</td>\n",
       "      <td>-6,7</td>\n",
       "    </tr>\n",
       "    <tr>\n",
       "      <th>3</th>\n",
       "      <td>29.06.2022</td>\n",
       "      <td>FOLGELASTSCHRIFT</td>\n",
       "      <td>EREF+XXXXXXXXXXXXX PP.XXXX.PP PAYPALMREF+XJTJX...</td>\n",
       "      <td>PayPal (Europe) S.a r.l. et Cie, S.C.A.</td>\n",
       "      <td>-4,99</td>\n",
       "    </tr>\n",
       "    <tr>\n",
       "      <th>4</th>\n",
       "      <td>28.06.2022</td>\n",
       "      <td>KARTENZAHLUNG</td>\n",
       "      <td>SVWZ+XXXX-XX-XXTXX.XXDebitk.X XXXX-XXABWA+REST...</td>\n",
       "      <td>RESTAURANT SAMAN</td>\n",
       "      <td>-14</td>\n",
       "    </tr>\n",
       "  </tbody>\n",
       "</table>\n",
       "</div>"
      ],
      "text/plain": [
       "  Valutadatum         Buchungstext  \\\n",
       "0  30.06.2022  ONLINE-UEBERWEISUNG   \n",
       "1  30.06.2022        KARTENZAHLUNG   \n",
       "2  29.06.2022        KARTENZAHLUNG   \n",
       "3  29.06.2022     FOLGELASTSCHRIFT   \n",
       "4  28.06.2022        KARTENZAHLUNG   \n",
       "\n",
       "                                    Verwendungszweck  \\\n",
       "0  SVWZ+XNXTLVX PAYOPDATUM XX.XX.XXXX, XX.XX UHRname   \n",
       "1  SVWZ+XXXX-XX-XXTXX.XXDebitk.X XXXX-XXABWA+OSAK...   \n",
       "2  SVWZ+XXXX-XX-XXTXX.XXDebitk.X XXXX-XXABWA+SumU...   \n",
       "3  EREF+XXXXXXXXXXXXX PP.XXXX.PP PAYPALMREF+XJTJX...   \n",
       "4  SVWZ+XXXX-XX-XXTXX.XXDebitk.X XXXX-XXABWA+REST...   \n",
       "\n",
       "          Beguenstigter/Zahlungspflichtiger Betrag  \n",
       "0                  PPRO Payment Services SA  -3,22  \n",
       "1                         Osakii Mainz GmbH    -50  \n",
       "2  Landesbank Hessen-Thuringen Girozentrale   -6,7  \n",
       "3   PayPal (Europe) S.a r.l. et Cie, S.C.A.  -4,99  \n",
       "4                          RESTAURANT SAMAN    -14  "
      ]
     },
     "execution_count": 3,
     "metadata": {},
     "output_type": "execute_result"
    }
   ],
   "source": [
    "#we use encoding = 'unicode_escape' because there is some non-ascii character in the Data and it can't be encoded/decoded.\n",
    "data = pd.read_excel('Data\\old_transactions.xlsx')\n",
    "data.head()"
   ]
  },
  {
   "cell_type": "markdown",
   "id": "f4c7756d",
   "metadata": {},
   "source": [
    "### Atrributes description: \n",
    "\n",
    "- Valutadatum (Date of value):The date which the money being booked from the bank account (Booking Date)\n",
    "- Buchungstext: Art of booking wether its Withdraw money from the ATM or a transaction \n",
    "- Verwendungszweck (Purpose of use) : details about the booking (company that booked, Date of booking, etc...)\n",
    "- Beguenstigter/Zahlungspflichtiger: Which company the did the booking ( most of the time duplicated infos form the purpose of use)\n",
    "- Betrag: The amount of money that are booked"
   ]
  },
  {
   "cell_type": "markdown",
   "id": "5083637b",
   "metadata": {},
   "source": [
    "# 3. Checking if private infos in the \"Verwendungszweck\"  or \"Zahlungspflichtiger\" columes and if there replace with \"iliketoTrollyou\""
   ]
  },
  {
   "cell_type": "code",
   "execution_count": 4,
   "id": "072ecd70",
   "metadata": {},
   "outputs": [],
   "source": [
    "# here you can create a list of the sensetive data you have case senesetivity is not a big issue here so you can write as a name max or Max\n",
    "privates=[\"surname\",\"name\",\"adress\",\"zipcode\",\"birthdate\"]\n"
   ]
  },
  {
   "cell_type": "code",
   "execution_count": 5,
   "id": "2a4f9c5d",
   "metadata": {},
   "outputs": [
    {
     "data": {
      "text/plain": [
       "'SVWZ+XNXTLVX PAYOPDATUM XX.XX.XXXX, XX.XX UHRname'"
      ]
     },
     "execution_count": 5,
     "metadata": {},
     "output_type": "execute_result"
    }
   ],
   "source": [
    "data['Verwendungszweck'][0]"
   ]
  },
  {
   "cell_type": "code",
   "execution_count": 6,
   "id": "5d2114f3",
   "metadata": {},
   "outputs": [
    {
     "data": {
      "text/plain": [
       "'SVWZ+XXXX-XX-XXTXX.XXDebitk.X XXXX-XXABWA+OSAKII MAINZ GMBH//MAINZ/DeSurname'"
      ]
     },
     "execution_count": 6,
     "metadata": {},
     "output_type": "execute_result"
    }
   ],
   "source": [
    "data['Verwendungszweck'][1]"
   ]
  },
  {
   "cell_type": "code",
   "execution_count": 7,
   "id": "cdf1c342",
   "metadata": {},
   "outputs": [],
   "source": [
    "# we check both columns for making sure that we have no traces left\n",
    "for private in privates:\n",
    "    data['Verwendungszweck'] = data['Verwendungszweck'].str.replace(private, \"IliketoTrollyou\",regex=True,case=False)\n",
    "    data['Beguenstigter/Zahlungspflichtiger'] = data['Beguenstigter/Zahlungspflichtiger'].str.replace(private, \"IliketoTrollyou\",regex=True,case=False)"
   ]
  },
  {
   "cell_type": "code",
   "execution_count": 8,
   "id": "c1ba2f96",
   "metadata": {},
   "outputs": [
    {
     "data": {
      "text/plain": [
       "'SVWZ+XNXTLVX PAYOPDATUM XX.XX.XXXX, XX.XX UHRIliketoTrollyou'"
      ]
     },
     "execution_count": 8,
     "metadata": {},
     "output_type": "execute_result"
    }
   ],
   "source": [
    "data['Verwendungszweck'][0]"
   ]
  },
  {
   "cell_type": "code",
   "execution_count": 9,
   "id": "038f8b76",
   "metadata": {},
   "outputs": [
    {
     "data": {
      "text/plain": [
       "'SVWZ+XXXX-XX-XXTXX.XXDebitk.X XXXX-XXABWA+OSAKII MAINZ GMBH//MAINZ/DeIliketoTrollyou'"
      ]
     },
     "execution_count": 9,
     "metadata": {},
     "output_type": "execute_result"
    }
   ],
   "source": [
    "data['Verwendungszweck'][1]"
   ]
  },
  {
   "cell_type": "markdown",
   "id": "c9b0cefb",
   "metadata": {},
   "source": [
    "# 4. replace numbers with X to avoid exploiding Account numbers "
   ]
  },
  {
   "cell_type": "code",
   "execution_count": 10,
   "id": "6b1fb613",
   "metadata": {},
   "outputs": [],
   "source": [
    "numbers=[\"0\",\"1\",\"2\",\"3\",\"4\",\"5\",\"6\",\"7\",\"8\",\"9\"]"
   ]
  },
  {
   "cell_type": "code",
   "execution_count": 11,
   "id": "4fd59ea7",
   "metadata": {},
   "outputs": [],
   "source": [
    "data['Verwendungszweck'] = data['Verwendungszweck'].replace(numbers, \"X\",regex=True)\n",
    "data['Beguenstigter/Zahlungspflichtiger'] = data['Beguenstigter/Zahlungspflichtiger'].replace(numbers, \"X\",regex=True)"
   ]
  },
  {
   "cell_type": "code",
   "execution_count": 12,
   "id": "fa790baa",
   "metadata": {},
   "outputs": [
    {
     "data": {
      "text/plain": [
       "'SVWZ+XXXX-XX-XXTXX.XXDebitk.X XXXX-XXABWA+OSAKII MAINZ GMBH//MAINZ/DeIliketoTrollyou'"
      ]
     },
     "execution_count": 12,
     "metadata": {},
     "output_type": "execute_result"
    }
   ],
   "source": [
    "data['Verwendungszweck'][1]"
   ]
  },
  {
   "cell_type": "markdown",
   "id": "1f31c5d6",
   "metadata": {},
   "source": [
    "# Export the Dataframe as a Excel data"
   ]
  },
  {
   "cell_type": "code",
   "execution_count": 14,
   "id": "1202dbaf",
   "metadata": {},
   "outputs": [],
   "source": [
    "data.to_excel('Data\\decoded_transactions.xlsx',index=False)"
   ]
  },
  {
   "cell_type": "code",
   "execution_count": 15,
   "id": "8224e4eb",
   "metadata": {},
   "outputs": [
    {
     "data": {
      "text/html": [
       "<div>\n",
       "<style scoped>\n",
       "    .dataframe tbody tr th:only-of-type {\n",
       "        vertical-align: middle;\n",
       "    }\n",
       "\n",
       "    .dataframe tbody tr th {\n",
       "        vertical-align: top;\n",
       "    }\n",
       "\n",
       "    .dataframe thead th {\n",
       "        text-align: right;\n",
       "    }\n",
       "</style>\n",
       "<table border=\"1\" class=\"dataframe\">\n",
       "  <thead>\n",
       "    <tr style=\"text-align: right;\">\n",
       "      <th></th>\n",
       "      <th>Valutadatum</th>\n",
       "      <th>Buchungstext</th>\n",
       "      <th>Verwendungszweck</th>\n",
       "      <th>Beguenstigter/Zahlungspflichtiger</th>\n",
       "      <th>Betrag</th>\n",
       "    </tr>\n",
       "  </thead>\n",
       "  <tbody>\n",
       "    <tr>\n",
       "      <th>0</th>\n",
       "      <td>30.06.2022</td>\n",
       "      <td>ONLINE-UEBERWEISUNG</td>\n",
       "      <td>SVWZ+XNXTLVX PAYOPDATUM XX.XX.XXXX, XX.XX UHRI...</td>\n",
       "      <td>PPRO Payment Services SA</td>\n",
       "      <td>-3,22</td>\n",
       "    </tr>\n",
       "    <tr>\n",
       "      <th>1</th>\n",
       "      <td>30.06.2022</td>\n",
       "      <td>KARTENZAHLUNG</td>\n",
       "      <td>SVWZ+XXXX-XX-XXTXX.XXDebitk.X XXXX-XXABWA+OSAK...</td>\n",
       "      <td>Osakii Mainz GmbH</td>\n",
       "      <td>-50</td>\n",
       "    </tr>\n",
       "    <tr>\n",
       "      <th>2</th>\n",
       "      <td>29.06.2022</td>\n",
       "      <td>KARTENZAHLUNG</td>\n",
       "      <td>SVWZ+XXXX-XX-XXTXX.XXDebitk.X XXXX-XXABWA+SumU...</td>\n",
       "      <td>Landesbank Hessen-Thuringen Girozentrale</td>\n",
       "      <td>-6,7</td>\n",
       "    </tr>\n",
       "    <tr>\n",
       "      <th>3</th>\n",
       "      <td>29.06.2022</td>\n",
       "      <td>FOLGELASTSCHRIFT</td>\n",
       "      <td>EREF+XXXXXXXXXXXXX PP.XXXX.PP PAYPALMREF+XJTJX...</td>\n",
       "      <td>PayPal (Europe) S.a r.l. et Cie, S.C.A.</td>\n",
       "      <td>-4,99</td>\n",
       "    </tr>\n",
       "    <tr>\n",
       "      <th>4</th>\n",
       "      <td>28.06.2022</td>\n",
       "      <td>KARTENZAHLUNG</td>\n",
       "      <td>SVWZ+XXXX-XX-XXTXX.XXDebitk.X XXXX-XXABWA+REST...</td>\n",
       "      <td>RESTAURANT SAMAN</td>\n",
       "      <td>-14</td>\n",
       "    </tr>\n",
       "  </tbody>\n",
       "</table>\n",
       "</div>"
      ],
      "text/plain": [
       "  Valutadatum         Buchungstext  \\\n",
       "0  30.06.2022  ONLINE-UEBERWEISUNG   \n",
       "1  30.06.2022        KARTENZAHLUNG   \n",
       "2  29.06.2022        KARTENZAHLUNG   \n",
       "3  29.06.2022     FOLGELASTSCHRIFT   \n",
       "4  28.06.2022        KARTENZAHLUNG   \n",
       "\n",
       "                                    Verwendungszweck  \\\n",
       "0  SVWZ+XNXTLVX PAYOPDATUM XX.XX.XXXX, XX.XX UHRI...   \n",
       "1  SVWZ+XXXX-XX-XXTXX.XXDebitk.X XXXX-XXABWA+OSAK...   \n",
       "2  SVWZ+XXXX-XX-XXTXX.XXDebitk.X XXXX-XXABWA+SumU...   \n",
       "3  EREF+XXXXXXXXXXXXX PP.XXXX.PP PAYPALMREF+XJTJX...   \n",
       "4  SVWZ+XXXX-XX-XXTXX.XXDebitk.X XXXX-XXABWA+REST...   \n",
       "\n",
       "          Beguenstigter/Zahlungspflichtiger Betrag  \n",
       "0                  PPRO Payment Services SA  -3,22  \n",
       "1                         Osakii Mainz GmbH    -50  \n",
       "2  Landesbank Hessen-Thuringen Girozentrale   -6,7  \n",
       "3   PayPal (Europe) S.a r.l. et Cie, S.C.A.  -4,99  \n",
       "4                          RESTAURANT SAMAN    -14  "
      ]
     },
     "execution_count": 15,
     "metadata": {},
     "output_type": "execute_result"
    }
   ],
   "source": [
    "df = pd.read_excel('decoded_transactions.xlsx')\n",
    "df.head()"
   ]
  },
  {
   "cell_type": "code",
   "execution_count": null,
   "id": "2d9c0588",
   "metadata": {},
   "outputs": [],
   "source": []
  }
 ],
 "metadata": {
  "kernelspec": {
   "display_name": "Python 3 (ipykernel)",
   "language": "python",
   "name": "python3"
  },
  "language_info": {
   "codemirror_mode": {
    "name": "ipython",
    "version": 3
   },
   "file_extension": ".py",
   "mimetype": "text/x-python",
   "name": "python",
   "nbconvert_exporter": "python",
   "pygments_lexer": "ipython3",
   "version": "3.9.7"
  }
 },
 "nbformat": 4,
 "nbformat_minor": 5
}
