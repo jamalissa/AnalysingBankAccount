{
 "cells": [
  {
   "cell_type": "markdown",
   "metadata": {},
   "source": [
    "# Bank transaction analysis:\n",
    "## The goal of this analysis is to :\n",
    "### 1. Figure out where most of the monthly money being spent\n",
    "### 2. Figure out how much money being spent each month and how much money is being gained"
   ]
  },
  {
   "cell_type": "markdown",
   "metadata": {},
   "source": [
    "## 1. Import libraries for\n",
    "-\tdata structures and data analysis tools (pandas)\n",
    "-   numerical Python library (numpy)\n",
    "-   interactive visualization (Plotly)"
   ]
  },
  {
   "cell_type": "code",
   "execution_count": 107,
   "metadata": {},
   "outputs": [],
   "source": [
    "## In this section uninstalled Liraries will be installed\n",
    "#pip install plotly"
   ]
  },
  {
   "cell_type": "code",
   "execution_count": 108,
   "metadata": {},
   "outputs": [],
   "source": [
    "import pandas as pd\n",
    "import numpy as np\n",
    "import plotly.express as px"
   ]
  },
  {
   "cell_type": "markdown",
   "metadata": {},
   "source": [
    "## 2. Import the Bank transaction Excel file as a DataFrame\n",
    "-\tRead the data from a Excel file into a DataFrame (pd.read_excel)"
   ]
  },
  {
   "cell_type": "code",
   "execution_count": 109,
   "metadata": {},
   "outputs": [
    {
     "data": {
      "text/html": [
       "<div>\n",
       "<style scoped>\n",
       "    .dataframe tbody tr th:only-of-type {\n",
       "        vertical-align: middle;\n",
       "    }\n",
       "\n",
       "    .dataframe tbody tr th {\n",
       "        vertical-align: top;\n",
       "    }\n",
       "\n",
       "    .dataframe thead th {\n",
       "        text-align: right;\n",
       "    }\n",
       "</style>\n",
       "<table border=\"1\" class=\"dataframe\">\n",
       "  <thead>\n",
       "    <tr style=\"text-align: right;\">\n",
       "      <th></th>\n",
       "      <th>Valutadatum</th>\n",
       "      <th>Buchungstext</th>\n",
       "      <th>Verwendungszweck</th>\n",
       "      <th>Beguenstigter/Zahlungspflichtiger</th>\n",
       "      <th>Betrag</th>\n",
       "    </tr>\n",
       "  </thead>\n",
       "  <tbody>\n",
       "    <tr>\n",
       "      <th>0</th>\n",
       "      <td>30.06.2022</td>\n",
       "      <td>ONLINE-UEBERWEISUNG</td>\n",
       "      <td>SVWZ+XNXTLVX PAYOPDATUM XX.XX.XXXX, XX.XX UHRI...</td>\n",
       "      <td>PPRO Payment Services SA</td>\n",
       "      <td>-3,22</td>\n",
       "    </tr>\n",
       "    <tr>\n",
       "      <th>1</th>\n",
       "      <td>30.06.2022</td>\n",
       "      <td>KARTENZAHLUNG</td>\n",
       "      <td>SVWZ+XXXX-XX-XXTXX.XXDebitk.X XXXX-XXABWA+OSAK...</td>\n",
       "      <td>Osakii Mainz GmbH</td>\n",
       "      <td>-50</td>\n",
       "    </tr>\n",
       "    <tr>\n",
       "      <th>2</th>\n",
       "      <td>29.06.2022</td>\n",
       "      <td>KARTENZAHLUNG</td>\n",
       "      <td>SVWZ+XXXX-XX-XXTXX.XXDebitk.X XXXX-XXABWA+SumU...</td>\n",
       "      <td>Landesbank Hessen-Thuringen Girozentrale</td>\n",
       "      <td>-6,7</td>\n",
       "    </tr>\n",
       "    <tr>\n",
       "      <th>3</th>\n",
       "      <td>29.06.2022</td>\n",
       "      <td>FOLGELASTSCHRIFT</td>\n",
       "      <td>EREF+XXXXXXXXXXXXX PP.XXXX.PP PAYPALMREF+XJTJX...</td>\n",
       "      <td>PayPal (Europe) S.a r.l. et Cie, S.C.A.</td>\n",
       "      <td>-4,99</td>\n",
       "    </tr>\n",
       "    <tr>\n",
       "      <th>4</th>\n",
       "      <td>28.06.2022</td>\n",
       "      <td>KARTENZAHLUNG</td>\n",
       "      <td>SVWZ+XXXX-XX-XXTXX.XXDebitk.X XXXX-XXABWA+REST...</td>\n",
       "      <td>RESTAURANT SAMAN</td>\n",
       "      <td>-14</td>\n",
       "    </tr>\n",
       "  </tbody>\n",
       "</table>\n",
       "</div>"
      ],
      "text/plain": [
       "  Valutadatum         Buchungstext  \\\n",
       "0  30.06.2022  ONLINE-UEBERWEISUNG   \n",
       "1  30.06.2022        KARTENZAHLUNG   \n",
       "2  29.06.2022        KARTENZAHLUNG   \n",
       "3  29.06.2022     FOLGELASTSCHRIFT   \n",
       "4  28.06.2022        KARTENZAHLUNG   \n",
       "\n",
       "                                    Verwendungszweck  \\\n",
       "0  SVWZ+XNXTLVX PAYOPDATUM XX.XX.XXXX, XX.XX UHRI...   \n",
       "1  SVWZ+XXXX-XX-XXTXX.XXDebitk.X XXXX-XXABWA+OSAK...   \n",
       "2  SVWZ+XXXX-XX-XXTXX.XXDebitk.X XXXX-XXABWA+SumU...   \n",
       "3  EREF+XXXXXXXXXXXXX PP.XXXX.PP PAYPALMREF+XJTJX...   \n",
       "4  SVWZ+XXXX-XX-XXTXX.XXDebitk.X XXXX-XXABWA+REST...   \n",
       "\n",
       "          Beguenstigter/Zahlungspflichtiger Betrag  \n",
       "0                  PPRO Payment Services SA  -3,22  \n",
       "1                         Osakii Mainz GmbH    -50  \n",
       "2  Landesbank Hessen-Thuringen Girozentrale   -6,7  \n",
       "3   PayPal (Europe) S.a r.l. et Cie, S.C.A.  -4,99  \n",
       "4                          RESTAURANT SAMAN    -14  "
      ]
     },
     "execution_count": 109,
     "metadata": {},
     "output_type": "execute_result"
    }
   ],
   "source": [
    "#import of the dataset\n",
    "data = pd.read_excel('Data/decoded_transactions.xlsx')\n",
    "data.head()"
   ]
  },
  {
   "cell_type": "markdown",
   "metadata": {},
   "source": [
    "# 3. Data Preperation:\n",
    "- Display the first 5 lines for the DataFrame (DataFrame.head)\n",
    "- lets Discover the Data and see which columns do we need for the analysis"
   ]
  },
  {
   "cell_type": "code",
   "execution_count": 110,
   "metadata": {},
   "outputs": [
    {
     "data": {
      "text/html": [
       "<div>\n",
       "<style scoped>\n",
       "    .dataframe tbody tr th:only-of-type {\n",
       "        vertical-align: middle;\n",
       "    }\n",
       "\n",
       "    .dataframe tbody tr th {\n",
       "        vertical-align: top;\n",
       "    }\n",
       "\n",
       "    .dataframe thead th {\n",
       "        text-align: right;\n",
       "    }\n",
       "</style>\n",
       "<table border=\"1\" class=\"dataframe\">\n",
       "  <thead>\n",
       "    <tr style=\"text-align: right;\">\n",
       "      <th></th>\n",
       "      <th>Valutadatum</th>\n",
       "      <th>Buchungstext</th>\n",
       "      <th>Verwendungszweck</th>\n",
       "      <th>Beguenstigter/Zahlungspflichtiger</th>\n",
       "      <th>Betrag</th>\n",
       "    </tr>\n",
       "  </thead>\n",
       "  <tbody>\n",
       "    <tr>\n",
       "      <th>0</th>\n",
       "      <td>30.06.2022</td>\n",
       "      <td>ONLINE-UEBERWEISUNG</td>\n",
       "      <td>SVWZ+XNXTLVX PAYOPDATUM XX.XX.XXXX, XX.XX UHRI...</td>\n",
       "      <td>PPRO Payment Services SA</td>\n",
       "      <td>-3,22</td>\n",
       "    </tr>\n",
       "    <tr>\n",
       "      <th>1</th>\n",
       "      <td>30.06.2022</td>\n",
       "      <td>KARTENZAHLUNG</td>\n",
       "      <td>SVWZ+XXXX-XX-XXTXX.XXDebitk.X XXXX-XXABWA+OSAK...</td>\n",
       "      <td>Osakii Mainz GmbH</td>\n",
       "      <td>-50</td>\n",
       "    </tr>\n",
       "    <tr>\n",
       "      <th>2</th>\n",
       "      <td>29.06.2022</td>\n",
       "      <td>KARTENZAHLUNG</td>\n",
       "      <td>SVWZ+XXXX-XX-XXTXX.XXDebitk.X XXXX-XXABWA+SumU...</td>\n",
       "      <td>Landesbank Hessen-Thuringen Girozentrale</td>\n",
       "      <td>-6,7</td>\n",
       "    </tr>\n",
       "    <tr>\n",
       "      <th>3</th>\n",
       "      <td>29.06.2022</td>\n",
       "      <td>FOLGELASTSCHRIFT</td>\n",
       "      <td>EREF+XXXXXXXXXXXXX PP.XXXX.PP PAYPALMREF+XJTJX...</td>\n",
       "      <td>PayPal (Europe) S.a r.l. et Cie, S.C.A.</td>\n",
       "      <td>-4,99</td>\n",
       "    </tr>\n",
       "    <tr>\n",
       "      <th>4</th>\n",
       "      <td>28.06.2022</td>\n",
       "      <td>KARTENZAHLUNG</td>\n",
       "      <td>SVWZ+XXXX-XX-XXTXX.XXDebitk.X XXXX-XXABWA+REST...</td>\n",
       "      <td>RESTAURANT SAMAN</td>\n",
       "      <td>-14</td>\n",
       "    </tr>\n",
       "  </tbody>\n",
       "</table>\n",
       "</div>"
      ],
      "text/plain": [
       "  Valutadatum         Buchungstext  \\\n",
       "0  30.06.2022  ONLINE-UEBERWEISUNG   \n",
       "1  30.06.2022        KARTENZAHLUNG   \n",
       "2  29.06.2022        KARTENZAHLUNG   \n",
       "3  29.06.2022     FOLGELASTSCHRIFT   \n",
       "4  28.06.2022        KARTENZAHLUNG   \n",
       "\n",
       "                                    Verwendungszweck  \\\n",
       "0  SVWZ+XNXTLVX PAYOPDATUM XX.XX.XXXX, XX.XX UHRI...   \n",
       "1  SVWZ+XXXX-XX-XXTXX.XXDebitk.X XXXX-XXABWA+OSAK...   \n",
       "2  SVWZ+XXXX-XX-XXTXX.XXDebitk.X XXXX-XXABWA+SumU...   \n",
       "3  EREF+XXXXXXXXXXXXX PP.XXXX.PP PAYPALMREF+XJTJX...   \n",
       "4  SVWZ+XXXX-XX-XXTXX.XXDebitk.X XXXX-XXABWA+REST...   \n",
       "\n",
       "          Beguenstigter/Zahlungspflichtiger Betrag  \n",
       "0                  PPRO Payment Services SA  -3,22  \n",
       "1                         Osakii Mainz GmbH    -50  \n",
       "2  Landesbank Hessen-Thuringen Girozentrale   -6,7  \n",
       "3   PayPal (Europe) S.a r.l. et Cie, S.C.A.  -4,99  \n",
       "4                          RESTAURANT SAMAN    -14  "
      ]
     },
     "execution_count": 110,
     "metadata": {},
     "output_type": "execute_result"
    }
   ],
   "source": [
    "data.head()"
   ]
  },
  {
   "cell_type": "markdown",
   "metadata": {},
   "source": [
    "### Folowing Attributes will be needed: \n",
    "\n",
    "- Valutadatum (Date of value):The date which the money being booked from the bank account (Booking Date)\n",
    "- Verwendungszweck (Purpose of use) : details about the booking (company that booked, Date of booking, etc...)\n",
    "- Betrag: The amount of money that are booked\n",
    "- Buchungstext: Art of booking wether its Withdraw money from the ATM or a transaction \n",
    "\n",
    "### Folowing Attributes will NOT be needed: \n",
    "- Beguenstigter/Zahlungspflichtiger: Which company the did the booking ( most of the time duplicated infos form the purpose of use)\n",
    "\n",
    "\n"
   ]
  },
  {
   "cell_type": "code",
   "execution_count": 111,
   "metadata": {},
   "outputs": [
    {
     "name": "stdout",
     "output_type": "stream",
     "text": [
      "<class 'pandas.core.frame.DataFrame'>\n",
      "RangeIndex: 283 entries, 0 to 282\n",
      "Data columns (total 5 columns):\n",
      " #   Column                             Non-Null Count  Dtype \n",
      "---  ------                             --------------  ----- \n",
      " 0   Valutadatum                        283 non-null    object\n",
      " 1   Buchungstext                       283 non-null    object\n",
      " 2   Verwendungszweck                   283 non-null    object\n",
      " 3   Beguenstigter/Zahlungspflichtiger  276 non-null    object\n",
      " 4   Betrag                             283 non-null    object\n",
      "dtypes: object(5)\n",
      "memory usage: 11.2+ KB\n"
     ]
    }
   ],
   "source": [
    "data.info()"
   ]
  },
  {
   "cell_type": "markdown",
   "metadata": {},
   "source": [
    "- The data.info() shows us the  that Beguenstigter/Zahlungspflichtiger field hast NAN values. Lets discover what are they and wether other NaN values out there!"
   ]
  },
  {
   "cell_type": "code",
   "execution_count": 112,
   "metadata": {},
   "outputs": [
    {
     "data": {
      "text/html": [
       "<div>\n",
       "<style scoped>\n",
       "    .dataframe tbody tr th:only-of-type {\n",
       "        vertical-align: middle;\n",
       "    }\n",
       "\n",
       "    .dataframe tbody tr th {\n",
       "        vertical-align: top;\n",
       "    }\n",
       "\n",
       "    .dataframe thead th {\n",
       "        text-align: right;\n",
       "    }\n",
       "</style>\n",
       "<table border=\"1\" class=\"dataframe\">\n",
       "  <thead>\n",
       "    <tr style=\"text-align: right;\">\n",
       "      <th></th>\n",
       "      <th>Valutadatum</th>\n",
       "      <th>Buchungstext</th>\n",
       "      <th>Verwendungszweck</th>\n",
       "      <th>Beguenstigter/Zahlungspflichtiger</th>\n",
       "      <th>Betrag</th>\n",
       "    </tr>\n",
       "  </thead>\n",
       "  <tbody>\n",
       "    <tr>\n",
       "      <th>53</th>\n",
       "      <td>01.06.2022</td>\n",
       "      <td>ENTGELTABSCHLUSS</td>\n",
       "      <td>Entgeltabrechnungsiehe Anlage</td>\n",
       "      <td>NaN</td>\n",
       "      <td>-4</td>\n",
       "    </tr>\n",
       "    <tr>\n",
       "      <th>102</th>\n",
       "      <td>30.04.2022</td>\n",
       "      <td>ENTGELTABSCHLUSS</td>\n",
       "      <td>Entgeltabrechnungsiehe Anlage</td>\n",
       "      <td>NaN</td>\n",
       "      <td>-4</td>\n",
       "    </tr>\n",
       "    <tr>\n",
       "      <th>138</th>\n",
       "      <td>01.04.2022</td>\n",
       "      <td>ABSCHLUSS</td>\n",
       "      <td>Abrechnung XX.XX.XXXXsiehe Anlage</td>\n",
       "      <td>NaN</td>\n",
       "      <td>0</td>\n",
       "    </tr>\n",
       "    <tr>\n",
       "      <th>139</th>\n",
       "      <td>01.04.2022</td>\n",
       "      <td>ENTGELTABSCHLUSS</td>\n",
       "      <td>Entgeltabrechnungsiehe Anlage</td>\n",
       "      <td>NaN</td>\n",
       "      <td>-6,85</td>\n",
       "    </tr>\n",
       "    <tr>\n",
       "      <th>184</th>\n",
       "      <td>29.02.2022</td>\n",
       "      <td>ENTGELTABSCHLUSS</td>\n",
       "      <td>Entgeltabrechnungsiehe Anlage</td>\n",
       "      <td>NaN</td>\n",
       "      <td>-4</td>\n",
       "    </tr>\n",
       "    <tr>\n",
       "      <th>227</th>\n",
       "      <td>01.02.2022</td>\n",
       "      <td>ENTGELTABSCHLUSS</td>\n",
       "      <td>Entgeltabrechnungsiehe Anlage</td>\n",
       "      <td>NaN</td>\n",
       "      <td>-4</td>\n",
       "    </tr>\n",
       "    <tr>\n",
       "      <th>282</th>\n",
       "      <td>01.01.2022</td>\n",
       "      <td>ABSCHLUSS</td>\n",
       "      <td>Abrechnung XX.XX.XXXXsiehe Anlage</td>\n",
       "      <td>NaN</td>\n",
       "      <td>0</td>\n",
       "    </tr>\n",
       "  </tbody>\n",
       "</table>\n",
       "</div>"
      ],
      "text/plain": [
       "    Valutadatum      Buchungstext                   Verwendungszweck  \\\n",
       "53   01.06.2022  ENTGELTABSCHLUSS      Entgeltabrechnungsiehe Anlage   \n",
       "102  30.04.2022  ENTGELTABSCHLUSS      Entgeltabrechnungsiehe Anlage   \n",
       "138  01.04.2022         ABSCHLUSS  Abrechnung XX.XX.XXXXsiehe Anlage   \n",
       "139  01.04.2022  ENTGELTABSCHLUSS      Entgeltabrechnungsiehe Anlage   \n",
       "184  29.02.2022  ENTGELTABSCHLUSS      Entgeltabrechnungsiehe Anlage   \n",
       "227  01.02.2022  ENTGELTABSCHLUSS      Entgeltabrechnungsiehe Anlage   \n",
       "282  01.01.2022         ABSCHLUSS  Abrechnung XX.XX.XXXXsiehe Anlage   \n",
       "\n",
       "    Beguenstigter/Zahlungspflichtiger Betrag  \n",
       "53                                NaN     -4  \n",
       "102                               NaN     -4  \n",
       "138                               NaN      0  \n",
       "139                               NaN  -6,85  \n",
       "184                               NaN     -4  \n",
       "227                               NaN     -4  \n",
       "282                               NaN      0  "
      ]
     },
     "execution_count": 112,
     "metadata": {},
     "output_type": "execute_result"
    }
   ],
   "source": [
    "data[data.isna().any(axis=1)]"
   ]
  },
  {
   "cell_type": "markdown",
   "metadata": {},
   "source": [
    "- The values represents the bank fees. we can delete them cause they are not relevant to the main goal of the Analysis"
   ]
  },
  {
   "cell_type": "code",
   "execution_count": 113,
   "metadata": {},
   "outputs": [],
   "source": [
    "data.dropna(inplace=True)"
   ]
  },
  {
   "cell_type": "code",
   "execution_count": 114,
   "metadata": {},
   "outputs": [
    {
     "data": {
      "text/html": [
       "<div>\n",
       "<style scoped>\n",
       "    .dataframe tbody tr th:only-of-type {\n",
       "        vertical-align: middle;\n",
       "    }\n",
       "\n",
       "    .dataframe tbody tr th {\n",
       "        vertical-align: top;\n",
       "    }\n",
       "\n",
       "    .dataframe thead th {\n",
       "        text-align: right;\n",
       "    }\n",
       "</style>\n",
       "<table border=\"1\" class=\"dataframe\">\n",
       "  <thead>\n",
       "    <tr style=\"text-align: right;\">\n",
       "      <th></th>\n",
       "      <th>Valutadatum</th>\n",
       "      <th>Buchungstext</th>\n",
       "      <th>Verwendungszweck</th>\n",
       "      <th>Beguenstigter/Zahlungspflichtiger</th>\n",
       "      <th>Betrag</th>\n",
       "    </tr>\n",
       "  </thead>\n",
       "  <tbody>\n",
       "  </tbody>\n",
       "</table>\n",
       "</div>"
      ],
      "text/plain": [
       "Empty DataFrame\n",
       "Columns: [Valutadatum, Buchungstext, Verwendungszweck, Beguenstigter/Zahlungspflichtiger, Betrag]\n",
       "Index: []"
      ]
     },
     "execution_count": 114,
     "metadata": {},
     "output_type": "execute_result"
    }
   ],
   "source": [
    "# Validation of other NAN values exists\n",
    "data[data.isna().any(axis=1)]"
   ]
  },
  {
   "cell_type": "markdown",
   "metadata": {},
   "source": [
    "- lets delete the not needed columns and rename the needed ones"
   ]
  },
  {
   "cell_type": "code",
   "execution_count": 115,
   "metadata": {},
   "outputs": [],
   "source": [
    "#data.drop('Beguenstigter/Zahlungspflichtiger', inplace=True, axis=1)\n",
    "data=data.rename(columns={'Valutadatum':'Date of value', \"Verwendungszweck\" : \"Purpose of use\",\n",
    "                          \"Betrag\":\"Booking amount\",\"Buchungstext\":\"Booking text\"})"
   ]
  },
  {
   "cell_type": "markdown",
   "metadata": {},
   "source": [
    "- Date of value has a string value but since its a date we will convert it through dattotime to ... data type to work with it easier\n",
    "- The Booking amount is a string so we have to change it to numbers(float or int) so we can work with it. I would not calculating the booked cents in the analysis so I will reform it to float type at first then to int"
   ]
  },
  {
   "cell_type": "code",
   "execution_count": 116,
   "metadata": {},
   "outputs": [],
   "source": [
    "# our current Date Format: \"%d.%m.%Y\"\n",
    "data['Date of value']=pd.to_datetime(data['Date of value'],format='%d.%m.%Y')\n",
    "data['Booking amount'] = data['Booking amount'].str.replace(',', '.').astype(float)\n",
    "data['Booking amount'] = data['Booking amount'].round(0).astype(int)\n"
   ]
  },
  {
   "cell_type": "code",
   "execution_count": 117,
   "metadata": {},
   "outputs": [
    {
     "data": {
      "text/plain": [
       "0      -3\n",
       "1     -50\n",
       "2      -7\n",
       "3      -5\n",
       "4     -14\n",
       "       ..\n",
       "277   -45\n",
       "278    12\n",
       "279   -45\n",
       "280   -45\n",
       "281   -20\n",
       "Name: Booking amount, Length: 276, dtype: int32"
      ]
     },
     "execution_count": 117,
     "metadata": {},
     "output_type": "execute_result"
    }
   ],
   "source": [
    "#checking wether booking ammounts are INT\n",
    "data['Booking amount']"
   ]
  },
  {
   "cell_type": "markdown",
   "metadata": {},
   "source": [
    "- as you can see we have only dates and since we are doing yearly analysis we need only the month values from the Date:\n"
   ]
  },
  {
   "cell_type": "code",
   "execution_count": 118,
   "metadata": {},
   "outputs": [
    {
     "data": {
      "text/html": [
       "<div>\n",
       "<style scoped>\n",
       "    .dataframe tbody tr th:only-of-type {\n",
       "        vertical-align: middle;\n",
       "    }\n",
       "\n",
       "    .dataframe tbody tr th {\n",
       "        vertical-align: top;\n",
       "    }\n",
       "\n",
       "    .dataframe thead th {\n",
       "        text-align: right;\n",
       "    }\n",
       "</style>\n",
       "<table border=\"1\" class=\"dataframe\">\n",
       "  <thead>\n",
       "    <tr style=\"text-align: right;\">\n",
       "      <th></th>\n",
       "      <th>Date of value</th>\n",
       "      <th>Booking text</th>\n",
       "      <th>Purpose of use</th>\n",
       "      <th>Beguenstigter/Zahlungspflichtiger</th>\n",
       "      <th>Booking amount</th>\n",
       "      <th>Month</th>\n",
       "    </tr>\n",
       "  </thead>\n",
       "  <tbody>\n",
       "    <tr>\n",
       "      <th>0</th>\n",
       "      <td>2022-06-30</td>\n",
       "      <td>ONLINE-UEBERWEISUNG</td>\n",
       "      <td>SVWZ+XNXTLVX PAYOPDATUM XX.XX.XXXX, XX.XX UHRI...</td>\n",
       "      <td>PPRO Payment Services SA</td>\n",
       "      <td>-3</td>\n",
       "      <td>June</td>\n",
       "    </tr>\n",
       "    <tr>\n",
       "      <th>1</th>\n",
       "      <td>2022-06-30</td>\n",
       "      <td>KARTENZAHLUNG</td>\n",
       "      <td>SVWZ+XXXX-XX-XXTXX.XXDebitk.X XXXX-XXABWA+OSAK...</td>\n",
       "      <td>Osakii Mainz GmbH</td>\n",
       "      <td>-50</td>\n",
       "      <td>June</td>\n",
       "    </tr>\n",
       "    <tr>\n",
       "      <th>2</th>\n",
       "      <td>2022-06-29</td>\n",
       "      <td>KARTENZAHLUNG</td>\n",
       "      <td>SVWZ+XXXX-XX-XXTXX.XXDebitk.X XXXX-XXABWA+SumU...</td>\n",
       "      <td>Landesbank Hessen-Thuringen Girozentrale</td>\n",
       "      <td>-7</td>\n",
       "      <td>June</td>\n",
       "    </tr>\n",
       "    <tr>\n",
       "      <th>3</th>\n",
       "      <td>2022-06-29</td>\n",
       "      <td>FOLGELASTSCHRIFT</td>\n",
       "      <td>EREF+XXXXXXXXXXXXX PP.XXXX.PP PAYPALMREF+XJTJX...</td>\n",
       "      <td>PayPal (Europe) S.a r.l. et Cie, S.C.A.</td>\n",
       "      <td>-5</td>\n",
       "      <td>June</td>\n",
       "    </tr>\n",
       "    <tr>\n",
       "      <th>4</th>\n",
       "      <td>2022-06-28</td>\n",
       "      <td>KARTENZAHLUNG</td>\n",
       "      <td>SVWZ+XXXX-XX-XXTXX.XXDebitk.X XXXX-XXABWA+REST...</td>\n",
       "      <td>RESTAURANT SAMAN</td>\n",
       "      <td>-14</td>\n",
       "      <td>June</td>\n",
       "    </tr>\n",
       "    <tr>\n",
       "      <th>...</th>\n",
       "      <td>...</td>\n",
       "      <td>...</td>\n",
       "      <td>...</td>\n",
       "      <td>...</td>\n",
       "      <td>...</td>\n",
       "      <td>...</td>\n",
       "    </tr>\n",
       "    <tr>\n",
       "      <th>277</th>\n",
       "      <td>2022-01-03</td>\n",
       "      <td>BARGELDAUSZAHLUNG</td>\n",
       "      <td>SVWZ+XXXX-XX-XXTXX.XXDebitk.X XXXX-XXABWA+STAD...</td>\n",
       "      <td>SPARKASSE MAINZ</td>\n",
       "      <td>-45</td>\n",
       "      <td>January</td>\n",
       "    </tr>\n",
       "    <tr>\n",
       "      <th>278</th>\n",
       "      <td>2022-01-03</td>\n",
       "      <td>GUTSCHR. UEBERWEISUNG</td>\n",
       "      <td>EREF+YYWXXXXXXXXXXXXX PAYPALSVWZ+. Takeaway.co...</td>\n",
       "      <td>PayPal (Europe) S.a.r.l. et Cie., S.C.A.</td>\n",
       "      <td>12</td>\n",
       "      <td>January</td>\n",
       "    </tr>\n",
       "    <tr>\n",
       "      <th>279</th>\n",
       "      <td>2022-01-03</td>\n",
       "      <td>BARGELDAUSZAHLUNG</td>\n",
       "      <td>SVWZ+XXXX-XX-XXTXX.XXDebitk.X XXXX-XXABWA+STAD...</td>\n",
       "      <td>SPARKASSE MAINZ</td>\n",
       "      <td>-45</td>\n",
       "      <td>January</td>\n",
       "    </tr>\n",
       "    <tr>\n",
       "      <th>280</th>\n",
       "      <td>2022-01-03</td>\n",
       "      <td>BARGELDAUSZAHLUNG</td>\n",
       "      <td>SVWZ+XXXX-XX-XXTXX.XXDebitk.X XXXX-XXABWA+MAIN...</td>\n",
       "      <td>SPARKASSE MAINZ</td>\n",
       "      <td>-45</td>\n",
       "      <td>January</td>\n",
       "    </tr>\n",
       "    <tr>\n",
       "      <th>281</th>\n",
       "      <td>2022-01-03</td>\n",
       "      <td>FOLGELASTSCHRIFT</td>\n",
       "      <td>EREF+MZXXX--XXXX-XXXXXXXMREF+MLREFMZXXXXXXXXCR...</td>\n",
       "      <td>RSG Group GmbH</td>\n",
       "      <td>-20</td>\n",
       "      <td>January</td>\n",
       "    </tr>\n",
       "  </tbody>\n",
       "</table>\n",
       "<p>276 rows × 6 columns</p>\n",
       "</div>"
      ],
      "text/plain": [
       "    Date of value           Booking text  \\\n",
       "0      2022-06-30    ONLINE-UEBERWEISUNG   \n",
       "1      2022-06-30          KARTENZAHLUNG   \n",
       "2      2022-06-29          KARTENZAHLUNG   \n",
       "3      2022-06-29       FOLGELASTSCHRIFT   \n",
       "4      2022-06-28          KARTENZAHLUNG   \n",
       "..            ...                    ...   \n",
       "277    2022-01-03      BARGELDAUSZAHLUNG   \n",
       "278    2022-01-03  GUTSCHR. UEBERWEISUNG   \n",
       "279    2022-01-03      BARGELDAUSZAHLUNG   \n",
       "280    2022-01-03      BARGELDAUSZAHLUNG   \n",
       "281    2022-01-03       FOLGELASTSCHRIFT   \n",
       "\n",
       "                                        Purpose of use  \\\n",
       "0    SVWZ+XNXTLVX PAYOPDATUM XX.XX.XXXX, XX.XX UHRI...   \n",
       "1    SVWZ+XXXX-XX-XXTXX.XXDebitk.X XXXX-XXABWA+OSAK...   \n",
       "2    SVWZ+XXXX-XX-XXTXX.XXDebitk.X XXXX-XXABWA+SumU...   \n",
       "3    EREF+XXXXXXXXXXXXX PP.XXXX.PP PAYPALMREF+XJTJX...   \n",
       "4    SVWZ+XXXX-XX-XXTXX.XXDebitk.X XXXX-XXABWA+REST...   \n",
       "..                                                 ...   \n",
       "277  SVWZ+XXXX-XX-XXTXX.XXDebitk.X XXXX-XXABWA+STAD...   \n",
       "278  EREF+YYWXXXXXXXXXXXXX PAYPALSVWZ+. Takeaway.co...   \n",
       "279  SVWZ+XXXX-XX-XXTXX.XXDebitk.X XXXX-XXABWA+STAD...   \n",
       "280  SVWZ+XXXX-XX-XXTXX.XXDebitk.X XXXX-XXABWA+MAIN...   \n",
       "281  EREF+MZXXX--XXXX-XXXXXXXMREF+MLREFMZXXXXXXXXCR...   \n",
       "\n",
       "            Beguenstigter/Zahlungspflichtiger  Booking amount    Month  \n",
       "0                    PPRO Payment Services SA              -3     June  \n",
       "1                           Osakii Mainz GmbH             -50     June  \n",
       "2    Landesbank Hessen-Thuringen Girozentrale              -7     June  \n",
       "3     PayPal (Europe) S.a r.l. et Cie, S.C.A.              -5     June  \n",
       "4                            RESTAURANT SAMAN             -14     June  \n",
       "..                                        ...             ...      ...  \n",
       "277                           SPARKASSE MAINZ             -45  January  \n",
       "278  PayPal (Europe) S.a.r.l. et Cie., S.C.A.              12  January  \n",
       "279                           SPARKASSE MAINZ             -45  January  \n",
       "280                           SPARKASSE MAINZ             -45  January  \n",
       "281                            RSG Group GmbH             -20  January  \n",
       "\n",
       "[276 rows x 6 columns]"
      ]
     },
     "execution_count": 118,
     "metadata": {},
     "output_type": "execute_result"
    }
   ],
   "source": [
    "data[\"Month\"]=data[\"Date of value\"].dt.month_name()\n",
    "data"
   ]
  },
  {
   "cell_type": "markdown",
   "metadata": {},
   "source": [
    "- To know which money has been gained and which money has been spent. we seperate the negative from the positive values in the Booking amount attribute"
   ]
  },
  {
   "cell_type": "code",
   "execution_count": 119,
   "metadata": {},
   "outputs": [],
   "source": [
    "mask=data['Booking amount']<0\n",
    "data['Money_Earned']=data['Booking amount'].mask(mask)\n",
    "data['Money_Spent']=data['Booking amount'].mask(~mask)"
   ]
  },
  {
   "cell_type": "code",
   "execution_count": 120,
   "metadata": {},
   "outputs": [
    {
     "data": {
      "text/plain": [
       "array([  nan, 2359.,   84.,   56.,  451.,  861.,  111.,   92.,   12.])"
      ]
     },
     "execution_count": 120,
     "metadata": {},
     "output_type": "execute_result"
    }
   ],
   "source": [
    "data.Money_Earned.unique()"
   ]
  },
  {
   "cell_type": "markdown",
   "metadata": {},
   "source": [
    "- lets have a look at purpose of use and try to find out keywords that helps to distinguish the Amount of booked money"
   ]
  },
  {
   "cell_type": "code",
   "execution_count": 121,
   "metadata": {
    "scrolled": true
   },
   "outputs": [
    {
     "data": {
      "text/plain": [
       "array(['SVWZ+XNXTLVX PAYOPDATUM XX.XX.XXXX, XX.XX UHRIliketoTrollyou',\n",
       "       'SVWZ+XXXX-XX-XXTXX.XXDebitk.X XXXX-XXABWA+OSAKII MAINZ GMBH//MAINZ/DeIliketoTrollyou',\n",
       "       'SVWZ+XXXX-XX-XXTXX.XXDebitk.X XXXX-XXABWA+SumUp .Gernfusion//Mainz/DE/X',\n",
       "       'EREF+XXXXXXXXXXXXX PP.XXXX.PP PAYPALMREF+XJTJXXXVDLSZXCRED+LUXXZZZXXXXXXXXXXXXXXXXXXXSVWZ+XXXXXXXXXXXXX PP.XXXX.PP',\n",
       "       'SVWZ+XXXX-XX-XXTXX.XXDebitk.X XXXX-XXABWA+RESTAURANT AYAM SAMAN//MAINZ/DE',\n",
       "       'SVWZ+XXXX-XX-XXTXX.XXDebitk.X XXXX-XXABWA+CHIDOBA MEXICAN GRILL//Mainz/DE',\n",
       "       'SVWZ+XXXX-XX-XXTXX.XXDebitk.X XXXX-XXABWA+REWE SAGT DANKE. XXXXXXXX//Mainz/DE',\n",
       "       'SVWZ+XXXX-XX-XXTXX.XXDebitk.X XXXX-XXABWA+REWE SAGT DANKE. XXXXXXXX//Mainz a.Rhein Hart/DE',\n",
       "       'SVWZ+XXXX-XX-XXTXX.XXDebitk.X XXXX-XXABWA+DIE LOHNER S//MAINZ/DE',\n",
       "       'Lohn/Gehalt',\n",
       "       'SVWZ+XXXX-XX-XXTXX.XXDebitk.X XXXX-XXABWA+UNIVEXXX//RHEINHESSENSPARKASSE/DE',\n",
       "       'EREF+XXXXXXXXXXXXX PP.XXXX.PP PAYPALMREF+XJTJXXXVDLSZXCRED+LUXXZZZXXXXXXXXXXXXXXXXXXXSVWZ+PP.XXXX.PP . , Ihr Einkauf bei',\n",
       "       'EREF+XXXXXXXXXXXXX PP.XXXX.PP PAYPALMREF+XJTJXXXVDLSZXCRED+LUXXZZZXXXXXXXXXXXXXXXXXXXSVWZ+PP.XXXX.PP . Takeaway.com Payments B.V., Ihr Einkauf bei Takeaway.com Payments B.V.',\n",
       "       'SVWZ+XXXX-XX-XXTXX.XXDebitk.X XXXX-XXABWA+REWE TO GO SAGT DANKE.//Mainz/DE',\n",
       "       'SVWZ+XXXX-XX-XXTXX.XXDebitk.X XXXX-XXABWA+CA//Mainz/DE',\n",
       "       'SVWZ+XXXX-XX-XXTXX.XXDebitk.X XXXX-XXABWA+MAINZ X (INNENSTADT//MAINZ/DE',\n",
       "       'SVWZ+XXXX-XX-XXTXX.XXDebitk.X XXXX-XXABWA+Rooster Mainz GIR XXXXXXXX//MAINZ/DE',\n",
       "       'SVWZ+XXXX-XX-XXTXX.XXDebitk.X XXXX-XXABWA+AMDOMXXX//RHEINHESSENSPARKASSE/DE',\n",
       "       'SVWZ+XXXX-XX-XXTXX.XXDebitk.X XXXX-XXABWA+EL BURRO GASTRONOMIE GMBH//MAINZ/DE',\n",
       "       'SVWZ+XXXX-XX-XXTXX.XXDebitk.X XXXX-XXABWA+OSAKII MAINZ GMBH//MAINZ/DE',\n",
       "       'SVWZ+XXXX-XX-XXTXX.XXDebitk.X XXXX-XXABWA+MAINZXXX//RHEINHESSENSPARKASSE/DE',\n",
       "       'EREF+XMDLZVHXMAPLCGUVMREF+DXe+AXFjOVAy,JIiIcAKTGh-XXNvKYCRED+DEXXZZZXXXXXXXXXXXSVWZ+DXX-XXXXXXX-XXXXXXX AMZNPrime DE XMDLZVHXMAPLCGUV',\n",
       "       'SVWZ+XXXX-XX-XXTXX.XXDebitk.X XXXX-XX Bargeldausz. XX,XX EURABWA+REWE SAGT DANKE. XXXXXXXX//Mainz/DE',\n",
       "       'EREF+XXXGXNXMREF+PQXCUCBCEXYOXEIXCRED+DEXXXXXXXXXXXXXXXXSVWZ+www.DeepL.com by Stripe via PPRO - DEEPL.COM DP-XXXXXXXABWA+PPRO Payment ServicesS.A.',\n",
       "       'EREF+XXXXXXXXXXXXX PP.XXXX.PP PAYPALMREF+XJTJXXXVDLSZXCRED+LUXXZZZXXXXXXXXXXXXXXXXXXXSVWZ+PP.XXXX.PP . C + A Mode GmbH + Co. KG, Ihr Einkauf bei C + A Mode GmbH + Co. KG',\n",
       "       'SVWZ+',\n",
       "       'SVWZ+XXXX-XX-XXTXX.XXDebitk.X XXXX-XXABWA+YORMA S AG//PLATTLING/DE',\n",
       "       'SVWZ+XXXX-XX-XXTXX.XXDebitk.X XXXX-XXABWA+DIE WAFFEL//MAINZ/DE',\n",
       "       'EREF+X-XXXXXXXMREF+XXXXXCRED+DEXXSWMXXXXXXXXXXXSVWZ+XXXXXX Abr XX.XX XXXXXX.ZNBXXXXXXXX XXX,XX GMABWA+Studierendenwerk Mainz',\n",
       "       'SVWZ+XXXX-XX-XXTXX.XXDebitk.X XXXX-XXABWA+XXXXX MCDONALDS//FRANKFURT/DE',\n",
       "       'SVWZ+XXXX-XX-XXTXX.XXDebitk.X XXXX-XXABWA+MCDONALD S DEUTSCHLAND LLC//MUENCHEN/DE',\n",
       "       'EREF+XXXXXXXXXXXXXXXXXXXXXXXXXXXXRCURMREF+TXXXXXXXBXXXXXXXXXXXXXXXCRED+DEXXXXXXXXXXXXXXXXSVWZ+Kd-Nr.. XXXXXXXXXX, Rg-Nr.. XXXXXXXXXX/X, Ihre Tarifrechnung',\n",
       "       'SVWZ+XXXX-XX-XXTXX.XXDebitk.X XXXX-XXABWA+SumUp .CMG XXX GmbH//Mainz/DE/X',\n",
       "       'SVWZ+XXXX-XX-XXTXX.XXDebitk.X XXXX-XXABWA+DETEY DISTRIB//PARIS/FR/X',\n",
       "       'SVWZ+XXXX-XX-XXTXX.XXDebitk.X XXXX-XXABWA+PATISSERIE AMOUD//PARIS/FR/X',\n",
       "       'EREF+XXXXXXXXXXXXX PP.XXXX.PP PAYPALMREF+XJTJXXXVDLSZXCRED+LUXXZZZXXXXXXXXXXXXXXXXXXXSVWZ+PP.XXXX.PP . DB Vertrieb GmbH, Ihr Einkauf bei DB Vertrieb GmbH',\n",
       "       'EREF+MZXXX--XXXX-XXXXXXXMREF+MLREFMZXXXXXXXXCRED+DEXXZZZXXXXXXXXXXXSVWZ+MZXXX--XXXX-XXXXXXX MZXXX-XXXXXXXX McFIT. Herbstspecial XX,X XX.XX.XX-XX.XX.XX',\n",
       "       'SVWZ+XXXX-XX-XXTXX.XXDebitk.X XXXX-XXABWA+REWE SAGT DANKE. XXXXXXXX//Mainz Mitte/DE',\n",
       "       'EREF+YYWXXXXXXXXXXXXX PAYPALSVWZ+. DB Vertrieb GmbH, Ihr Einkauf bei DB Vertrieb GmbH ABBUCHUNG VOM PAYPAL-KONTO',\n",
       "       'EREF+YYWXXXXXXXXXXXXX PAYPALSVWZ+. OMIO GOEURO, Ihr Einkauf bei OMIO GOEURO ABBUCHUNG VOM PAYPAL-KONTO',\n",
       "       'EREF+',\n",
       "       'SVWZ+XXXX-XX-XXTXX.XXDebitk.X XXXX-XXABWA+STADTXXX//RHEINHESSENSPARKASSE/DE',\n",
       "       'EREF+XXXXXXXXXXXXX PAYPALMREF+XJTJXXXVDLSZXCRED+LUXXZZZXXXXXXXXXXXXXXXXXXXSVWZ+. OMIO GOEURO, Ihr Einkauf bei OMIO GOEURO',\n",
       "       'SVWZ+XXXX-XX-XXTXX.XXDebitk.X XXXX-XXABWA+M Restaurant GmbH//Frankfurt/DE',\n",
       "       'SVWZ+XXXX-XX-XXTXX.XXDebitk.X XXXX-XXABWA+BK JULIEN GMBH//MAINZ/DE',\n",
       "       'SVWZ+BFS-Nr. X-XXXXX-XXXXXXXX, Jehan Hussein DATUM XX.XX.XXXX, XX.XX UHR',\n",
       "       'SVWZ+Lohn/Gehalt XXXXXXXX/XXXXXX',\n",
       "       'SVWZ+XXXX-XX-XXTXX.XXDebitk.X XXXX-XXABWA+SumUp .BackSalad//Mainz/DE/X',\n",
       "       'SVWZ+XXXX-XX-XXTXX.XXDebitk.X XXXX-XXABWA+DIRK ROSSMANN GMBH//MAINZ/DE',\n",
       "       'SVWZ+XXXX-XX-XXTXX.XXDebitk.X XXXX-XXABWA+Gokhan Sanli//Mainz/DE',\n",
       "       'SVWZ+XXXX-XX-XXTXX.XXDebitk.X XXXX-XXABWA+BERLINER GEMUESE KEBAP//Mainz/DE',\n",
       "       'EREF+XADCPSXSNNXSXXKUMREF+DXe+AXFjOVAy,JIiIcAKTGh-XXNvKYCRED+DEXXZZZXXXXXXXXXXXSVWZ+DXX-XXXXXXX-XXXXXXX AMZNPrime DE XADCPSXSNNXSXXKU',\n",
       "       'EREF+XXXXXXXXXX OB-YXXXXXXXXXMREF+XXXXXXXXXXXXXXXXCRED+DEXXZZZXXXXXXXXXXXSVWZ+XXXXXXXXXX OB-YXXXXXXXXX EUR XXX,XX BEITRAG XXXX- XXXXABWA+Hanseatische Krankenkasse',\n",
       "       'EREF+X-XXXXXXXMREF+XXXXXCRED+DEXXSWMXXXXXXXXXXXSVWZ+XXXXXX Abr XX.XX XXXXXX.RXXXXXXXXXX XXX,XX GMABWA+Studierendenwerk Mainz',\n",
       "       'SVWZ+XXXX-XX-XXTXX.XXDebitk.X XXXX-XXABWA+PICTUREPEOPLE//Mainz/DE',\n",
       "       'SVWZ+XXXXX-XXXXX-XXXXXXXDATUM XX.XX.XXXX, XX.XX UHR',\n",
       "       'SVWZ+XXXX-XX-XXTXX.XXDebitk.X XXXX-XXABWA+Bali Bistro Mainz//Mainz/DE/X',\n",
       "       'SVWZ+XXXX-XX-XXTXX.XXDebitk.X XXXX-XXABWA+DEICHMANN - Schuhe//Mainz/DE',\n",
       "       'SVWZ+XXXX-XX-XXTXX.XXDebitk.X XXXX-XXABWA+Spices Kitchen BX GmbH GIR XXXXXXXX//MAINZ/DE',\n",
       "       'EREF+MZXXX--XXXX-XXXXXXXMREF+MLREFMZXXXXXXXXCRED+DEXXZZZXXXXXXXXXXXSVWZ+Neuer Monatsbeitrag. Falls kein Einverstaendnis erteilt, Einzug widersprechen oder Kontaktformular aufWebsite nutzen. MZXXX--XXXX-XXXXXXX M',\n",
       "       'SVWZ+XXXX-XX-XXTXX.XXDebitk.X XXXX-XXABWA+BAHNHOF APOTHEKE//MAINZ/DE',\n",
       "       'SVWZ+XXXX-XX-XXTXX.XXDebitk.X XXXX-XXABWA+ALDI SE U. CO. KG//MAINZ/DE',\n",
       "       'SVWZ+XXXX-XX-XXTXX.XXDebitk.X XXXX-XXABWA+GOURMET BELLEBAUM + HEBEL GMBH//SIEGEN/DE',\n",
       "       'SVWZ+XXXX-XX-XXTXX.XXDebitk.X XXXX-XXABWA+Starbucks XXXXX Mainz//Mainz/DE/X',\n",
       "       'EREF+OXQSBXXDGXXBZQITMREF+DXe+AXFjOVAy,JIiIcAKTGh-XXNvKYCRED+DEXXZZZXXXXXXXXXXXSVWZ+DXX-XXXXXXX-XXXXXXX AMZNPrime DE OXQSBXXDGXXBZQIT',\n",
       "       'EREF+FAEWXXXBXHFNPGADMREF+DXe+AXFjOVAy,JIiIcAKTGh-XXNvKYCRED+DEXXZZZXXXXXXXXXXXSVWZ+XXX-XXXXXXX-XXXXXXX AMZN Mktp DE FAEWXXXBXHFNPGAD',\n",
       "       'SVWZ+XXXX-XX-XXTXX.XXDebitk.X XXXX-XXABWA+DIJONXXX//RHEINHESSENSPARKASSE/DE',\n",
       "       'SVWZ+DUXXXXXXXAXDATUM XX.XX.XXXX, XX.XX UHR',\n",
       "       'SVWZ+Danke HabubDATUM XX.XX.XXXX, XX.XX UHR',\n",
       "       'SVWZ+XXXX-XX-XXTXX.XXDebitk.X XXXX-XXABWA+PENNY SAGT DANKE. XXXXXXXX//Mainz/DE',\n",
       "       'EREF+X-XXXXXXXMREF+XXXXXCRED+DEXXSWMXXXXXXXXXXXSVWZ+XXXXXX Abr XX.XX XXXXXX.HJUXXXXXXXX XXX,XX GMABWA+Studierendenwerk Mainz',\n",
       "       'EREF+XXXXXXXXXXXXX PAYPALMREF+XJTJXXXVDLSZXCRED+LUXXZZZXXXXXXXXXXXXXXXXXXXSVWZ+. Uber Payments BV, Ihr Einkauf bei Uber Payments BV',\n",
       "       'EREF+XXXXXXXXXXXXX PP.XXXX.PP PAYPALMREF+XJTJXXXVDLSZXCRED+LUXXZZZXXXXXXXXXXXXXXXXXXXSVWZ+PP.XXXX.PP . Spotify AB, Ihr Einkauf bei SpotifyAB',\n",
       "       'EREF+XXXXXXXXXXXXX PP.XXXX.PP PAYPALMREF+XJTJXXXVDLSZXCRED+LUXXZZZXXXXXXXXXXXXXXXXXXXSVWZ+PP.XXXX.PP . Masahikocoo .,LLC, Ihr Einkauf bei Masahikocoo .,LLC',\n",
       "       'EREF+XMFXDQLGNOXXNHXGMREF+DXe+AXFjOVAy,JIiIcAKTGh-XXNvKYCRED+DEXXZZZXXXXXXXXXXXSVWZ+XXX-XXXXXXX-XXXXXXX AMZN Mktp DE XMFXDQLGNOXXNHXG',\n",
       "       'EREF+XSXFJXOCXVRLXWTUMREF+DXe+AXFjOVAy,JIiIcAKTGh-XXNvKYCRED+DEXXZZZXXXXXXXXXXXSVWZ+XXX-XXXXXXX-XXXXXXX AMZN Mktp DE XSXFJXOCXVRLXWTU',\n",
       "       'EREF+XPXSEDCUKFOPGNWWMREF+DXe+AXFjOVAy,JIiIcAKTGh-XXNvKYCRED+DEXXZZZXXXXXXXXXXXSVWZ+XXX-XXXXXXX-XXXXXXX AMZN Mktp DE XPXSEDCUKFOPGNWW',\n",
       "       'SVWZ+XXXX-XX-XXTXX.XXDebitk.X XXXX-XXABWA+ECGXXXXXSTARBUCX//PARIS/FR/X',\n",
       "       'SVWZ+XXXX-XX-XXTXX.XXDebitk.X XXXX-XXABWA+PATHE CONVENTION//PARIS XX/FR/X',\n",
       "       'SVWZ+XXXX-XX-XXTXX.XXDebitk.X XXXX-XXABWA+MARIE DELICES//PARIS XX/FR/X',\n",
       "       'EREF+XXWQXIHSKBXTXWXQMREF+DXe+AXFjOVAy,JIiIcAKTGh-XXNvKYCRED+DEXXZZZXXXXXXXXXXXSVWZ+DXX-XXXXXXX-XXXXXXX AMZNPrime DE XXWQXIHSKBXTXWXQ',\n",
       "       'SVWZ+Laut Absprache',\n",
       "       'EREF+XXXXXXXXXXXXX PAYPALMREF+XJTJXXXVDLSZXCRED+LUXXZZZXXXXXXXXXXXXXXXXXXXSVWZ+. Uber, Ihr Einkauf bei Uber',\n",
       "       'SVWZ+XXXX-XX-XXTXX.XXDebitk.X XXXX-XXABWA+R CO//PARIS/FR/X',\n",
       "       'SVWZ+XXXX-XX-XXTXX.XXDebitk.X XXXX-XXABWA+FRANPRIX//PARIS/FR/X',\n",
       "       'SVWZ+XXXX-XX-XXTXX.XXDebitk.X XXXX-XXABWA+SC-MAW ADE//PARIS/FR/X',\n",
       "       'SVWZ+XXXX-XX-XXTXX.XXDebitk.X XXXX-XXABWA+THYM ET OLIVE//PARIS/FR/X',\n",
       "       'SVWZ+XXXX-XX-XXTXX.XXDebitk.X XXXX-XXABWA+MONOPRIX//PARIS XX/FR/X',\n",
       "       'EREF+X-XXXXXXXMREF+XXXXXCRED+DEXXSWMXXXXXXXXXXXSVWZ+XXXXXX Abr XX.XX XXXXXX.DMXXXXXXXXX XXX,XX GMABWA+Studierendenwerk Mainz',\n",
       "       'SVWZ+XXXX-XX-XXTXX.XXDebitk.X XXXX-XXABWA+NETTO MARKEN-DISCOU//MAINZ/DE',\n",
       "       'EREF',\n",
       "       'SVWZ+XXXX-XX-XXTXX.XXDebitk.X XXXX-XXABWA+Zenz Wirtshaus GmbH//Mainz/DE',\n",
       "       'Bezuege',\n",
       "       'SVWZ+XXXX-XX-XXTXX.XXDebitk.X XXXX-XXABWA+ADDIS ABEBAYE//MAINZ/DE',\n",
       "       'SVWZ+BFS-Nr. X-XXXXX-XXXXXXXX, Jehan HusseinDATUM XX.XX.XXXX, XX.XX UHR',\n",
       "       'SVWZ+XXXX-XX-XXTXX.XXDebitk.X XXXX-XXABWA+Gunay Market Mainz//Mainz a Rhein/DE',\n",
       "       'SVWZ+XXXX-XX-XXTXX.XXDebitk.X XXXX-XXABWA+BURGERLADEN//MAINZ/DE',\n",
       "       'EREF+XXXXXXXXXXXXX PAYPALMREF+XJTJXXXVDLSZXCRED+LUXXZZZXXXXXXXXXXXXXXXXXXXSVWZ+. Epoch EU Ltd, Ihr Einkauf bei Epoch EU Ltd',\n",
       "       'EREF+XXXEXXSDNXLBORXWMREF+DXe+AXFjOVAy,JIiIcAKTGh-XXNvKYCRED+DEXXZZZXXXXXXXXXXXSVWZ+DXX-XXXXXXX-XXXXXXX AMZNPrime DE XXXEXXSDNXLBORXW',\n",
       "       'EREF+X-XXXXXXXMREF+XXXXXCRED+DEXXSWMXXXXXXXXXXXSVWZ+XXXXXX Abr XX.XX XXXXXX.XXGXXXXXXXX XXX,XX GMABWA+Studierendenwerk Mainz',\n",
       "       'EREF+XXXXXXXXXXXXX PAYPALMREF+XJTJXXXVDLSZXCRED+LUXXZZZXXXXXXXXXXXXXXXXXXXSVWZ+. Instant Gaming, IhrEinkauf bei Instant Gaming',\n",
       "       'EREF+XXXXXXXXXXXXX PP.XXXX.PP PAYPALMREF+XJTJXXXVDLSZXCRED+LUXXZZZXXXXXXXXXXXXXXXXXXXSVWZ+PP.XXXX.PP . Udemy Ireland, Ltd, Ihr Einkauf beiUdemy Ireland, Ltd',\n",
       "       'SVWZ+XXXX-XX-XXTXX.XXDebitk.X XXXX-XXABWA+Mister Falafel Mainz GIR XXXXXXXX//MAINZ/DE',\n",
       "       'EREF+XXGBXHXCXDYDPCDXMREF+DXe+AXFjOVAy,JIiIcAKTGh-XXNvKYCRED+DEXXZZZXXXXXXXXXXXSVWZ+DXX-XXXXXXX-XXXXXXX AMZNPrime DE XXGBXHXCXDYDPCDX',\n",
       "       'SVWZ+XXXX-XX-XXTXX.XXDebitk.X XXXX-XXABWA+SumUp .BARISTAZ COFF//Koblenz/DE/X',\n",
       "       'XX.XX/XX.XXUHR SB-FORUM',\n",
       "       'EREF+XXVXWDLXWVXGQXTTMREF+DXe+AXFjOVAy,JIiIcAKTGh-XXNvKYCRED+DEXXZZZXXXXXXXXXXXSVWZ+XXX-XXXXXXX-XXXXXXX AMZN Mktp DE XXVXWDLXWVXGQXTT',\n",
       "       'EREF+X-XXXXXXXMREF+XXXXXCRED+DEXXSWMXXXXXXXXXXXSVWZ+XXXXXX Abr XX.XX XXXXXX.XAZXXXXXXXX XXX,XX GMABWA+Studierendenwerk Mainz',\n",
       "       'SVWZ+XXXX-XX-XXTXX.XXDebitk.X XXXX-XXABWA+XXXXX FILIALA. DER DITSCH//Mainz/DE',\n",
       "       'SVWZ+XXXX-XX-XXTXX.XXDebitk.X XXXX-XX Bargeldausz. XX,XX EURABWA+ALDI SE U. CO. KG//MAINZ/DE',\n",
       "       'EREF+YYWXXXXXXXXXXXXX PAYPALSVWZ+. ExpressVPN, Ihr Einkauf bei ExpressVPN ABBUCHUNG VOM PAYPAL-KONTO',\n",
       "       'EREF+XXXPSZYXZHXXRXRXMREF+DXe+AXFjOVAy,JIiIcAKTGh-XXNvKYCRED+DEXXZZZXXXXXXXXXXXSVWZ+XXX-XXXXXXX-XXXXXXX AMZN Mktp DE XXXPSZYXZHXXRXRX',\n",
       "       'EREF+XXTVXXXOLNXXXOSXMREF+DXe+AXFjOVAy,JIiIcAKTGh-XXNvKYCRED+DEXXZZZXXXXXXXXXXXSVWZ+XXX-XXXXXXX-XXXXXXX AMZN Mktp DE XXTVXXXOLNXXXOSX',\n",
       "       'EREF+XXXXXXXXXXXXX PP.XXXX.PP PAYPALMREF+XJTJXXXVDLSZXCRED+LUXXZZZXXXXXXXXXXXXXXXXXXXSVWZ+PP.XXXX.PP . Gamivo.com Limited, Ihr Einkauf beiGamivo.com Limited',\n",
       "       'EREF+XXXXXXXXXXXXX PP.XXXX.PP PAYPALMREF+XJTJXXXVDLSZXCRED+LUXXZZZXXXXXXXXXXXXXXXXXXXSVWZ+PP.XXXX.PP . www.steampowered.com, Ihr Einkauf bei www.steampowered.com',\n",
       "       'EREF+XXXXXXXXXXXXX PP.XXXX.PP PAYPALMREF+XJTJXXXVDLSZXCRED+LUXXZZZXXXXXXXXXXXXXXXXXXXSVWZ+PP.XXXX.PP . ExpressVPN, Ihr Einkauf bei ExpressVPN',\n",
       "       'SVWZ+XXXX-XX-XXTXX.XXDebitk.X XXXX-XXABWA+STADTXXX//SPARKASSE MAINZ/DE',\n",
       "       'EREF+YYWXXXXXXXXXXXXX PAYPALSVWZ+. Takeaway.com Payments B.V., Ihr Einkauf bei Takeaway.com Payments B.V. ABBUCHUNG VOM PAYPAL-KONTO',\n",
       "       'SVWZ+XXXX-XX-XXTXX.XXDebitk.X XXXX-XXABWA+MAINZXXX//SPARKASSE MAINZ/DE'],\n",
       "      dtype=object)"
      ]
     },
     "execution_count": 121,
     "metadata": {},
     "output_type": "execute_result"
    }
   ],
   "source": [
    "data[\"Purpose of use\"].unique()"
   ]
  },
  {
   "cell_type": "code",
   "execution_count": 122,
   "metadata": {},
   "outputs": [
    {
     "data": {
      "text/plain": [
       "array(['ONLINE-UEBERWEISUNG', 'KARTENZAHLUNG', 'FOLGELASTSCHRIFT',\n",
       "       'LOHN  GEHALT', 'BARGELDAUSZAHLUNG', 'KARTENZAHL. MIT BARAUSZAHL.',\n",
       "       'ERSTLASTSCHRIFT', 'GUTSCHR. UEBERWEISUNG',\n",
       "       'ECHTZEIT-UEBERWEISUNG'], dtype=object)"
      ]
     },
     "execution_count": 122,
     "metadata": {},
     "output_type": "execute_result"
    }
   ],
   "source": [
    "data[\"Booking text\"].unique()"
   ]
  },
  {
   "cell_type": "markdown",
   "metadata": {},
   "source": [
    "- We creat a new cloumn with different categories to differ between the transaction and detect the money flow"
   ]
  },
  {
   "cell_type": "code",
   "execution_count": 123,
   "metadata": {},
   "outputs": [],
   "source": [
    "data[\"Art of transaction\"]= \"Others\""
   ]
  },
  {
   "cell_type": "code",
   "execution_count": 124,
   "metadata": {},
   "outputs": [
    {
     "name": "stdout",
     "output_type": "stream",
     "text": [
      "<class 'pandas.core.frame.DataFrame'>\n",
      "Int64Index: 276 entries, 0 to 281\n",
      "Data columns (total 9 columns):\n",
      " #   Column                             Non-Null Count  Dtype         \n",
      "---  ------                             --------------  -----         \n",
      " 0   Date of value                      276 non-null    datetime64[ns]\n",
      " 1   Booking text                       276 non-null    object        \n",
      " 2   Purpose of use                     276 non-null    object        \n",
      " 3   Beguenstigter/Zahlungspflichtiger  276 non-null    object        \n",
      " 4   Booking amount                     276 non-null    int32         \n",
      " 5   Month                              276 non-null    object        \n",
      " 6   Money_Earned                       16 non-null     float64       \n",
      " 7   Money_Spent                        260 non-null    float64       \n",
      " 8   Art of transaction                 276 non-null    object        \n",
      "dtypes: datetime64[ns](1), float64(2), int32(1), object(5)\n",
      "memory usage: 20.5+ KB\n"
     ]
    }
   ],
   "source": [
    "data.info()"
   ]
  },
  {
   "cell_type": "code",
   "execution_count": 125,
   "metadata": {},
   "outputs": [],
   "source": [
    "Groceries =[\"Rewe\",\"aldi\",\"lidl\",\"penny\",\"TEGUT\",\"DIE LOHNER\"]\n",
    "Transport=[\"DB\",\"Flixbus\"]\n",
    "Restaurant_Delivery=[\"RESTAURANT\",\"CHIDOBA\",\"Mensa\",\"EL BURRO\",\"Takeaway\",\"Uber\",\"Osakii\",\"MCDONALDS\",\"frittenglueck\"]\n",
    "Clothing = [\"DEICHMANN\",\"C + A\",\"Mode\"]\n",
    "Amazon=[\"AMZNPrime\"]\n",
    "Health_Insurance=[\"Hanseatische Krankenkasse\"]\n",
    "Rent=[\"Studierendenwerk\"]\n",
    "Withdraw= [\"BARGELDAUSZAHLUNG\"]\n",
    "Subscriptions=[\"Spotify\",\"Prime\",\"Netflix\"]"
   ]
  },
  {
   "cell_type": "code",
   "execution_count": 126,
   "metadata": {},
   "outputs": [
    {
     "data": {
      "text/html": [
       "<div>\n",
       "<style scoped>\n",
       "    .dataframe tbody tr th:only-of-type {\n",
       "        vertical-align: middle;\n",
       "    }\n",
       "\n",
       "    .dataframe tbody tr th {\n",
       "        vertical-align: top;\n",
       "    }\n",
       "\n",
       "    .dataframe thead th {\n",
       "        text-align: right;\n",
       "    }\n",
       "</style>\n",
       "<table border=\"1\" class=\"dataframe\">\n",
       "  <thead>\n",
       "    <tr style=\"text-align: right;\">\n",
       "      <th></th>\n",
       "      <th>Date of value</th>\n",
       "      <th>Booking text</th>\n",
       "      <th>Purpose of use</th>\n",
       "      <th>Beguenstigter/Zahlungspflichtiger</th>\n",
       "      <th>Booking amount</th>\n",
       "      <th>Month</th>\n",
       "      <th>Money_Earned</th>\n",
       "      <th>Money_Spent</th>\n",
       "      <th>Art of transaction</th>\n",
       "    </tr>\n",
       "  </thead>\n",
       "  <tbody>\n",
       "    <tr>\n",
       "      <th>0</th>\n",
       "      <td>2022-06-30</td>\n",
       "      <td>ONLINE-UEBERWEISUNG</td>\n",
       "      <td>SVWZ+XNXTLVX PAYOPDATUM XX.XX.XXXX, XX.XX UHRI...</td>\n",
       "      <td>PPRO Payment Services SA</td>\n",
       "      <td>-3</td>\n",
       "      <td>June</td>\n",
       "      <td>NaN</td>\n",
       "      <td>-3.00</td>\n",
       "      <td>Others</td>\n",
       "    </tr>\n",
       "    <tr>\n",
       "      <th>1</th>\n",
       "      <td>2022-06-30</td>\n",
       "      <td>KARTENZAHLUNG</td>\n",
       "      <td>SVWZ+XXXX-XX-XXTXX.XXDebitk.X XXXX-XXABWA+OSAK...</td>\n",
       "      <td>Osakii Mainz GmbH</td>\n",
       "      <td>-50</td>\n",
       "      <td>June</td>\n",
       "      <td>NaN</td>\n",
       "      <td>-50.00</td>\n",
       "      <td>Restaurants and Delivery</td>\n",
       "    </tr>\n",
       "    <tr>\n",
       "      <th>2</th>\n",
       "      <td>2022-06-29</td>\n",
       "      <td>KARTENZAHLUNG</td>\n",
       "      <td>SVWZ+XXXX-XX-XXTXX.XXDebitk.X XXXX-XXABWA+SumU...</td>\n",
       "      <td>Landesbank Hessen-Thuringen Girozentrale</td>\n",
       "      <td>-7</td>\n",
       "      <td>June</td>\n",
       "      <td>NaN</td>\n",
       "      <td>-7.00</td>\n",
       "      <td>Others</td>\n",
       "    </tr>\n",
       "    <tr>\n",
       "      <th>3</th>\n",
       "      <td>2022-06-29</td>\n",
       "      <td>FOLGELASTSCHRIFT</td>\n",
       "      <td>EREF+XXXXXXXXXXXXX PP.XXXX.PP PAYPALMREF+XJTJX...</td>\n",
       "      <td>PayPal (Europe) S.a r.l. et Cie, S.C.A.</td>\n",
       "      <td>-5</td>\n",
       "      <td>June</td>\n",
       "      <td>NaN</td>\n",
       "      <td>-5.00</td>\n",
       "      <td>Others</td>\n",
       "    </tr>\n",
       "    <tr>\n",
       "      <th>4</th>\n",
       "      <td>2022-06-28</td>\n",
       "      <td>KARTENZAHLUNG</td>\n",
       "      <td>SVWZ+XXXX-XX-XXTXX.XXDebitk.X XXXX-XXABWA+REST...</td>\n",
       "      <td>RESTAURANT SAMAN</td>\n",
       "      <td>-14</td>\n",
       "      <td>June</td>\n",
       "      <td>NaN</td>\n",
       "      <td>-14.00</td>\n",
       "      <td>Restaurants and Delivery</td>\n",
       "    </tr>\n",
       "    <tr>\n",
       "      <th>5</th>\n",
       "      <td>2022-06-28</td>\n",
       "      <td>KARTENZAHLUNG</td>\n",
       "      <td>SVWZ+XXXX-XX-XXTXX.XXDebitk.X XXXX-XXABWA+CHID...</td>\n",
       "      <td>CHIDOBA MEXICAN GRILL</td>\n",
       "      <td>-14</td>\n",
       "      <td>June</td>\n",
       "      <td>NaN</td>\n",
       "      <td>-14.00</td>\n",
       "      <td>Restaurants and Delivery</td>\n",
       "    </tr>\n",
       "    <tr>\n",
       "      <th>6</th>\n",
       "      <td>2022-06-28</td>\n",
       "      <td>KARTENZAHLUNG</td>\n",
       "      <td>SVWZ+XXXX-XX-XXTXX.XXDebitk.X XXXX-XXABWA+REWE...</td>\n",
       "      <td>REWE Yama Akbary oHG</td>\n",
       "      <td>-21</td>\n",
       "      <td>June</td>\n",
       "      <td>NaN</td>\n",
       "      <td>-21.00</td>\n",
       "      <td>Groceries</td>\n",
       "    </tr>\n",
       "    <tr>\n",
       "      <th>7</th>\n",
       "      <td>2022-06-27</td>\n",
       "      <td>KARTENZAHLUNG</td>\n",
       "      <td>SVWZ+XXXX-XX-XXTXX.XXDebitk.X XXXX-XXABWA+REWE...</td>\n",
       "      <td>REWE Markt GmbH</td>\n",
       "      <td>-14</td>\n",
       "      <td>June</td>\n",
       "      <td>NaN</td>\n",
       "      <td>-14.00</td>\n",
       "      <td>Groceries</td>\n",
       "    </tr>\n",
       "    <tr>\n",
       "      <th>8</th>\n",
       "      <td>2022-06-27</td>\n",
       "      <td>KARTENZAHLUNG</td>\n",
       "      <td>SVWZ+XXXX-XX-XXTXX.XXDebitk.X XXXX-XXABWA+CHID...</td>\n",
       "      <td>CHIDOBA MEXICAN GRILL</td>\n",
       "      <td>-10</td>\n",
       "      <td>June</td>\n",
       "      <td>NaN</td>\n",
       "      <td>-10.00</td>\n",
       "      <td>Restaurants and Delivery</td>\n",
       "    </tr>\n",
       "    <tr>\n",
       "      <th>9</th>\n",
       "      <td>2022-06-27</td>\n",
       "      <td>KARTENZAHLUNG</td>\n",
       "      <td>SVWZ+XXXX-XX-XXTXX.XXDebitk.X XXXX-XXABWA+REWE...</td>\n",
       "      <td>REWE Yama Akbary oHG</td>\n",
       "      <td>-23</td>\n",
       "      <td>June</td>\n",
       "      <td>NaN</td>\n",
       "      <td>-23.00</td>\n",
       "      <td>Groceries</td>\n",
       "    </tr>\n",
       "    <tr>\n",
       "      <th>10</th>\n",
       "      <td>2022-06-27</td>\n",
       "      <td>KARTENZAHLUNG</td>\n",
       "      <td>SVWZ+XXXX-XX-XXTXX.XXDebitk.X XXXX-XXABWA+DIE ...</td>\n",
       "      <td>Die Lohners</td>\n",
       "      <td>-5</td>\n",
       "      <td>June</td>\n",
       "      <td>NaN</td>\n",
       "      <td>-5.00</td>\n",
       "      <td>Groceries</td>\n",
       "    </tr>\n",
       "    <tr>\n",
       "      <th>11</th>\n",
       "      <td>2022-06-27</td>\n",
       "      <td>KARTENZAHLUNG</td>\n",
       "      <td>SVWZ+XXXX-XX-XXTXX.XXDebitk.X XXXX-XXABWA+SumU...</td>\n",
       "      <td>Landesbank Hessen-Thuringen Girozentrale</td>\n",
       "      <td>-9</td>\n",
       "      <td>June</td>\n",
       "      <td>NaN</td>\n",
       "      <td>-9.00</td>\n",
       "      <td>Others</td>\n",
       "    </tr>\n",
       "    <tr>\n",
       "      <th>12</th>\n",
       "      <td>2022-06-27</td>\n",
       "      <td>KARTENZAHLUNG</td>\n",
       "      <td>SVWZ+XXXX-XX-XXTXX.XXDebitk.X XXXX-XXABWA+SumU...</td>\n",
       "      <td>Landesbank Hessen-Thuringen Girozentrale</td>\n",
       "      <td>-7</td>\n",
       "      <td>June</td>\n",
       "      <td>NaN</td>\n",
       "      <td>-7.00</td>\n",
       "      <td>Others</td>\n",
       "    </tr>\n",
       "    <tr>\n",
       "      <th>13</th>\n",
       "      <td>2022-06-24</td>\n",
       "      <td>LOHN  GEHALT</td>\n",
       "      <td>Lohn/Gehalt</td>\n",
       "      <td>Gehalt</td>\n",
       "      <td>2359</td>\n",
       "      <td>June</td>\n",
       "      <td>2359.00</td>\n",
       "      <td>NaN</td>\n",
       "      <td>Others</td>\n",
       "    </tr>\n",
       "    <tr>\n",
       "      <th>14</th>\n",
       "      <td>2022-06-24</td>\n",
       "      <td>KARTENZAHLUNG</td>\n",
       "      <td>SVWZ+XXXX-XX-XXTXX.XXDebitk.X XXXX-XXABWA+REWE...</td>\n",
       "      <td>REWE Markt GmbH</td>\n",
       "      <td>-6</td>\n",
       "      <td>June</td>\n",
       "      <td>NaN</td>\n",
       "      <td>-6.00</td>\n",
       "      <td>Groceries</td>\n",
       "    </tr>\n",
       "    <tr>\n",
       "      <th>15</th>\n",
       "      <td>2022-06-24</td>\n",
       "      <td>BARGELDAUSZAHLUNG</td>\n",
       "      <td>SVWZ+XXXX-XX-XXTXX.XXDebitk.X XXXX-XXABWA+UNIV...</td>\n",
       "      <td>RHEINHESSEN SPARKASSE</td>\n",
       "      <td>-35</td>\n",
       "      <td>June</td>\n",
       "      <td>NaN</td>\n",
       "      <td>-35.00</td>\n",
       "      <td>ATM Withdraw</td>\n",
       "    </tr>\n",
       "    <tr>\n",
       "      <th>16</th>\n",
       "      <td>2022-06-23</td>\n",
       "      <td>KARTENZAHLUNG</td>\n",
       "      <td>SVWZ+XXXX-XX-XXTXX.XXDebitk.X XXXX-XXABWA+REWE...</td>\n",
       "      <td>REWE Yama Akbary oHG</td>\n",
       "      <td>-13</td>\n",
       "      <td>June</td>\n",
       "      <td>NaN</td>\n",
       "      <td>-13.00</td>\n",
       "      <td>Groceries</td>\n",
       "    </tr>\n",
       "    <tr>\n",
       "      <th>17</th>\n",
       "      <td>2022-06-23</td>\n",
       "      <td>FOLGELASTSCHRIFT</td>\n",
       "      <td>EREF+XXXXXXXXXXXXX PP.XXXX.PP PAYPALMREF+XJTJX...</td>\n",
       "      <td>PayPal (Europe) S.a r.l. et Cie, S.C.A.</td>\n",
       "      <td>-5</td>\n",
       "      <td>June</td>\n",
       "      <td>NaN</td>\n",
       "      <td>-5.00</td>\n",
       "      <td>Others</td>\n",
       "    </tr>\n",
       "    <tr>\n",
       "      <th>18</th>\n",
       "      <td>2022-06-23</td>\n",
       "      <td>FOLGELASTSCHRIFT</td>\n",
       "      <td>EREF+XXXXXXXXXXXXX PP.XXXX.PP PAYPALMREF+XJTJX...</td>\n",
       "      <td>PayPal (Europe) S.a r.l. et Cie, S.C.A.</td>\n",
       "      <td>-14</td>\n",
       "      <td>June</td>\n",
       "      <td>NaN</td>\n",
       "      <td>-14.00</td>\n",
       "      <td>Restaurants and Delivery</td>\n",
       "    </tr>\n",
       "    <tr>\n",
       "      <th>19</th>\n",
       "      <td>2022-06-22</td>\n",
       "      <td>KARTENZAHLUNG</td>\n",
       "      <td>SVWZ+XXXX-XX-XXTXX.XXDebitk.X XXXX-XXABWA+REWE...</td>\n",
       "      <td>Lekkerland SE</td>\n",
       "      <td>-6</td>\n",
       "      <td>June</td>\n",
       "      <td>NaN</td>\n",
       "      <td>-6.00</td>\n",
       "      <td>Groceries</td>\n",
       "    </tr>\n",
       "  </tbody>\n",
       "</table>\n",
       "</div>"
      ],
      "text/plain": [
       "   Date of value         Booking text  \\\n",
       "0     2022-06-30  ONLINE-UEBERWEISUNG   \n",
       "1     2022-06-30        KARTENZAHLUNG   \n",
       "2     2022-06-29        KARTENZAHLUNG   \n",
       "3     2022-06-29     FOLGELASTSCHRIFT   \n",
       "4     2022-06-28        KARTENZAHLUNG   \n",
       "5     2022-06-28        KARTENZAHLUNG   \n",
       "6     2022-06-28        KARTENZAHLUNG   \n",
       "7     2022-06-27        KARTENZAHLUNG   \n",
       "8     2022-06-27        KARTENZAHLUNG   \n",
       "9     2022-06-27        KARTENZAHLUNG   \n",
       "10    2022-06-27        KARTENZAHLUNG   \n",
       "11    2022-06-27        KARTENZAHLUNG   \n",
       "12    2022-06-27        KARTENZAHLUNG   \n",
       "13    2022-06-24         LOHN  GEHALT   \n",
       "14    2022-06-24        KARTENZAHLUNG   \n",
       "15    2022-06-24    BARGELDAUSZAHLUNG   \n",
       "16    2022-06-23        KARTENZAHLUNG   \n",
       "17    2022-06-23     FOLGELASTSCHRIFT   \n",
       "18    2022-06-23     FOLGELASTSCHRIFT   \n",
       "19    2022-06-22        KARTENZAHLUNG   \n",
       "\n",
       "                                       Purpose of use  \\\n",
       "0   SVWZ+XNXTLVX PAYOPDATUM XX.XX.XXXX, XX.XX UHRI...   \n",
       "1   SVWZ+XXXX-XX-XXTXX.XXDebitk.X XXXX-XXABWA+OSAK...   \n",
       "2   SVWZ+XXXX-XX-XXTXX.XXDebitk.X XXXX-XXABWA+SumU...   \n",
       "3   EREF+XXXXXXXXXXXXX PP.XXXX.PP PAYPALMREF+XJTJX...   \n",
       "4   SVWZ+XXXX-XX-XXTXX.XXDebitk.X XXXX-XXABWA+REST...   \n",
       "5   SVWZ+XXXX-XX-XXTXX.XXDebitk.X XXXX-XXABWA+CHID...   \n",
       "6   SVWZ+XXXX-XX-XXTXX.XXDebitk.X XXXX-XXABWA+REWE...   \n",
       "7   SVWZ+XXXX-XX-XXTXX.XXDebitk.X XXXX-XXABWA+REWE...   \n",
       "8   SVWZ+XXXX-XX-XXTXX.XXDebitk.X XXXX-XXABWA+CHID...   \n",
       "9   SVWZ+XXXX-XX-XXTXX.XXDebitk.X XXXX-XXABWA+REWE...   \n",
       "10  SVWZ+XXXX-XX-XXTXX.XXDebitk.X XXXX-XXABWA+DIE ...   \n",
       "11  SVWZ+XXXX-XX-XXTXX.XXDebitk.X XXXX-XXABWA+SumU...   \n",
       "12  SVWZ+XXXX-XX-XXTXX.XXDebitk.X XXXX-XXABWA+SumU...   \n",
       "13                                        Lohn/Gehalt   \n",
       "14  SVWZ+XXXX-XX-XXTXX.XXDebitk.X XXXX-XXABWA+REWE...   \n",
       "15  SVWZ+XXXX-XX-XXTXX.XXDebitk.X XXXX-XXABWA+UNIV...   \n",
       "16  SVWZ+XXXX-XX-XXTXX.XXDebitk.X XXXX-XXABWA+REWE...   \n",
       "17  EREF+XXXXXXXXXXXXX PP.XXXX.PP PAYPALMREF+XJTJX...   \n",
       "18  EREF+XXXXXXXXXXXXX PP.XXXX.PP PAYPALMREF+XJTJX...   \n",
       "19  SVWZ+XXXX-XX-XXTXX.XXDebitk.X XXXX-XXABWA+REWE...   \n",
       "\n",
       "           Beguenstigter/Zahlungspflichtiger  Booking amount Month  \\\n",
       "0                   PPRO Payment Services SA              -3  June   \n",
       "1                          Osakii Mainz GmbH             -50  June   \n",
       "2   Landesbank Hessen-Thuringen Girozentrale              -7  June   \n",
       "3    PayPal (Europe) S.a r.l. et Cie, S.C.A.              -5  June   \n",
       "4                           RESTAURANT SAMAN             -14  June   \n",
       "5                      CHIDOBA MEXICAN GRILL             -14  June   \n",
       "6                       REWE Yama Akbary oHG             -21  June   \n",
       "7                            REWE Markt GmbH             -14  June   \n",
       "8                      CHIDOBA MEXICAN GRILL             -10  June   \n",
       "9                       REWE Yama Akbary oHG             -23  June   \n",
       "10                               Die Lohners              -5  June   \n",
       "11  Landesbank Hessen-Thuringen Girozentrale              -9  June   \n",
       "12  Landesbank Hessen-Thuringen Girozentrale              -7  June   \n",
       "13                                    Gehalt            2359  June   \n",
       "14                           REWE Markt GmbH              -6  June   \n",
       "15                     RHEINHESSEN SPARKASSE             -35  June   \n",
       "16                      REWE Yama Akbary oHG             -13  June   \n",
       "17   PayPal (Europe) S.a r.l. et Cie, S.C.A.              -5  June   \n",
       "18   PayPal (Europe) S.a r.l. et Cie, S.C.A.             -14  June   \n",
       "19                             Lekkerland SE              -6  June   \n",
       "\n",
       "    Money_Earned  Money_Spent        Art of transaction  \n",
       "0            NaN        -3.00                    Others  \n",
       "1            NaN       -50.00  Restaurants and Delivery  \n",
       "2            NaN        -7.00                    Others  \n",
       "3            NaN        -5.00                    Others  \n",
       "4            NaN       -14.00  Restaurants and Delivery  \n",
       "5            NaN       -14.00  Restaurants and Delivery  \n",
       "6            NaN       -21.00                 Groceries  \n",
       "7            NaN       -14.00                 Groceries  \n",
       "8            NaN       -10.00  Restaurants and Delivery  \n",
       "9            NaN       -23.00                 Groceries  \n",
       "10           NaN        -5.00                 Groceries  \n",
       "11           NaN        -9.00                    Others  \n",
       "12           NaN        -7.00                    Others  \n",
       "13       2359.00          NaN                    Others  \n",
       "14           NaN        -6.00                 Groceries  \n",
       "15           NaN       -35.00              ATM Withdraw  \n",
       "16           NaN       -13.00                 Groceries  \n",
       "17           NaN        -5.00                    Others  \n",
       "18           NaN       -14.00  Restaurants and Delivery  \n",
       "19           NaN        -6.00                 Groceries  "
      ]
     },
     "execution_count": 126,
     "metadata": {},
     "output_type": "execute_result"
    }
   ],
   "source": [
    "data.loc[data['Purpose of use'].str.contains('|'.join(Groceries),case=False), \"Art of transaction\"] = \"Groceries\"\n",
    "data.loc[data['Purpose of use'].str.contains('|'.join(Transport),case=False), \"Art of transaction\"] = \"Transport\"\n",
    "data.loc[data['Purpose of use'].str.contains('|'.join(Restaurant_Delivery),case=False), \"Art of transaction\"] = \"Restaurants and Delivery\"\n",
    "data.loc[data['Purpose of use'].str.contains('|'.join(Clothing),case=False), \"Art of transaction\"] = \"Clothing\"\n",
    "data.loc[data['Purpose of use'].str.contains('|'.join(Amazon),case=False), \"Art of transaction\"] = \"Amazon\"\n",
    "data.loc[data['Purpose of use'].str.contains('|'.join(Health_Insurance),case=False), \"Art of transaction\"] = \"Health Insurance\"\n",
    "data.loc[data['Purpose of use'].str.contains('|'.join(Rent),case=False), \"Art of transaction\"] = \"Rent\"\n",
    "data.loc[data['Booking text'].str.contains('|'.join(Withdraw),case=False), \"Art of transaction\"] = \"ATM Withdraw\"\n",
    "data.loc[data['Purpose of use'].str.contains('|'.join(Subscriptions),case=False), \"Art of transaction\"] = \"Subscriptions\"\n",
    "data.head(20)"
   ]
  },
  {
   "cell_type": "markdown",
   "metadata": {},
   "source": [
    "- lets do different kind of searches to discover our Data"
   ]
  },
  {
   "cell_type": "code",
   "execution_count": 127,
   "metadata": {},
   "outputs": [
    {
     "data": {
      "text/html": [
       "<div>\n",
       "<style scoped>\n",
       "    .dataframe tbody tr th:only-of-type {\n",
       "        vertical-align: middle;\n",
       "    }\n",
       "\n",
       "    .dataframe tbody tr th {\n",
       "        vertical-align: top;\n",
       "    }\n",
       "\n",
       "    .dataframe thead th {\n",
       "        text-align: right;\n",
       "    }\n",
       "</style>\n",
       "<table border=\"1\" class=\"dataframe\">\n",
       "  <thead>\n",
       "    <tr style=\"text-align: right;\">\n",
       "      <th></th>\n",
       "      <th>Date of value</th>\n",
       "      <th>Booking text</th>\n",
       "      <th>Purpose of use</th>\n",
       "      <th>Beguenstigter/Zahlungspflichtiger</th>\n",
       "      <th>Booking amount</th>\n",
       "      <th>Month</th>\n",
       "      <th>Money_Earned</th>\n",
       "      <th>Money_Spent</th>\n",
       "      <th>Art of transaction</th>\n",
       "    </tr>\n",
       "  </thead>\n",
       "  <tbody>\n",
       "    <tr>\n",
       "      <th>40</th>\n",
       "      <td>2022-06-13</td>\n",
       "      <td>FOLGELASTSCHRIFT</td>\n",
       "      <td>EREF+X-XXXXXXXMREF+XXXXXCRED+DEXXSWMXXXXXXXXXX...</td>\n",
       "      <td>Studierendenwerk Mainz A.ö.R.</td>\n",
       "      <td>-371</td>\n",
       "      <td>June</td>\n",
       "      <td>NaN</td>\n",
       "      <td>-371.00</td>\n",
       "      <td>Rent</td>\n",
       "    </tr>\n",
       "    <tr>\n",
       "      <th>88</th>\n",
       "      <td>2022-05-11</td>\n",
       "      <td>FOLGELASTSCHRIFT</td>\n",
       "      <td>EREF+X-XXXXXXXMREF+XXXXXCRED+DEXXSWMXXXXXXXXXX...</td>\n",
       "      <td>Studierendenwerk Mainz A.ö.R.</td>\n",
       "      <td>-371</td>\n",
       "      <td>May</td>\n",
       "      <td>NaN</td>\n",
       "      <td>-371.00</td>\n",
       "      <td>Rent</td>\n",
       "    </tr>\n",
       "    <tr>\n",
       "      <th>130</th>\n",
       "      <td>2022-04-12</td>\n",
       "      <td>FOLGELASTSCHRIFT</td>\n",
       "      <td>EREF+X-XXXXXXXMREF+XXXXXCRED+DEXXSWMXXXXXXXXXX...</td>\n",
       "      <td>Studierendenwerk Mainz A.ö.R.</td>\n",
       "      <td>-371</td>\n",
       "      <td>April</td>\n",
       "      <td>NaN</td>\n",
       "      <td>-371.00</td>\n",
       "      <td>Rent</td>\n",
       "    </tr>\n",
       "    <tr>\n",
       "      <th>177</th>\n",
       "      <td>2022-03-10</td>\n",
       "      <td>FOLGELASTSCHRIFT</td>\n",
       "      <td>EREF+X-XXXXXXXMREF+XXXXXCRED+DEXXSWMXXXXXXXXXX...</td>\n",
       "      <td>Studierendenwerk Mainz A.ö.R.</td>\n",
       "      <td>-365</td>\n",
       "      <td>March</td>\n",
       "      <td>NaN</td>\n",
       "      <td>-365.00</td>\n",
       "      <td>Rent</td>\n",
       "    </tr>\n",
       "    <tr>\n",
       "      <th>211</th>\n",
       "      <td>2022-02-10</td>\n",
       "      <td>FOLGELASTSCHRIFT</td>\n",
       "      <td>EREF+X-XXXXXXXMREF+XXXXXCRED+DEXXSWMXXXXXXXXXX...</td>\n",
       "      <td>Studierendenwerk Mainz A.ö.R.</td>\n",
       "      <td>-365</td>\n",
       "      <td>February</td>\n",
       "      <td>NaN</td>\n",
       "      <td>-365.00</td>\n",
       "      <td>Rent</td>\n",
       "    </tr>\n",
       "    <tr>\n",
       "      <th>259</th>\n",
       "      <td>2022-01-12</td>\n",
       "      <td>FOLGELASTSCHRIFT</td>\n",
       "      <td>EREF+X-XXXXXXXMREF+XXXXXCRED+DEXXSWMXXXXXXXXXX...</td>\n",
       "      <td>Studierendenwerk Mainz A.ö.R.</td>\n",
       "      <td>-365</td>\n",
       "      <td>January</td>\n",
       "      <td>NaN</td>\n",
       "      <td>-365.00</td>\n",
       "      <td>Rent</td>\n",
       "    </tr>\n",
       "  </tbody>\n",
       "</table>\n",
       "</div>"
      ],
      "text/plain": [
       "    Date of value      Booking text  \\\n",
       "40     2022-06-13  FOLGELASTSCHRIFT   \n",
       "88     2022-05-11  FOLGELASTSCHRIFT   \n",
       "130    2022-04-12  FOLGELASTSCHRIFT   \n",
       "177    2022-03-10  FOLGELASTSCHRIFT   \n",
       "211    2022-02-10  FOLGELASTSCHRIFT   \n",
       "259    2022-01-12  FOLGELASTSCHRIFT   \n",
       "\n",
       "                                        Purpose of use  \\\n",
       "40   EREF+X-XXXXXXXMREF+XXXXXCRED+DEXXSWMXXXXXXXXXX...   \n",
       "88   EREF+X-XXXXXXXMREF+XXXXXCRED+DEXXSWMXXXXXXXXXX...   \n",
       "130  EREF+X-XXXXXXXMREF+XXXXXCRED+DEXXSWMXXXXXXXXXX...   \n",
       "177  EREF+X-XXXXXXXMREF+XXXXXCRED+DEXXSWMXXXXXXXXXX...   \n",
       "211  EREF+X-XXXXXXXMREF+XXXXXCRED+DEXXSWMXXXXXXXXXX...   \n",
       "259  EREF+X-XXXXXXXMREF+XXXXXCRED+DEXXSWMXXXXXXXXXX...   \n",
       "\n",
       "    Beguenstigter/Zahlungspflichtiger  Booking amount     Month  Money_Earned  \\\n",
       "40      Studierendenwerk Mainz A.ö.R.            -371      June           NaN   \n",
       "88      Studierendenwerk Mainz A.ö.R.            -371       May           NaN   \n",
       "130     Studierendenwerk Mainz A.ö.R.            -371     April           NaN   \n",
       "177     Studierendenwerk Mainz A.ö.R.            -365     March           NaN   \n",
       "211     Studierendenwerk Mainz A.ö.R.            -365  February           NaN   \n",
       "259     Studierendenwerk Mainz A.ö.R.            -365   January           NaN   \n",
       "\n",
       "     Money_Spent Art of transaction  \n",
       "40       -371.00               Rent  \n",
       "88       -371.00               Rent  \n",
       "130      -371.00               Rent  \n",
       "177      -365.00               Rent  \n",
       "211      -365.00               Rent  \n",
       "259      -365.00               Rent  "
      ]
     },
     "execution_count": 127,
     "metadata": {},
     "output_type": "execute_result"
    }
   ],
   "source": [
    "data[data[\"Art of transaction\"]==\"Rent\"]"
   ]
  },
  {
   "cell_type": "code",
   "execution_count": 128,
   "metadata": {},
   "outputs": [
    {
     "data": {
      "text/html": [
       "<div>\n",
       "<style scoped>\n",
       "    .dataframe tbody tr th:only-of-type {\n",
       "        vertical-align: middle;\n",
       "    }\n",
       "\n",
       "    .dataframe tbody tr th {\n",
       "        vertical-align: top;\n",
       "    }\n",
       "\n",
       "    .dataframe thead th {\n",
       "        text-align: right;\n",
       "    }\n",
       "</style>\n",
       "<table border=\"1\" class=\"dataframe\">\n",
       "  <thead>\n",
       "    <tr style=\"text-align: right;\">\n",
       "      <th></th>\n",
       "      <th>Date of value</th>\n",
       "      <th>Booking text</th>\n",
       "      <th>Purpose of use</th>\n",
       "      <th>Beguenstigter/Zahlungspflichtiger</th>\n",
       "      <th>Booking amount</th>\n",
       "      <th>Month</th>\n",
       "      <th>Money_Earned</th>\n",
       "      <th>Money_Spent</th>\n",
       "      <th>Art of transaction</th>\n",
       "    </tr>\n",
       "  </thead>\n",
       "  <tbody>\n",
       "    <tr>\n",
       "      <th>103</th>\n",
       "      <td>2022-04-29</td>\n",
       "      <td>GUTSCHR. UEBERWEISUNG</td>\n",
       "      <td>EREF+</td>\n",
       "      <td>Gehalt</td>\n",
       "      <td>861</td>\n",
       "      <td>April</td>\n",
       "      <td>861.00</td>\n",
       "      <td>NaN</td>\n",
       "      <td>Others</td>\n",
       "    </tr>\n",
       "    <tr>\n",
       "      <th>104</th>\n",
       "      <td>2022-04-29</td>\n",
       "      <td>LOHN  GEHALT</td>\n",
       "      <td>EREF+</td>\n",
       "      <td>Gehalt</td>\n",
       "      <td>451</td>\n",
       "      <td>April</td>\n",
       "      <td>451.00</td>\n",
       "      <td>NaN</td>\n",
       "      <td>Others</td>\n",
       "    </tr>\n",
       "    <tr>\n",
       "      <th>105</th>\n",
       "      <td>2022-04-28</td>\n",
       "      <td>KARTENZAHLUNG</td>\n",
       "      <td>SVWZ+XXXX-XX-XXTXX.XXDebitk.X XXXX-XXABWA+BAHN...</td>\n",
       "      <td>BAHNOF APOTHEKE</td>\n",
       "      <td>-5</td>\n",
       "      <td>April</td>\n",
       "      <td>NaN</td>\n",
       "      <td>-5.00</td>\n",
       "      <td>Others</td>\n",
       "    </tr>\n",
       "    <tr>\n",
       "      <th>106</th>\n",
       "      <td>2022-04-27</td>\n",
       "      <td>BARGELDAUSZAHLUNG</td>\n",
       "      <td>SVWZ+XXXX-XX-XXTXX.XXDebitk.X XXXX-XXABWA+STAD...</td>\n",
       "      <td>RHEINHESSEN SPARKASSE</td>\n",
       "      <td>-65</td>\n",
       "      <td>April</td>\n",
       "      <td>NaN</td>\n",
       "      <td>-65.00</td>\n",
       "      <td>ATM Withdraw</td>\n",
       "    </tr>\n",
       "    <tr>\n",
       "      <th>107</th>\n",
       "      <td>2022-04-27</td>\n",
       "      <td>KARTENZAHLUNG</td>\n",
       "      <td>SVWZ+XXXX-XX-XXTXX.XXDebitk.X XXXX-XXABWA+REWE...</td>\n",
       "      <td>REWE Markt GmbH</td>\n",
       "      <td>-14</td>\n",
       "      <td>April</td>\n",
       "      <td>NaN</td>\n",
       "      <td>-14.00</td>\n",
       "      <td>Groceries</td>\n",
       "    </tr>\n",
       "    <tr>\n",
       "      <th>108</th>\n",
       "      <td>2022-04-26</td>\n",
       "      <td>KARTENZAHLUNG</td>\n",
       "      <td>SVWZ+XXXX-XX-XXTXX.XXDebitk.X XXXX-XXABWA+ALDI...</td>\n",
       "      <td>ALDI SUED SAGT DANKE</td>\n",
       "      <td>-13</td>\n",
       "      <td>April</td>\n",
       "      <td>NaN</td>\n",
       "      <td>-13.00</td>\n",
       "      <td>Groceries</td>\n",
       "    </tr>\n",
       "    <tr>\n",
       "      <th>109</th>\n",
       "      <td>2022-04-25</td>\n",
       "      <td>KARTENZAHLUNG</td>\n",
       "      <td>SVWZ+XXXX-XX-XXTXX.XXDebitk.X XXXX-XXABWA+REWE...</td>\n",
       "      <td>REWE Markt GmbH</td>\n",
       "      <td>-38</td>\n",
       "      <td>April</td>\n",
       "      <td>NaN</td>\n",
       "      <td>-38.00</td>\n",
       "      <td>Groceries</td>\n",
       "    </tr>\n",
       "    <tr>\n",
       "      <th>110</th>\n",
       "      <td>2022-04-25</td>\n",
       "      <td>KARTENZAHLUNG</td>\n",
       "      <td>SVWZ+XXXX-XX-XXTXX.XXDebitk.X XXXX-XXABWA+REWE...</td>\n",
       "      <td>REWE Markt GmbH</td>\n",
       "      <td>-9</td>\n",
       "      <td>April</td>\n",
       "      <td>NaN</td>\n",
       "      <td>-9.00</td>\n",
       "      <td>Groceries</td>\n",
       "    </tr>\n",
       "    <tr>\n",
       "      <th>111</th>\n",
       "      <td>2022-04-25</td>\n",
       "      <td>KARTENZAHLUNG</td>\n",
       "      <td>SVWZ+XXXX-XX-XXTXX.XXDebitk.X XXXX-XXABWA+REWE...</td>\n",
       "      <td>REWE Yama Akbary oHG</td>\n",
       "      <td>-9</td>\n",
       "      <td>April</td>\n",
       "      <td>NaN</td>\n",
       "      <td>-9.00</td>\n",
       "      <td>Groceries</td>\n",
       "    </tr>\n",
       "    <tr>\n",
       "      <th>112</th>\n",
       "      <td>2022-04-25</td>\n",
       "      <td>KARTENZAHLUNG</td>\n",
       "      <td>SVWZ+XXXX-XX-XXTXX.XXDebitk.X XXXX-XXABWA+GOUR...</td>\n",
       "      <td>frittenglueck</td>\n",
       "      <td>-11</td>\n",
       "      <td>April</td>\n",
       "      <td>NaN</td>\n",
       "      <td>-11.00</td>\n",
       "      <td>Others</td>\n",
       "    </tr>\n",
       "    <tr>\n",
       "      <th>113</th>\n",
       "      <td>2022-04-22</td>\n",
       "      <td>KARTENZAHLUNG</td>\n",
       "      <td>SVWZ+XXXX-XX-XXTXX.XXDebitk.X XXXX-XXABWA+Star...</td>\n",
       "      <td>Landesbank Hessen-Thuringen Girozentrale</td>\n",
       "      <td>-4</td>\n",
       "      <td>April</td>\n",
       "      <td>NaN</td>\n",
       "      <td>-4.00</td>\n",
       "      <td>Others</td>\n",
       "    </tr>\n",
       "    <tr>\n",
       "      <th>114</th>\n",
       "      <td>2022-04-21</td>\n",
       "      <td>KARTENZAHLUNG</td>\n",
       "      <td>SVWZ+XXXX-XX-XXTXX.XXDebitk.X XXXX-XXABWA+BERL...</td>\n",
       "      <td>BERLINER GEMUESE KEBAP</td>\n",
       "      <td>-7</td>\n",
       "      <td>April</td>\n",
       "      <td>NaN</td>\n",
       "      <td>-7.00</td>\n",
       "      <td>Others</td>\n",
       "    </tr>\n",
       "    <tr>\n",
       "      <th>115</th>\n",
       "      <td>2022-04-20</td>\n",
       "      <td>KARTENZAHLUNG</td>\n",
       "      <td>SVWZ+XXXX-XX-XXTXX.XXDebitk.X XXXX-XXABWA+REWE...</td>\n",
       "      <td>REWE Markt GmbH</td>\n",
       "      <td>-11</td>\n",
       "      <td>April</td>\n",
       "      <td>NaN</td>\n",
       "      <td>-11.00</td>\n",
       "      <td>Groceries</td>\n",
       "    </tr>\n",
       "    <tr>\n",
       "      <th>116</th>\n",
       "      <td>2022-04-20</td>\n",
       "      <td>KARTENZAHLUNG</td>\n",
       "      <td>SVWZ+XXXX-XX-XXTXX.XXDebitk.X XXXX-XXABWA+DIE ...</td>\n",
       "      <td>Die Lohners</td>\n",
       "      <td>-3</td>\n",
       "      <td>April</td>\n",
       "      <td>NaN</td>\n",
       "      <td>-3.00</td>\n",
       "      <td>Groceries</td>\n",
       "    </tr>\n",
       "    <tr>\n",
       "      <th>117</th>\n",
       "      <td>2022-04-20</td>\n",
       "      <td>KARTENZAHLUNG</td>\n",
       "      <td>SVWZ+XXXX-XX-XXTXX.XXDebitk.X XXXX-XXABWA+ALDI...</td>\n",
       "      <td>ALDI SUED SAGT DANKE</td>\n",
       "      <td>-9</td>\n",
       "      <td>April</td>\n",
       "      <td>NaN</td>\n",
       "      <td>-9.00</td>\n",
       "      <td>Groceries</td>\n",
       "    </tr>\n",
       "    <tr>\n",
       "      <th>118</th>\n",
       "      <td>2022-04-20</td>\n",
       "      <td>FOLGELASTSCHRIFT</td>\n",
       "      <td>EREF+OXQSBXXDGXXBZQITMREF+DXe+AXFjOVAy,JIiIcAK...</td>\n",
       "      <td>AMAZON EU S.A R.L., NIEDERLASSUNG DEUTSCHLAND</td>\n",
       "      <td>-8</td>\n",
       "      <td>April</td>\n",
       "      <td>NaN</td>\n",
       "      <td>-8.00</td>\n",
       "      <td>Subscriptions</td>\n",
       "    </tr>\n",
       "    <tr>\n",
       "      <th>119</th>\n",
       "      <td>2022-04-20</td>\n",
       "      <td>FOLGELASTSCHRIFT</td>\n",
       "      <td>EREF+FAEWXXXBXHFNPGADMREF+DXe+AXFjOVAy,JIiIcAK...</td>\n",
       "      <td>AMAZON PAYMENTS EUROPE S.C.A.</td>\n",
       "      <td>-14</td>\n",
       "      <td>April</td>\n",
       "      <td>NaN</td>\n",
       "      <td>-14.00</td>\n",
       "      <td>Others</td>\n",
       "    </tr>\n",
       "    <tr>\n",
       "      <th>120</th>\n",
       "      <td>2022-04-19</td>\n",
       "      <td>KARTENZAHLUNG</td>\n",
       "      <td>SVWZ+XXXX-XX-XXTXX.XXDebitk.X XXXX-XXABWA+REWE...</td>\n",
       "      <td>REWE Markt GmbH</td>\n",
       "      <td>-16</td>\n",
       "      <td>April</td>\n",
       "      <td>NaN</td>\n",
       "      <td>-16.00</td>\n",
       "      <td>Groceries</td>\n",
       "    </tr>\n",
       "    <tr>\n",
       "      <th>121</th>\n",
       "      <td>2022-04-19</td>\n",
       "      <td>KARTENZAHLUNG</td>\n",
       "      <td>SVWZ+XXXX-XX-XXTXX.XXDebitk.X XXXX-XXABWA+CHID...</td>\n",
       "      <td>CHIDOBA MEXICAN GRILL</td>\n",
       "      <td>-8</td>\n",
       "      <td>April</td>\n",
       "      <td>NaN</td>\n",
       "      <td>-8.00</td>\n",
       "      <td>Restaurants and Delivery</td>\n",
       "    </tr>\n",
       "    <tr>\n",
       "      <th>122</th>\n",
       "      <td>2022-04-19</td>\n",
       "      <td>BARGELDAUSZAHLUNG</td>\n",
       "      <td>SVWZ+XXXX-XX-XXTXX.XXDebitk.X XXXX-XXABWA+DIJO...</td>\n",
       "      <td>RHEINHESSEN SPARKASSE</td>\n",
       "      <td>-35</td>\n",
       "      <td>April</td>\n",
       "      <td>NaN</td>\n",
       "      <td>-35.00</td>\n",
       "      <td>ATM Withdraw</td>\n",
       "    </tr>\n",
       "    <tr>\n",
       "      <th>123</th>\n",
       "      <td>2022-04-19</td>\n",
       "      <td>FOLGELASTSCHRIFT</td>\n",
       "      <td>EREF+XXXXXXXXXX OB-YXXXXXXXXXMREF+XXXXXXXXXXXX...</td>\n",
       "      <td>HEK - Hanseatische Krankenkasse</td>\n",
       "      <td>-112</td>\n",
       "      <td>April</td>\n",
       "      <td>NaN</td>\n",
       "      <td>-112.00</td>\n",
       "      <td>Health Insurance</td>\n",
       "    </tr>\n",
       "    <tr>\n",
       "      <th>124</th>\n",
       "      <td>2022-04-14</td>\n",
       "      <td>ONLINE-UEBERWEISUNG</td>\n",
       "      <td>SVWZ+DUXXXXXXXAXDATUM XX.XX.XXXX, XX.XX UHR</td>\n",
       "      <td>Ratepay GmbH - OTTO Marktplatz</td>\n",
       "      <td>-26</td>\n",
       "      <td>April</td>\n",
       "      <td>NaN</td>\n",
       "      <td>-26.00</td>\n",
       "      <td>Others</td>\n",
       "    </tr>\n",
       "    <tr>\n",
       "      <th>125</th>\n",
       "      <td>2022-04-14</td>\n",
       "      <td>ONLINE-UEBERWEISUNG</td>\n",
       "      <td>SVWZ+Danke HabubDATUM XX.XX.XXXX, XX.XX UHR</td>\n",
       "      <td>Nadim Rai</td>\n",
       "      <td>-7</td>\n",
       "      <td>April</td>\n",
       "      <td>NaN</td>\n",
       "      <td>-7.00</td>\n",
       "      <td>Others</td>\n",
       "    </tr>\n",
       "    <tr>\n",
       "      <th>126</th>\n",
       "      <td>2022-04-14</td>\n",
       "      <td>KARTENZAHLUNG</td>\n",
       "      <td>SVWZ+XXXX-XX-XXTXX.XXDebitk.X XXXX-XXABWA+PENN...</td>\n",
       "      <td>Penny Altstadt</td>\n",
       "      <td>-4</td>\n",
       "      <td>April</td>\n",
       "      <td>NaN</td>\n",
       "      <td>-4.00</td>\n",
       "      <td>Groceries</td>\n",
       "    </tr>\n",
       "    <tr>\n",
       "      <th>127</th>\n",
       "      <td>2022-04-14</td>\n",
       "      <td>BARGELDAUSZAHLUNG</td>\n",
       "      <td>SVWZ+XXXX-XX-XXTXX.XXDebitk.X XXXX-XXABWA+AMDO...</td>\n",
       "      <td>RHEINHESSEN SPARKASSE</td>\n",
       "      <td>-550</td>\n",
       "      <td>April</td>\n",
       "      <td>NaN</td>\n",
       "      <td>-550.00</td>\n",
       "      <td>ATM Withdraw</td>\n",
       "    </tr>\n",
       "    <tr>\n",
       "      <th>128</th>\n",
       "      <td>2022-04-13</td>\n",
       "      <td>KARTENZAHLUNG</td>\n",
       "      <td>SVWZ+XXXX-XX-XXTXX.XXDebitk.X XXXX-XXABWA+REWE...</td>\n",
       "      <td>REWE Markt GmbH</td>\n",
       "      <td>-5</td>\n",
       "      <td>April</td>\n",
       "      <td>NaN</td>\n",
       "      <td>-5.00</td>\n",
       "      <td>Groceries</td>\n",
       "    </tr>\n",
       "    <tr>\n",
       "      <th>129</th>\n",
       "      <td>2022-04-13</td>\n",
       "      <td>KARTENZAHLUNG</td>\n",
       "      <td>SVWZ+XXXX-XX-XXTXX.XXDebitk.X XXXX-XXABWA+DIE ...</td>\n",
       "      <td>Die Lohners</td>\n",
       "      <td>-2</td>\n",
       "      <td>April</td>\n",
       "      <td>NaN</td>\n",
       "      <td>-2.00</td>\n",
       "      <td>Groceries</td>\n",
       "    </tr>\n",
       "    <tr>\n",
       "      <th>130</th>\n",
       "      <td>2022-04-12</td>\n",
       "      <td>FOLGELASTSCHRIFT</td>\n",
       "      <td>EREF+X-XXXXXXXMREF+XXXXXCRED+DEXXSWMXXXXXXXXXX...</td>\n",
       "      <td>Studierendenwerk Mainz A.ö.R.</td>\n",
       "      <td>-371</td>\n",
       "      <td>April</td>\n",
       "      <td>NaN</td>\n",
       "      <td>-371.00</td>\n",
       "      <td>Rent</td>\n",
       "    </tr>\n",
       "    <tr>\n",
       "      <th>131</th>\n",
       "      <td>2022-04-07</td>\n",
       "      <td>KARTENZAHLUNG</td>\n",
       "      <td>SVWZ+XXXX-XX-XXTXX.XXDebitk.X XXXX-XXABWA+REWE...</td>\n",
       "      <td>REWE Markt GmbH</td>\n",
       "      <td>-13</td>\n",
       "      <td>April</td>\n",
       "      <td>NaN</td>\n",
       "      <td>-13.00</td>\n",
       "      <td>Groceries</td>\n",
       "    </tr>\n",
       "    <tr>\n",
       "      <th>132</th>\n",
       "      <td>2022-04-07</td>\n",
       "      <td>FOLGELASTSCHRIFT</td>\n",
       "      <td>EREF+XXXXXXXXXXXXXXXXXXXXXXXXXXXXRCURMREF+TXXX...</td>\n",
       "      <td>Telefonica Germany GmbH + Co. OHG</td>\n",
       "      <td>-9</td>\n",
       "      <td>April</td>\n",
       "      <td>NaN</td>\n",
       "      <td>-9.00</td>\n",
       "      <td>Others</td>\n",
       "    </tr>\n",
       "    <tr>\n",
       "      <th>133</th>\n",
       "      <td>2022-04-05</td>\n",
       "      <td>FOLGELASTSCHRIFT</td>\n",
       "      <td>EREF+MZXXX--XXXX-XXXXXXXMREF+MLREFMZXXXXXXXXCR...</td>\n",
       "      <td>RSG Group GmbH</td>\n",
       "      <td>-25</td>\n",
       "      <td>April</td>\n",
       "      <td>NaN</td>\n",
       "      <td>-25.00</td>\n",
       "      <td>Others</td>\n",
       "    </tr>\n",
       "    <tr>\n",
       "      <th>134</th>\n",
       "      <td>2022-04-04</td>\n",
       "      <td>KARTENZAHLUNG</td>\n",
       "      <td>SVWZ+XXXX-XX-XXTXX.XXDebitk.X XXXX-XXABWA+REWE...</td>\n",
       "      <td>REWE Markt GmbH</td>\n",
       "      <td>-4</td>\n",
       "      <td>April</td>\n",
       "      <td>NaN</td>\n",
       "      <td>-4.00</td>\n",
       "      <td>Groceries</td>\n",
       "    </tr>\n",
       "    <tr>\n",
       "      <th>135</th>\n",
       "      <td>2022-04-04</td>\n",
       "      <td>KARTENZAHLUNG</td>\n",
       "      <td>SVWZ+XXXX-XX-XXTXX.XXDebitk.X XXXX-XXABWA+ALDI...</td>\n",
       "      <td>ALDI SUED SAGT DANKE</td>\n",
       "      <td>-20</td>\n",
       "      <td>April</td>\n",
       "      <td>NaN</td>\n",
       "      <td>-20.00</td>\n",
       "      <td>Groceries</td>\n",
       "    </tr>\n",
       "    <tr>\n",
       "      <th>136</th>\n",
       "      <td>2022-04-04</td>\n",
       "      <td>FOLGELASTSCHRIFT</td>\n",
       "      <td>EREF+XXXXXXXXXXXXX PAYPALMREF+XJTJXXXVDLSZXCRE...</td>\n",
       "      <td>PayPal (Europe) S.a r.l. et Cie, S.C.A.</td>\n",
       "      <td>-8</td>\n",
       "      <td>April</td>\n",
       "      <td>NaN</td>\n",
       "      <td>-8.00</td>\n",
       "      <td>Restaurants and Delivery</td>\n",
       "    </tr>\n",
       "    <tr>\n",
       "      <th>137</th>\n",
       "      <td>2022-04-01</td>\n",
       "      <td>FOLGELASTSCHRIFT</td>\n",
       "      <td>EREF+XXXXXXXXXXXXX PAYPALMREF+XJTJXXXVDLSZXCRE...</td>\n",
       "      <td>PayPal (Europe) S.a r.l. et Cie, S.C.A.</td>\n",
       "      <td>-7</td>\n",
       "      <td>April</td>\n",
       "      <td>NaN</td>\n",
       "      <td>-7.00</td>\n",
       "      <td>Restaurants and Delivery</td>\n",
       "    </tr>\n",
       "  </tbody>\n",
       "</table>\n",
       "</div>"
      ],
      "text/plain": [
       "    Date of value           Booking text  \\\n",
       "103    2022-04-29  GUTSCHR. UEBERWEISUNG   \n",
       "104    2022-04-29           LOHN  GEHALT   \n",
       "105    2022-04-28          KARTENZAHLUNG   \n",
       "106    2022-04-27      BARGELDAUSZAHLUNG   \n",
       "107    2022-04-27          KARTENZAHLUNG   \n",
       "108    2022-04-26          KARTENZAHLUNG   \n",
       "109    2022-04-25          KARTENZAHLUNG   \n",
       "110    2022-04-25          KARTENZAHLUNG   \n",
       "111    2022-04-25          KARTENZAHLUNG   \n",
       "112    2022-04-25          KARTENZAHLUNG   \n",
       "113    2022-04-22          KARTENZAHLUNG   \n",
       "114    2022-04-21          KARTENZAHLUNG   \n",
       "115    2022-04-20          KARTENZAHLUNG   \n",
       "116    2022-04-20          KARTENZAHLUNG   \n",
       "117    2022-04-20          KARTENZAHLUNG   \n",
       "118    2022-04-20       FOLGELASTSCHRIFT   \n",
       "119    2022-04-20       FOLGELASTSCHRIFT   \n",
       "120    2022-04-19          KARTENZAHLUNG   \n",
       "121    2022-04-19          KARTENZAHLUNG   \n",
       "122    2022-04-19      BARGELDAUSZAHLUNG   \n",
       "123    2022-04-19       FOLGELASTSCHRIFT   \n",
       "124    2022-04-14    ONLINE-UEBERWEISUNG   \n",
       "125    2022-04-14    ONLINE-UEBERWEISUNG   \n",
       "126    2022-04-14          KARTENZAHLUNG   \n",
       "127    2022-04-14      BARGELDAUSZAHLUNG   \n",
       "128    2022-04-13          KARTENZAHLUNG   \n",
       "129    2022-04-13          KARTENZAHLUNG   \n",
       "130    2022-04-12       FOLGELASTSCHRIFT   \n",
       "131    2022-04-07          KARTENZAHLUNG   \n",
       "132    2022-04-07       FOLGELASTSCHRIFT   \n",
       "133    2022-04-05       FOLGELASTSCHRIFT   \n",
       "134    2022-04-04          KARTENZAHLUNG   \n",
       "135    2022-04-04          KARTENZAHLUNG   \n",
       "136    2022-04-04       FOLGELASTSCHRIFT   \n",
       "137    2022-04-01       FOLGELASTSCHRIFT   \n",
       "\n",
       "                                        Purpose of use  \\\n",
       "103                                              EREF+   \n",
       "104                                              EREF+   \n",
       "105  SVWZ+XXXX-XX-XXTXX.XXDebitk.X XXXX-XXABWA+BAHN...   \n",
       "106  SVWZ+XXXX-XX-XXTXX.XXDebitk.X XXXX-XXABWA+STAD...   \n",
       "107  SVWZ+XXXX-XX-XXTXX.XXDebitk.X XXXX-XXABWA+REWE...   \n",
       "108  SVWZ+XXXX-XX-XXTXX.XXDebitk.X XXXX-XXABWA+ALDI...   \n",
       "109  SVWZ+XXXX-XX-XXTXX.XXDebitk.X XXXX-XXABWA+REWE...   \n",
       "110  SVWZ+XXXX-XX-XXTXX.XXDebitk.X XXXX-XXABWA+REWE...   \n",
       "111  SVWZ+XXXX-XX-XXTXX.XXDebitk.X XXXX-XXABWA+REWE...   \n",
       "112  SVWZ+XXXX-XX-XXTXX.XXDebitk.X XXXX-XXABWA+GOUR...   \n",
       "113  SVWZ+XXXX-XX-XXTXX.XXDebitk.X XXXX-XXABWA+Star...   \n",
       "114  SVWZ+XXXX-XX-XXTXX.XXDebitk.X XXXX-XXABWA+BERL...   \n",
       "115  SVWZ+XXXX-XX-XXTXX.XXDebitk.X XXXX-XXABWA+REWE...   \n",
       "116  SVWZ+XXXX-XX-XXTXX.XXDebitk.X XXXX-XXABWA+DIE ...   \n",
       "117  SVWZ+XXXX-XX-XXTXX.XXDebitk.X XXXX-XXABWA+ALDI...   \n",
       "118  EREF+OXQSBXXDGXXBZQITMREF+DXe+AXFjOVAy,JIiIcAK...   \n",
       "119  EREF+FAEWXXXBXHFNPGADMREF+DXe+AXFjOVAy,JIiIcAK...   \n",
       "120  SVWZ+XXXX-XX-XXTXX.XXDebitk.X XXXX-XXABWA+REWE...   \n",
       "121  SVWZ+XXXX-XX-XXTXX.XXDebitk.X XXXX-XXABWA+CHID...   \n",
       "122  SVWZ+XXXX-XX-XXTXX.XXDebitk.X XXXX-XXABWA+DIJO...   \n",
       "123  EREF+XXXXXXXXXX OB-YXXXXXXXXXMREF+XXXXXXXXXXXX...   \n",
       "124        SVWZ+DUXXXXXXXAXDATUM XX.XX.XXXX, XX.XX UHR   \n",
       "125        SVWZ+Danke HabubDATUM XX.XX.XXXX, XX.XX UHR   \n",
       "126  SVWZ+XXXX-XX-XXTXX.XXDebitk.X XXXX-XXABWA+PENN...   \n",
       "127  SVWZ+XXXX-XX-XXTXX.XXDebitk.X XXXX-XXABWA+AMDO...   \n",
       "128  SVWZ+XXXX-XX-XXTXX.XXDebitk.X XXXX-XXABWA+REWE...   \n",
       "129  SVWZ+XXXX-XX-XXTXX.XXDebitk.X XXXX-XXABWA+DIE ...   \n",
       "130  EREF+X-XXXXXXXMREF+XXXXXCRED+DEXXSWMXXXXXXXXXX...   \n",
       "131  SVWZ+XXXX-XX-XXTXX.XXDebitk.X XXXX-XXABWA+REWE...   \n",
       "132  EREF+XXXXXXXXXXXXXXXXXXXXXXXXXXXXRCURMREF+TXXX...   \n",
       "133  EREF+MZXXX--XXXX-XXXXXXXMREF+MLREFMZXXXXXXXXCR...   \n",
       "134  SVWZ+XXXX-XX-XXTXX.XXDebitk.X XXXX-XXABWA+REWE...   \n",
       "135  SVWZ+XXXX-XX-XXTXX.XXDebitk.X XXXX-XXABWA+ALDI...   \n",
       "136  EREF+XXXXXXXXXXXXX PAYPALMREF+XJTJXXXVDLSZXCRE...   \n",
       "137  EREF+XXXXXXXXXXXXX PAYPALMREF+XJTJXXXVDLSZXCRE...   \n",
       "\n",
       "                 Beguenstigter/Zahlungspflichtiger  Booking amount  Month  \\\n",
       "103                                         Gehalt             861  April   \n",
       "104                                         Gehalt             451  April   \n",
       "105                                BAHNOF APOTHEKE              -5  April   \n",
       "106                          RHEINHESSEN SPARKASSE             -65  April   \n",
       "107                                REWE Markt GmbH             -14  April   \n",
       "108                           ALDI SUED SAGT DANKE             -13  April   \n",
       "109                                REWE Markt GmbH             -38  April   \n",
       "110                                REWE Markt GmbH              -9  April   \n",
       "111                           REWE Yama Akbary oHG              -9  April   \n",
       "112                                  frittenglueck             -11  April   \n",
       "113       Landesbank Hessen-Thuringen Girozentrale              -4  April   \n",
       "114                         BERLINER GEMUESE KEBAP              -7  April   \n",
       "115                                REWE Markt GmbH             -11  April   \n",
       "116                                    Die Lohners              -3  April   \n",
       "117                           ALDI SUED SAGT DANKE              -9  April   \n",
       "118  AMAZON EU S.A R.L., NIEDERLASSUNG DEUTSCHLAND              -8  April   \n",
       "119                  AMAZON PAYMENTS EUROPE S.C.A.             -14  April   \n",
       "120                                REWE Markt GmbH             -16  April   \n",
       "121                          CHIDOBA MEXICAN GRILL              -8  April   \n",
       "122                          RHEINHESSEN SPARKASSE             -35  April   \n",
       "123                HEK - Hanseatische Krankenkasse            -112  April   \n",
       "124                 Ratepay GmbH - OTTO Marktplatz             -26  April   \n",
       "125                                      Nadim Rai              -7  April   \n",
       "126                                 Penny Altstadt              -4  April   \n",
       "127                          RHEINHESSEN SPARKASSE            -550  April   \n",
       "128                                REWE Markt GmbH              -5  April   \n",
       "129                                    Die Lohners              -2  April   \n",
       "130                  Studierendenwerk Mainz A.ö.R.            -371  April   \n",
       "131                                REWE Markt GmbH             -13  April   \n",
       "132              Telefonica Germany GmbH + Co. OHG              -9  April   \n",
       "133                                 RSG Group GmbH             -25  April   \n",
       "134                                REWE Markt GmbH              -4  April   \n",
       "135                           ALDI SUED SAGT DANKE             -20  April   \n",
       "136        PayPal (Europe) S.a r.l. et Cie, S.C.A.              -8  April   \n",
       "137        PayPal (Europe) S.a r.l. et Cie, S.C.A.              -7  April   \n",
       "\n",
       "     Money_Earned  Money_Spent        Art of transaction  \n",
       "103        861.00          NaN                    Others  \n",
       "104        451.00          NaN                    Others  \n",
       "105           NaN        -5.00                    Others  \n",
       "106           NaN       -65.00              ATM Withdraw  \n",
       "107           NaN       -14.00                 Groceries  \n",
       "108           NaN       -13.00                 Groceries  \n",
       "109           NaN       -38.00                 Groceries  \n",
       "110           NaN        -9.00                 Groceries  \n",
       "111           NaN        -9.00                 Groceries  \n",
       "112           NaN       -11.00                    Others  \n",
       "113           NaN        -4.00                    Others  \n",
       "114           NaN        -7.00                    Others  \n",
       "115           NaN       -11.00                 Groceries  \n",
       "116           NaN        -3.00                 Groceries  \n",
       "117           NaN        -9.00                 Groceries  \n",
       "118           NaN        -8.00             Subscriptions  \n",
       "119           NaN       -14.00                    Others  \n",
       "120           NaN       -16.00                 Groceries  \n",
       "121           NaN        -8.00  Restaurants and Delivery  \n",
       "122           NaN       -35.00              ATM Withdraw  \n",
       "123           NaN      -112.00          Health Insurance  \n",
       "124           NaN       -26.00                    Others  \n",
       "125           NaN        -7.00                    Others  \n",
       "126           NaN        -4.00                 Groceries  \n",
       "127           NaN      -550.00              ATM Withdraw  \n",
       "128           NaN        -5.00                 Groceries  \n",
       "129           NaN        -2.00                 Groceries  \n",
       "130           NaN      -371.00                      Rent  \n",
       "131           NaN       -13.00                 Groceries  \n",
       "132           NaN        -9.00                    Others  \n",
       "133           NaN       -25.00                    Others  \n",
       "134           NaN        -4.00                 Groceries  \n",
       "135           NaN       -20.00                 Groceries  \n",
       "136           NaN        -8.00  Restaurants and Delivery  \n",
       "137           NaN        -7.00  Restaurants and Delivery  "
      ]
     },
     "execution_count": 128,
     "metadata": {},
     "output_type": "execute_result"
    }
   ],
   "source": [
    "data[data[\"Month\"]==\"April\"]"
   ]
  },
  {
   "cell_type": "code",
   "execution_count": 129,
   "metadata": {},
   "outputs": [
    {
     "data": {
      "text/plain": [
       "-2503.0"
      ]
     },
     "execution_count": 129,
     "metadata": {},
     "output_type": "execute_result"
    }
   ],
   "source": [
    "data[data.Month==\"June\"][\"Money_Spent\"].sum()"
   ]
  },
  {
   "cell_type": "markdown",
   "metadata": {},
   "source": [
    "# Money spend Monthly Vs money gained"
   ]
  },
  {
   "cell_type": "markdown",
   "metadata": {},
   "source": [
    "- lets compare how much is being spent and how much is being made "
   ]
  },
  {
   "cell_type": "code",
   "execution_count": 130,
   "metadata": {},
   "outputs": [
    {
     "data": {
      "text/html": [
       "<div>\n",
       "<style scoped>\n",
       "    .dataframe tbody tr th:only-of-type {\n",
       "        vertical-align: middle;\n",
       "    }\n",
       "\n",
       "    .dataframe tbody tr th {\n",
       "        vertical-align: top;\n",
       "    }\n",
       "\n",
       "    .dataframe thead th {\n",
       "        text-align: right;\n",
       "    }\n",
       "</style>\n",
       "<table border=\"1\" class=\"dataframe\">\n",
       "  <thead>\n",
       "    <tr style=\"text-align: right;\">\n",
       "      <th></th>\n",
       "      <th>Booking amount</th>\n",
       "      <th>Money_Earned</th>\n",
       "      <th>Money_Spent</th>\n",
       "    </tr>\n",
       "    <tr>\n",
       "      <th>Month</th>\n",
       "      <th></th>\n",
       "      <th></th>\n",
       "      <th></th>\n",
       "    </tr>\n",
       "  </thead>\n",
       "  <tbody>\n",
       "    <tr>\n",
       "      <th>April</th>\n",
       "      <td>-130</td>\n",
       "      <td>1312.00</td>\n",
       "      <td>-1442.00</td>\n",
       "    </tr>\n",
       "    <tr>\n",
       "      <th>February</th>\n",
       "      <td>278</td>\n",
       "      <td>1312.00</td>\n",
       "      <td>-1034.00</td>\n",
       "    </tr>\n",
       "    <tr>\n",
       "      <th>January</th>\n",
       "      <td>-334</td>\n",
       "      <td>1416.00</td>\n",
       "      <td>-1750.00</td>\n",
       "    </tr>\n",
       "    <tr>\n",
       "      <th>June</th>\n",
       "      <td>-144</td>\n",
       "      <td>2359.00</td>\n",
       "      <td>-2503.00</td>\n",
       "    </tr>\n",
       "    <tr>\n",
       "      <th>March</th>\n",
       "      <td>-93</td>\n",
       "      <td>1423.00</td>\n",
       "      <td>-1516.00</td>\n",
       "    </tr>\n",
       "    <tr>\n",
       "      <th>May</th>\n",
       "      <td>1166</td>\n",
       "      <td>2950.00</td>\n",
       "      <td>-1784.00</td>\n",
       "    </tr>\n",
       "  </tbody>\n",
       "</table>\n",
       "</div>"
      ],
      "text/plain": [
       "          Booking amount  Money_Earned  Money_Spent\n",
       "Month                                              \n",
       "April               -130       1312.00     -1442.00\n",
       "February             278       1312.00     -1034.00\n",
       "January             -334       1416.00     -1750.00\n",
       "June                -144       2359.00     -2503.00\n",
       "March                -93       1423.00     -1516.00\n",
       "May                 1166       2950.00     -1784.00"
      ]
     },
     "execution_count": 130,
     "metadata": {},
     "output_type": "execute_result"
    }
   ],
   "source": [
    "spent_vs_gained=data.fillna(0)\n",
    "spent_vs_gained=spent_vs_gained.groupby([\"Month\"],as_index=True).sum()\n",
    "spent_vs_gained"
   ]
  },
  {
   "cell_type": "code",
   "execution_count": 131,
   "metadata": {},
   "outputs": [
    {
     "data": {
      "text/html": [
       "<div>\n",
       "<style scoped>\n",
       "    .dataframe tbody tr th:only-of-type {\n",
       "        vertical-align: middle;\n",
       "    }\n",
       "\n",
       "    .dataframe tbody tr th {\n",
       "        vertical-align: top;\n",
       "    }\n",
       "\n",
       "    .dataframe thead th {\n",
       "        text-align: right;\n",
       "    }\n",
       "</style>\n",
       "<table border=\"1\" class=\"dataframe\">\n",
       "  <thead>\n",
       "    <tr style=\"text-align: right;\">\n",
       "      <th></th>\n",
       "      <th>Booking amount</th>\n",
       "      <th>Money_Earned</th>\n",
       "      <th>Money_Spent</th>\n",
       "      <th>Money_saved</th>\n",
       "    </tr>\n",
       "    <tr>\n",
       "      <th>Month</th>\n",
       "      <th></th>\n",
       "      <th></th>\n",
       "      <th></th>\n",
       "      <th></th>\n",
       "    </tr>\n",
       "  </thead>\n",
       "  <tbody>\n",
       "    <tr>\n",
       "      <th>April</th>\n",
       "      <td>-130</td>\n",
       "      <td>1312.00</td>\n",
       "      <td>1442.00</td>\n",
       "      <td>-130.00</td>\n",
       "    </tr>\n",
       "    <tr>\n",
       "      <th>February</th>\n",
       "      <td>278</td>\n",
       "      <td>1312.00</td>\n",
       "      <td>1034.00</td>\n",
       "      <td>278.00</td>\n",
       "    </tr>\n",
       "    <tr>\n",
       "      <th>January</th>\n",
       "      <td>-334</td>\n",
       "      <td>1416.00</td>\n",
       "      <td>1750.00</td>\n",
       "      <td>-334.00</td>\n",
       "    </tr>\n",
       "    <tr>\n",
       "      <th>June</th>\n",
       "      <td>-144</td>\n",
       "      <td>2359.00</td>\n",
       "      <td>2503.00</td>\n",
       "      <td>-144.00</td>\n",
       "    </tr>\n",
       "    <tr>\n",
       "      <th>March</th>\n",
       "      <td>-93</td>\n",
       "      <td>1423.00</td>\n",
       "      <td>1516.00</td>\n",
       "      <td>-93.00</td>\n",
       "    </tr>\n",
       "    <tr>\n",
       "      <th>May</th>\n",
       "      <td>1166</td>\n",
       "      <td>2950.00</td>\n",
       "      <td>1784.00</td>\n",
       "      <td>1166.00</td>\n",
       "    </tr>\n",
       "  </tbody>\n",
       "</table>\n",
       "</div>"
      ],
      "text/plain": [
       "          Booking amount  Money_Earned  Money_Spent  Money_saved\n",
       "Month                                                           \n",
       "April               -130       1312.00      1442.00      -130.00\n",
       "February             278       1312.00      1034.00       278.00\n",
       "January             -334       1416.00      1750.00      -334.00\n",
       "June                -144       2359.00      2503.00      -144.00\n",
       "March                -93       1423.00      1516.00       -93.00\n",
       "May                 1166       2950.00      1784.00      1166.00"
      ]
     },
     "execution_count": 131,
     "metadata": {},
     "output_type": "execute_result"
    }
   ],
   "source": [
    "# we delete the negative signals so its easier to visualize\n",
    "spent_vs_gained['Money_Spent'] = spent_vs_gained['Money_Spent'].abs()\n",
    "# saved money calculaction\n",
    "spent_vs_gained[\"Money_saved\"]=spent_vs_gained[\"Money_Earned\"]-spent_vs_gained[\"Money_Spent\"]\n",
    "spent_vs_gained"
   ]
  },
  {
   "cell_type": "code",
   "execution_count": 132,
   "metadata": {},
   "outputs": [
    {
     "data": {
      "text/html": [
       "<div>\n",
       "<style scoped>\n",
       "    .dataframe tbody tr th:only-of-type {\n",
       "        vertical-align: middle;\n",
       "    }\n",
       "\n",
       "    .dataframe tbody tr th {\n",
       "        vertical-align: top;\n",
       "    }\n",
       "\n",
       "    .dataframe thead th {\n",
       "        text-align: right;\n",
       "    }\n",
       "</style>\n",
       "<table border=\"1\" class=\"dataframe\">\n",
       "  <thead>\n",
       "    <tr style=\"text-align: right;\">\n",
       "      <th></th>\n",
       "      <th>Booking amount</th>\n",
       "      <th>Money_Earned</th>\n",
       "      <th>Money_Spent</th>\n",
       "      <th>Money_saved</th>\n",
       "      <th>Months</th>\n",
       "    </tr>\n",
       "    <tr>\n",
       "      <th>Month</th>\n",
       "      <th></th>\n",
       "      <th></th>\n",
       "      <th></th>\n",
       "      <th></th>\n",
       "      <th></th>\n",
       "    </tr>\n",
       "  </thead>\n",
       "  <tbody>\n",
       "    <tr>\n",
       "      <th>January</th>\n",
       "      <td>-334</td>\n",
       "      <td>1416.00</td>\n",
       "      <td>1750.00</td>\n",
       "      <td>-334.00</td>\n",
       "      <td>1</td>\n",
       "    </tr>\n",
       "    <tr>\n",
       "      <th>February</th>\n",
       "      <td>278</td>\n",
       "      <td>1312.00</td>\n",
       "      <td>1034.00</td>\n",
       "      <td>278.00</td>\n",
       "      <td>2</td>\n",
       "    </tr>\n",
       "    <tr>\n",
       "      <th>March</th>\n",
       "      <td>-93</td>\n",
       "      <td>1423.00</td>\n",
       "      <td>1516.00</td>\n",
       "      <td>-93.00</td>\n",
       "      <td>3</td>\n",
       "    </tr>\n",
       "    <tr>\n",
       "      <th>April</th>\n",
       "      <td>-130</td>\n",
       "      <td>1312.00</td>\n",
       "      <td>1442.00</td>\n",
       "      <td>-130.00</td>\n",
       "      <td>4</td>\n",
       "    </tr>\n",
       "    <tr>\n",
       "      <th>May</th>\n",
       "      <td>1166</td>\n",
       "      <td>2950.00</td>\n",
       "      <td>1784.00</td>\n",
       "      <td>1166.00</td>\n",
       "      <td>5</td>\n",
       "    </tr>\n",
       "    <tr>\n",
       "      <th>June</th>\n",
       "      <td>-144</td>\n",
       "      <td>2359.00</td>\n",
       "      <td>2503.00</td>\n",
       "      <td>-144.00</td>\n",
       "      <td>6</td>\n",
       "    </tr>\n",
       "  </tbody>\n",
       "</table>\n",
       "</div>"
      ],
      "text/plain": [
       "          Booking amount  Money_Earned  Money_Spent  Money_saved  Months\n",
       "Month                                                                   \n",
       "January             -334       1416.00      1750.00      -334.00       1\n",
       "February             278       1312.00      1034.00       278.00       2\n",
       "March                -93       1423.00      1516.00       -93.00       3\n",
       "April               -130       1312.00      1442.00      -130.00       4\n",
       "May                 1166       2950.00      1784.00      1166.00       5\n",
       "June                -144       2359.00      2503.00      -144.00       6"
      ]
     },
     "execution_count": 132,
     "metadata": {},
     "output_type": "execute_result"
    }
   ],
   "source": [
    "#here we add the months as numbers so we can sort them\n",
    "spent_vs_gained[\"Months\"] = pd.to_datetime(spent_vs_gained.index, format='%B', errors='coerce').month\n",
    "spent_vs_gained.sort_values(by=\"Months\",inplace=True)\n",
    "spent_vs_gained"
   ]
  },
  {
   "cell_type": "code",
   "execution_count": 133,
   "metadata": {},
   "outputs": [
    {
     "data": {
      "application/vnd.plotly.v1+json": {
       "config": {
        "plotlyServerURL": "https://plot.ly"
       },
       "data": [
        {
         "alignmentgroup": "True",
         "hovertemplate": "=Money_Earned<br>Month=%{x}<br>Amount in €=%{text}<extra></extra>",
         "insidetextanchor": "middle",
         "legendgroup": "Money_Earned",
         "marker": {
          "color": "#003f5c",
          "pattern": {
           "shape": ""
          }
         },
         "name": "Money_Earned",
         "offsetgroup": "Money_Earned",
         "orientation": "v",
         "showlegend": true,
         "text": [
          1416,
          1312,
          1423,
          1312,
          2950,
          2359
         ],
         "textposition": "inside",
         "type": "bar",
         "x": [
          "January",
          "February",
          "March",
          "April",
          "May",
          "June"
         ],
         "xaxis": "x",
         "y": [
          1416,
          1312,
          1423,
          1312,
          2950,
          2359
         ],
         "yaxis": "y"
        },
        {
         "alignmentgroup": "True",
         "hovertemplate": "=Money_Spent<br>Month=%{x}<br>Amount in €=%{text}<extra></extra>",
         "insidetextanchor": "middle",
         "legendgroup": "Money_Spent",
         "marker": {
          "color": "#ffa600",
          "pattern": {
           "shape": ""
          }
         },
         "name": "Money_Spent",
         "offsetgroup": "Money_Spent",
         "orientation": "v",
         "showlegend": true,
         "text": [
          1750,
          1034,
          1516,
          1442,
          1784,
          2503
         ],
         "textposition": "inside",
         "type": "bar",
         "x": [
          "January",
          "February",
          "March",
          "April",
          "May",
          "June"
         ],
         "xaxis": "x",
         "y": [
          1750,
          1034,
          1516,
          1442,
          1784,
          2503
         ],
         "yaxis": "y"
        }
       ],
       "layout": {
        "barmode": "group",
        "font": {
         "size": 15
        },
        "height": 700,
        "legend": {
         "title": {
          "text": ""
         },
         "tracegroupgap": 0
        },
        "showlegend": true,
        "template": {
         "data": {
          "bar": [
           {
            "error_x": {
             "color": "#2a3f5f"
            },
            "error_y": {
             "color": "#2a3f5f"
            },
            "marker": {
             "line": {
              "color": "#E5ECF6",
              "width": 0.5
             },
             "pattern": {
              "fillmode": "overlay",
              "size": 10,
              "solidity": 0.2
             }
            },
            "type": "bar"
           }
          ],
          "barpolar": [
           {
            "marker": {
             "line": {
              "color": "#E5ECF6",
              "width": 0.5
             },
             "pattern": {
              "fillmode": "overlay",
              "size": 10,
              "solidity": 0.2
             }
            },
            "type": "barpolar"
           }
          ],
          "carpet": [
           {
            "aaxis": {
             "endlinecolor": "#2a3f5f",
             "gridcolor": "white",
             "linecolor": "white",
             "minorgridcolor": "white",
             "startlinecolor": "#2a3f5f"
            },
            "baxis": {
             "endlinecolor": "#2a3f5f",
             "gridcolor": "white",
             "linecolor": "white",
             "minorgridcolor": "white",
             "startlinecolor": "#2a3f5f"
            },
            "type": "carpet"
           }
          ],
          "choropleth": [
           {
            "colorbar": {
             "outlinewidth": 0,
             "ticks": ""
            },
            "type": "choropleth"
           }
          ],
          "contour": [
           {
            "colorbar": {
             "outlinewidth": 0,
             "ticks": ""
            },
            "colorscale": [
             [
              0,
              "#0d0887"
             ],
             [
              0.1111111111111111,
              "#46039f"
             ],
             [
              0.2222222222222222,
              "#7201a8"
             ],
             [
              0.3333333333333333,
              "#9c179e"
             ],
             [
              0.4444444444444444,
              "#bd3786"
             ],
             [
              0.5555555555555556,
              "#d8576b"
             ],
             [
              0.6666666666666666,
              "#ed7953"
             ],
             [
              0.7777777777777778,
              "#fb9f3a"
             ],
             [
              0.8888888888888888,
              "#fdca26"
             ],
             [
              1,
              "#f0f921"
             ]
            ],
            "type": "contour"
           }
          ],
          "contourcarpet": [
           {
            "colorbar": {
             "outlinewidth": 0,
             "ticks": ""
            },
            "type": "contourcarpet"
           }
          ],
          "heatmap": [
           {
            "colorbar": {
             "outlinewidth": 0,
             "ticks": ""
            },
            "colorscale": [
             [
              0,
              "#0d0887"
             ],
             [
              0.1111111111111111,
              "#46039f"
             ],
             [
              0.2222222222222222,
              "#7201a8"
             ],
             [
              0.3333333333333333,
              "#9c179e"
             ],
             [
              0.4444444444444444,
              "#bd3786"
             ],
             [
              0.5555555555555556,
              "#d8576b"
             ],
             [
              0.6666666666666666,
              "#ed7953"
             ],
             [
              0.7777777777777778,
              "#fb9f3a"
             ],
             [
              0.8888888888888888,
              "#fdca26"
             ],
             [
              1,
              "#f0f921"
             ]
            ],
            "type": "heatmap"
           }
          ],
          "heatmapgl": [
           {
            "colorbar": {
             "outlinewidth": 0,
             "ticks": ""
            },
            "colorscale": [
             [
              0,
              "#0d0887"
             ],
             [
              0.1111111111111111,
              "#46039f"
             ],
             [
              0.2222222222222222,
              "#7201a8"
             ],
             [
              0.3333333333333333,
              "#9c179e"
             ],
             [
              0.4444444444444444,
              "#bd3786"
             ],
             [
              0.5555555555555556,
              "#d8576b"
             ],
             [
              0.6666666666666666,
              "#ed7953"
             ],
             [
              0.7777777777777778,
              "#fb9f3a"
             ],
             [
              0.8888888888888888,
              "#fdca26"
             ],
             [
              1,
              "#f0f921"
             ]
            ],
            "type": "heatmapgl"
           }
          ],
          "histogram": [
           {
            "marker": {
             "pattern": {
              "fillmode": "overlay",
              "size": 10,
              "solidity": 0.2
             }
            },
            "type": "histogram"
           }
          ],
          "histogram2d": [
           {
            "colorbar": {
             "outlinewidth": 0,
             "ticks": ""
            },
            "colorscale": [
             [
              0,
              "#0d0887"
             ],
             [
              0.1111111111111111,
              "#46039f"
             ],
             [
              0.2222222222222222,
              "#7201a8"
             ],
             [
              0.3333333333333333,
              "#9c179e"
             ],
             [
              0.4444444444444444,
              "#bd3786"
             ],
             [
              0.5555555555555556,
              "#d8576b"
             ],
             [
              0.6666666666666666,
              "#ed7953"
             ],
             [
              0.7777777777777778,
              "#fb9f3a"
             ],
             [
              0.8888888888888888,
              "#fdca26"
             ],
             [
              1,
              "#f0f921"
             ]
            ],
            "type": "histogram2d"
           }
          ],
          "histogram2dcontour": [
           {
            "colorbar": {
             "outlinewidth": 0,
             "ticks": ""
            },
            "colorscale": [
             [
              0,
              "#0d0887"
             ],
             [
              0.1111111111111111,
              "#46039f"
             ],
             [
              0.2222222222222222,
              "#7201a8"
             ],
             [
              0.3333333333333333,
              "#9c179e"
             ],
             [
              0.4444444444444444,
              "#bd3786"
             ],
             [
              0.5555555555555556,
              "#d8576b"
             ],
             [
              0.6666666666666666,
              "#ed7953"
             ],
             [
              0.7777777777777778,
              "#fb9f3a"
             ],
             [
              0.8888888888888888,
              "#fdca26"
             ],
             [
              1,
              "#f0f921"
             ]
            ],
            "type": "histogram2dcontour"
           }
          ],
          "mesh3d": [
           {
            "colorbar": {
             "outlinewidth": 0,
             "ticks": ""
            },
            "type": "mesh3d"
           }
          ],
          "parcoords": [
           {
            "line": {
             "colorbar": {
              "outlinewidth": 0,
              "ticks": ""
             }
            },
            "type": "parcoords"
           }
          ],
          "pie": [
           {
            "automargin": true,
            "type": "pie"
           }
          ],
          "scatter": [
           {
            "fillpattern": {
             "fillmode": "overlay",
             "size": 10,
             "solidity": 0.2
            },
            "type": "scatter"
           }
          ],
          "scatter3d": [
           {
            "line": {
             "colorbar": {
              "outlinewidth": 0,
              "ticks": ""
             }
            },
            "marker": {
             "colorbar": {
              "outlinewidth": 0,
              "ticks": ""
             }
            },
            "type": "scatter3d"
           }
          ],
          "scattercarpet": [
           {
            "marker": {
             "colorbar": {
              "outlinewidth": 0,
              "ticks": ""
             }
            },
            "type": "scattercarpet"
           }
          ],
          "scattergeo": [
           {
            "marker": {
             "colorbar": {
              "outlinewidth": 0,
              "ticks": ""
             }
            },
            "type": "scattergeo"
           }
          ],
          "scattergl": [
           {
            "marker": {
             "colorbar": {
              "outlinewidth": 0,
              "ticks": ""
             }
            },
            "type": "scattergl"
           }
          ],
          "scattermapbox": [
           {
            "marker": {
             "colorbar": {
              "outlinewidth": 0,
              "ticks": ""
             }
            },
            "type": "scattermapbox"
           }
          ],
          "scatterpolar": [
           {
            "marker": {
             "colorbar": {
              "outlinewidth": 0,
              "ticks": ""
             }
            },
            "type": "scatterpolar"
           }
          ],
          "scatterpolargl": [
           {
            "marker": {
             "colorbar": {
              "outlinewidth": 0,
              "ticks": ""
             }
            },
            "type": "scatterpolargl"
           }
          ],
          "scatterternary": [
           {
            "marker": {
             "colorbar": {
              "outlinewidth": 0,
              "ticks": ""
             }
            },
            "type": "scatterternary"
           }
          ],
          "surface": [
           {
            "colorbar": {
             "outlinewidth": 0,
             "ticks": ""
            },
            "colorscale": [
             [
              0,
              "#0d0887"
             ],
             [
              0.1111111111111111,
              "#46039f"
             ],
             [
              0.2222222222222222,
              "#7201a8"
             ],
             [
              0.3333333333333333,
              "#9c179e"
             ],
             [
              0.4444444444444444,
              "#bd3786"
             ],
             [
              0.5555555555555556,
              "#d8576b"
             ],
             [
              0.6666666666666666,
              "#ed7953"
             ],
             [
              0.7777777777777778,
              "#fb9f3a"
             ],
             [
              0.8888888888888888,
              "#fdca26"
             ],
             [
              1,
              "#f0f921"
             ]
            ],
            "type": "surface"
           }
          ],
          "table": [
           {
            "cells": {
             "fill": {
              "color": "#EBF0F8"
             },
             "line": {
              "color": "white"
             }
            },
            "header": {
             "fill": {
              "color": "#C8D4E3"
             },
             "line": {
              "color": "white"
             }
            },
            "type": "table"
           }
          ]
         },
         "layout": {
          "annotationdefaults": {
           "arrowcolor": "#2a3f5f",
           "arrowhead": 0,
           "arrowwidth": 1
          },
          "autotypenumbers": "strict",
          "coloraxis": {
           "colorbar": {
            "outlinewidth": 0,
            "ticks": ""
           }
          },
          "colorscale": {
           "diverging": [
            [
             0,
             "#8e0152"
            ],
            [
             0.1,
             "#c51b7d"
            ],
            [
             0.2,
             "#de77ae"
            ],
            [
             0.3,
             "#f1b6da"
            ],
            [
             0.4,
             "#fde0ef"
            ],
            [
             0.5,
             "#f7f7f7"
            ],
            [
             0.6,
             "#e6f5d0"
            ],
            [
             0.7,
             "#b8e186"
            ],
            [
             0.8,
             "#7fbc41"
            ],
            [
             0.9,
             "#4d9221"
            ],
            [
             1,
             "#276419"
            ]
           ],
           "sequential": [
            [
             0,
             "#0d0887"
            ],
            [
             0.1111111111111111,
             "#46039f"
            ],
            [
             0.2222222222222222,
             "#7201a8"
            ],
            [
             0.3333333333333333,
             "#9c179e"
            ],
            [
             0.4444444444444444,
             "#bd3786"
            ],
            [
             0.5555555555555556,
             "#d8576b"
            ],
            [
             0.6666666666666666,
             "#ed7953"
            ],
            [
             0.7777777777777778,
             "#fb9f3a"
            ],
            [
             0.8888888888888888,
             "#fdca26"
            ],
            [
             1,
             "#f0f921"
            ]
           ],
           "sequentialminus": [
            [
             0,
             "#0d0887"
            ],
            [
             0.1111111111111111,
             "#46039f"
            ],
            [
             0.2222222222222222,
             "#7201a8"
            ],
            [
             0.3333333333333333,
             "#9c179e"
            ],
            [
             0.4444444444444444,
             "#bd3786"
            ],
            [
             0.5555555555555556,
             "#d8576b"
            ],
            [
             0.6666666666666666,
             "#ed7953"
            ],
            [
             0.7777777777777778,
             "#fb9f3a"
            ],
            [
             0.8888888888888888,
             "#fdca26"
            ],
            [
             1,
             "#f0f921"
            ]
           ]
          },
          "colorway": [
           "#636efa",
           "#EF553B",
           "#00cc96",
           "#ab63fa",
           "#FFA15A",
           "#19d3f3",
           "#FF6692",
           "#B6E880",
           "#FF97FF",
           "#FECB52"
          ],
          "font": {
           "color": "#2a3f5f"
          },
          "geo": {
           "bgcolor": "white",
           "lakecolor": "white",
           "landcolor": "#E5ECF6",
           "showlakes": true,
           "showland": true,
           "subunitcolor": "white"
          },
          "hoverlabel": {
           "align": "left"
          },
          "hovermode": "closest",
          "mapbox": {
           "style": "light"
          },
          "paper_bgcolor": "white",
          "plot_bgcolor": "#E5ECF6",
          "polar": {
           "angularaxis": {
            "gridcolor": "white",
            "linecolor": "white",
            "ticks": ""
           },
           "bgcolor": "#E5ECF6",
           "radialaxis": {
            "gridcolor": "white",
            "linecolor": "white",
            "ticks": ""
           }
          },
          "scene": {
           "xaxis": {
            "backgroundcolor": "#E5ECF6",
            "gridcolor": "white",
            "gridwidth": 2,
            "linecolor": "white",
            "showbackground": true,
            "ticks": "",
            "zerolinecolor": "white"
           },
           "yaxis": {
            "backgroundcolor": "#E5ECF6",
            "gridcolor": "white",
            "gridwidth": 2,
            "linecolor": "white",
            "showbackground": true,
            "ticks": "",
            "zerolinecolor": "white"
           },
           "zaxis": {
            "backgroundcolor": "#E5ECF6",
            "gridcolor": "white",
            "gridwidth": 2,
            "linecolor": "white",
            "showbackground": true,
            "ticks": "",
            "zerolinecolor": "white"
           }
          },
          "shapedefaults": {
           "line": {
            "color": "#2a3f5f"
           }
          },
          "ternary": {
           "aaxis": {
            "gridcolor": "white",
            "linecolor": "white",
            "ticks": ""
           },
           "baxis": {
            "gridcolor": "white",
            "linecolor": "white",
            "ticks": ""
           },
           "bgcolor": "#E5ECF6",
           "caxis": {
            "gridcolor": "white",
            "linecolor": "white",
            "ticks": ""
           }
          },
          "title": {
           "x": 0.05
          },
          "xaxis": {
           "automargin": true,
           "gridcolor": "white",
           "linecolor": "white",
           "ticks": "",
           "title": {
            "standoff": 15
           },
           "zerolinecolor": "white",
           "zerolinewidth": 2
          },
          "yaxis": {
           "automargin": true,
           "gridcolor": "white",
           "linecolor": "white",
           "ticks": "",
           "title": {
            "standoff": 15
           },
           "zerolinecolor": "white",
           "zerolinewidth": 2
          }
         }
        },
        "title": {
         "font": {
          "family": "Arial Black",
          "size": 20
         },
         "text": "Money earned VS Money spent",
         "x": 0.08
        },
        "width": 900,
        "xaxis": {
         "anchor": "y",
         "domain": [
          0,
          1
         ],
         "title": {
          "text": "Month"
         }
        },
        "yaxis": {
         "anchor": "x",
         "domain": [
          0,
          1
         ],
         "showgrid": true,
         "title": {
          "text": "Amount in €"
         }
        }
       }
      },
      "text/html": [
       "<div>                            <div id=\"5bd6592f-2c1a-4f2b-adae-157245bd8555\" class=\"plotly-graph-div\" style=\"height:700px; width:900px;\"></div>            <script type=\"text/javascript\">                require([\"plotly\"], function(Plotly) {                    window.PLOTLYENV=window.PLOTLYENV || {};                                    if (document.getElementById(\"5bd6592f-2c1a-4f2b-adae-157245bd8555\")) {                    Plotly.newPlot(                        \"5bd6592f-2c1a-4f2b-adae-157245bd8555\",                        [{\"alignmentgroup\":\"True\",\"hovertemplate\":\"=Money_Earned<br>Month=%{x}<br>Amount in \\u20ac=%{text}<extra></extra>\",\"legendgroup\":\"Money_Earned\",\"marker\":{\"color\":\"#003f5c\",\"pattern\":{\"shape\":\"\"}},\"name\":\"Money_Earned\",\"offsetgroup\":\"Money_Earned\",\"orientation\":\"v\",\"showlegend\":true,\"text\":[1416.0,1312.0,1423.0,1312.0,2950.0,2359.0],\"textposition\":\"inside\",\"x\":[\"January\",\"February\",\"March\",\"April\",\"May\",\"June\"],\"xaxis\":\"x\",\"y\":[1416.0,1312.0,1423.0,1312.0,2950.0,2359.0],\"yaxis\":\"y\",\"type\":\"bar\",\"insidetextanchor\":\"middle\"},{\"alignmentgroup\":\"True\",\"hovertemplate\":\"=Money_Spent<br>Month=%{x}<br>Amount in \\u20ac=%{text}<extra></extra>\",\"legendgroup\":\"Money_Spent\",\"marker\":{\"color\":\"#ffa600\",\"pattern\":{\"shape\":\"\"}},\"name\":\"Money_Spent\",\"offsetgroup\":\"Money_Spent\",\"orientation\":\"v\",\"showlegend\":true,\"text\":[1750.0,1034.0,1516.0,1442.0,1784.0,2503.0],\"textposition\":\"inside\",\"x\":[\"January\",\"February\",\"March\",\"April\",\"May\",\"June\"],\"xaxis\":\"x\",\"y\":[1750.0,1034.0,1516.0,1442.0,1784.0,2503.0],\"yaxis\":\"y\",\"type\":\"bar\",\"insidetextanchor\":\"middle\"}],                        {\"template\":{\"data\":{\"histogram2dcontour\":[{\"type\":\"histogram2dcontour\",\"colorbar\":{\"outlinewidth\":0,\"ticks\":\"\"},\"colorscale\":[[0.0,\"#0d0887\"],[0.1111111111111111,\"#46039f\"],[0.2222222222222222,\"#7201a8\"],[0.3333333333333333,\"#9c179e\"],[0.4444444444444444,\"#bd3786\"],[0.5555555555555556,\"#d8576b\"],[0.6666666666666666,\"#ed7953\"],[0.7777777777777778,\"#fb9f3a\"],[0.8888888888888888,\"#fdca26\"],[1.0,\"#f0f921\"]]}],\"choropleth\":[{\"type\":\"choropleth\",\"colorbar\":{\"outlinewidth\":0,\"ticks\":\"\"}}],\"histogram2d\":[{\"type\":\"histogram2d\",\"colorbar\":{\"outlinewidth\":0,\"ticks\":\"\"},\"colorscale\":[[0.0,\"#0d0887\"],[0.1111111111111111,\"#46039f\"],[0.2222222222222222,\"#7201a8\"],[0.3333333333333333,\"#9c179e\"],[0.4444444444444444,\"#bd3786\"],[0.5555555555555556,\"#d8576b\"],[0.6666666666666666,\"#ed7953\"],[0.7777777777777778,\"#fb9f3a\"],[0.8888888888888888,\"#fdca26\"],[1.0,\"#f0f921\"]]}],\"heatmap\":[{\"type\":\"heatmap\",\"colorbar\":{\"outlinewidth\":0,\"ticks\":\"\"},\"colorscale\":[[0.0,\"#0d0887\"],[0.1111111111111111,\"#46039f\"],[0.2222222222222222,\"#7201a8\"],[0.3333333333333333,\"#9c179e\"],[0.4444444444444444,\"#bd3786\"],[0.5555555555555556,\"#d8576b\"],[0.6666666666666666,\"#ed7953\"],[0.7777777777777778,\"#fb9f3a\"],[0.8888888888888888,\"#fdca26\"],[1.0,\"#f0f921\"]]}],\"heatmapgl\":[{\"type\":\"heatmapgl\",\"colorbar\":{\"outlinewidth\":0,\"ticks\":\"\"},\"colorscale\":[[0.0,\"#0d0887\"],[0.1111111111111111,\"#46039f\"],[0.2222222222222222,\"#7201a8\"],[0.3333333333333333,\"#9c179e\"],[0.4444444444444444,\"#bd3786\"],[0.5555555555555556,\"#d8576b\"],[0.6666666666666666,\"#ed7953\"],[0.7777777777777778,\"#fb9f3a\"],[0.8888888888888888,\"#fdca26\"],[1.0,\"#f0f921\"]]}],\"contourcarpet\":[{\"type\":\"contourcarpet\",\"colorbar\":{\"outlinewidth\":0,\"ticks\":\"\"}}],\"contour\":[{\"type\":\"contour\",\"colorbar\":{\"outlinewidth\":0,\"ticks\":\"\"},\"colorscale\":[[0.0,\"#0d0887\"],[0.1111111111111111,\"#46039f\"],[0.2222222222222222,\"#7201a8\"],[0.3333333333333333,\"#9c179e\"],[0.4444444444444444,\"#bd3786\"],[0.5555555555555556,\"#d8576b\"],[0.6666666666666666,\"#ed7953\"],[0.7777777777777778,\"#fb9f3a\"],[0.8888888888888888,\"#fdca26\"],[1.0,\"#f0f921\"]]}],\"surface\":[{\"type\":\"surface\",\"colorbar\":{\"outlinewidth\":0,\"ticks\":\"\"},\"colorscale\":[[0.0,\"#0d0887\"],[0.1111111111111111,\"#46039f\"],[0.2222222222222222,\"#7201a8\"],[0.3333333333333333,\"#9c179e\"],[0.4444444444444444,\"#bd3786\"],[0.5555555555555556,\"#d8576b\"],[0.6666666666666666,\"#ed7953\"],[0.7777777777777778,\"#fb9f3a\"],[0.8888888888888888,\"#fdca26\"],[1.0,\"#f0f921\"]]}],\"mesh3d\":[{\"type\":\"mesh3d\",\"colorbar\":{\"outlinewidth\":0,\"ticks\":\"\"}}],\"scatter\":[{\"fillpattern\":{\"fillmode\":\"overlay\",\"size\":10,\"solidity\":0.2},\"type\":\"scatter\"}],\"parcoords\":[{\"type\":\"parcoords\",\"line\":{\"colorbar\":{\"outlinewidth\":0,\"ticks\":\"\"}}}],\"scatterpolargl\":[{\"type\":\"scatterpolargl\",\"marker\":{\"colorbar\":{\"outlinewidth\":0,\"ticks\":\"\"}}}],\"bar\":[{\"error_x\":{\"color\":\"#2a3f5f\"},\"error_y\":{\"color\":\"#2a3f5f\"},\"marker\":{\"line\":{\"color\":\"#E5ECF6\",\"width\":0.5},\"pattern\":{\"fillmode\":\"overlay\",\"size\":10,\"solidity\":0.2}},\"type\":\"bar\"}],\"scattergeo\":[{\"type\":\"scattergeo\",\"marker\":{\"colorbar\":{\"outlinewidth\":0,\"ticks\":\"\"}}}],\"scatterpolar\":[{\"type\":\"scatterpolar\",\"marker\":{\"colorbar\":{\"outlinewidth\":0,\"ticks\":\"\"}}}],\"histogram\":[{\"marker\":{\"pattern\":{\"fillmode\":\"overlay\",\"size\":10,\"solidity\":0.2}},\"type\":\"histogram\"}],\"scattergl\":[{\"type\":\"scattergl\",\"marker\":{\"colorbar\":{\"outlinewidth\":0,\"ticks\":\"\"}}}],\"scatter3d\":[{\"type\":\"scatter3d\",\"line\":{\"colorbar\":{\"outlinewidth\":0,\"ticks\":\"\"}},\"marker\":{\"colorbar\":{\"outlinewidth\":0,\"ticks\":\"\"}}}],\"scattermapbox\":[{\"type\":\"scattermapbox\",\"marker\":{\"colorbar\":{\"outlinewidth\":0,\"ticks\":\"\"}}}],\"scatterternary\":[{\"type\":\"scatterternary\",\"marker\":{\"colorbar\":{\"outlinewidth\":0,\"ticks\":\"\"}}}],\"scattercarpet\":[{\"type\":\"scattercarpet\",\"marker\":{\"colorbar\":{\"outlinewidth\":0,\"ticks\":\"\"}}}],\"carpet\":[{\"aaxis\":{\"endlinecolor\":\"#2a3f5f\",\"gridcolor\":\"white\",\"linecolor\":\"white\",\"minorgridcolor\":\"white\",\"startlinecolor\":\"#2a3f5f\"},\"baxis\":{\"endlinecolor\":\"#2a3f5f\",\"gridcolor\":\"white\",\"linecolor\":\"white\",\"minorgridcolor\":\"white\",\"startlinecolor\":\"#2a3f5f\"},\"type\":\"carpet\"}],\"table\":[{\"cells\":{\"fill\":{\"color\":\"#EBF0F8\"},\"line\":{\"color\":\"white\"}},\"header\":{\"fill\":{\"color\":\"#C8D4E3\"},\"line\":{\"color\":\"white\"}},\"type\":\"table\"}],\"barpolar\":[{\"marker\":{\"line\":{\"color\":\"#E5ECF6\",\"width\":0.5},\"pattern\":{\"fillmode\":\"overlay\",\"size\":10,\"solidity\":0.2}},\"type\":\"barpolar\"}],\"pie\":[{\"automargin\":true,\"type\":\"pie\"}]},\"layout\":{\"autotypenumbers\":\"strict\",\"colorway\":[\"#636efa\",\"#EF553B\",\"#00cc96\",\"#ab63fa\",\"#FFA15A\",\"#19d3f3\",\"#FF6692\",\"#B6E880\",\"#FF97FF\",\"#FECB52\"],\"font\":{\"color\":\"#2a3f5f\"},\"hovermode\":\"closest\",\"hoverlabel\":{\"align\":\"left\"},\"paper_bgcolor\":\"white\",\"plot_bgcolor\":\"#E5ECF6\",\"polar\":{\"bgcolor\":\"#E5ECF6\",\"angularaxis\":{\"gridcolor\":\"white\",\"linecolor\":\"white\",\"ticks\":\"\"},\"radialaxis\":{\"gridcolor\":\"white\",\"linecolor\":\"white\",\"ticks\":\"\"}},\"ternary\":{\"bgcolor\":\"#E5ECF6\",\"aaxis\":{\"gridcolor\":\"white\",\"linecolor\":\"white\",\"ticks\":\"\"},\"baxis\":{\"gridcolor\":\"white\",\"linecolor\":\"white\",\"ticks\":\"\"},\"caxis\":{\"gridcolor\":\"white\",\"linecolor\":\"white\",\"ticks\":\"\"}},\"coloraxis\":{\"colorbar\":{\"outlinewidth\":0,\"ticks\":\"\"}},\"colorscale\":{\"sequential\":[[0.0,\"#0d0887\"],[0.1111111111111111,\"#46039f\"],[0.2222222222222222,\"#7201a8\"],[0.3333333333333333,\"#9c179e\"],[0.4444444444444444,\"#bd3786\"],[0.5555555555555556,\"#d8576b\"],[0.6666666666666666,\"#ed7953\"],[0.7777777777777778,\"#fb9f3a\"],[0.8888888888888888,\"#fdca26\"],[1.0,\"#f0f921\"]],\"sequentialminus\":[[0.0,\"#0d0887\"],[0.1111111111111111,\"#46039f\"],[0.2222222222222222,\"#7201a8\"],[0.3333333333333333,\"#9c179e\"],[0.4444444444444444,\"#bd3786\"],[0.5555555555555556,\"#d8576b\"],[0.6666666666666666,\"#ed7953\"],[0.7777777777777778,\"#fb9f3a\"],[0.8888888888888888,\"#fdca26\"],[1.0,\"#f0f921\"]],\"diverging\":[[0,\"#8e0152\"],[0.1,\"#c51b7d\"],[0.2,\"#de77ae\"],[0.3,\"#f1b6da\"],[0.4,\"#fde0ef\"],[0.5,\"#f7f7f7\"],[0.6,\"#e6f5d0\"],[0.7,\"#b8e186\"],[0.8,\"#7fbc41\"],[0.9,\"#4d9221\"],[1,\"#276419\"]]},\"xaxis\":{\"gridcolor\":\"white\",\"linecolor\":\"white\",\"ticks\":\"\",\"title\":{\"standoff\":15},\"zerolinecolor\":\"white\",\"automargin\":true,\"zerolinewidth\":2},\"yaxis\":{\"gridcolor\":\"white\",\"linecolor\":\"white\",\"ticks\":\"\",\"title\":{\"standoff\":15},\"zerolinecolor\":\"white\",\"automargin\":true,\"zerolinewidth\":2},\"scene\":{\"xaxis\":{\"backgroundcolor\":\"#E5ECF6\",\"gridcolor\":\"white\",\"linecolor\":\"white\",\"showbackground\":true,\"ticks\":\"\",\"zerolinecolor\":\"white\",\"gridwidth\":2},\"yaxis\":{\"backgroundcolor\":\"#E5ECF6\",\"gridcolor\":\"white\",\"linecolor\":\"white\",\"showbackground\":true,\"ticks\":\"\",\"zerolinecolor\":\"white\",\"gridwidth\":2},\"zaxis\":{\"backgroundcolor\":\"#E5ECF6\",\"gridcolor\":\"white\",\"linecolor\":\"white\",\"showbackground\":true,\"ticks\":\"\",\"zerolinecolor\":\"white\",\"gridwidth\":2}},\"shapedefaults\":{\"line\":{\"color\":\"#2a3f5f\"}},\"annotationdefaults\":{\"arrowcolor\":\"#2a3f5f\",\"arrowhead\":0,\"arrowwidth\":1},\"geo\":{\"bgcolor\":\"white\",\"landcolor\":\"#E5ECF6\",\"subunitcolor\":\"white\",\"showland\":true,\"showlakes\":true,\"lakecolor\":\"white\"},\"title\":{\"x\":0.05},\"mapbox\":{\"style\":\"light\"}}},\"xaxis\":{\"anchor\":\"y\",\"domain\":[0.0,1.0],\"title\":{\"text\":\"Month\"}},\"yaxis\":{\"anchor\":\"x\",\"domain\":[0.0,1.0],\"title\":{\"text\":\"Amount in \\u20ac\"},\"showgrid\":true},\"legend\":{\"title\":{\"text\":\"\"},\"tracegroupgap\":0},\"title\":{\"text\":\"Money earned VS Money spent\",\"font\":{\"size\":20,\"family\":\"Arial Black\"},\"x\":0.08},\"barmode\":\"group\",\"height\":700,\"width\":900,\"font\":{\"size\":15},\"showlegend\":true},                        {\"responsive\": true}                    ).then(function(){\n",
       "                            \n",
       "var gd = document.getElementById('5bd6592f-2c1a-4f2b-adae-157245bd8555');\n",
       "var x = new MutationObserver(function (mutations, observer) {{\n",
       "        var display = window.getComputedStyle(gd).display;\n",
       "        if (!display || display === 'none') {{\n",
       "            console.log([gd, 'removed!']);\n",
       "            Plotly.purge(gd);\n",
       "            observer.disconnect();\n",
       "        }}\n",
       "}});\n",
       "\n",
       "// Listen for the removal of the full notebook cells\n",
       "var notebookContainer = gd.closest('#notebook-container');\n",
       "if (notebookContainer) {{\n",
       "    x.observe(notebookContainer, {childList: true});\n",
       "}}\n",
       "\n",
       "// Listen for the clearing of the current output cell\n",
       "var outputEl = gd.closest('.output');\n",
       "if (outputEl) {{\n",
       "    x.observe(outputEl, {childList: true});\n",
       "}}\n",
       "\n",
       "                        })                };                });            </script>        </div>"
      ]
     },
     "metadata": {},
     "output_type": "display_data"
    }
   ],
   "source": [
    "title=\"Money earned VS Money spent\"\n",
    "fig = px.bar(spent_vs_gained[[\"Money_Earned\",\"Money_Spent\"]], \n",
    "             height=700,\n",
    "             width=900,\n",
    "             color_discrete_sequence=[\"#003f5c\",\"#ffa600\"],\n",
    "             text=\"value\",\n",
    "             barmode=\"group\",\n",
    "             title=title,\n",
    "             labels=dict({\"value\": \"Amount in €\", \"variable\": \"\"})\n",
    "            )\n",
    "fig.update_yaxes(showgrid=False)\n",
    "\n",
    "\n",
    "\n",
    "'''ADD CHART TITLE AND TITLE FONT SIZE'''\n",
    "fig.update_layout(title_font_size=20,font_size=15,showlegend=True,title_font_family=\"Arial Black\",title_x=0.08)\n",
    "fig.update_yaxes(showgrid=True)\n",
    "\n",
    "#add the Value of each Figure with a nice positioning\n",
    "fig.update_traces(textposition=\"inside\",insidetextanchor=\"middle\")\n",
    "\n",
    "#save the file \n",
    "fig.write_html(\"Charts\\Money_earned_VS_Money_spent.html\")\n",
    "\n",
    "\n",
    "fig.show()"
   ]
  },
  {
   "attachments": {
    "newplot%20%2849%29.png": {
     "image/png": "[encoded data removed]"
    }
   },
   "cell_type": "markdown",
   "metadata": {},
   "source": [
    "![newplot%20%2849%29.png](attachment:newplot%20%2849%29.png)"
   ]
  },
  {
   "cell_type": "code",
   "execution_count": 135,
   "metadata": {},
   "outputs": [
    {
     "data": {
      "text/plain": [
       "array(['red', 'green', 'red', 'red', 'green', 'red'], dtype='<U5')"
      ]
     },
     "execution_count": 135,
     "metadata": {},
     "output_type": "execute_result"
    }
   ],
   "source": [
    "# give the negative values other colors as the positive ones\n",
    "colors = np.where(spent_vs_gained[\"Money_saved\"]<0, 'red', 'green')\n",
    "colors"
   ]
  },
  {
   "cell_type": "code",
   "execution_count": 137,
   "metadata": {},
   "outputs": [
    {
     "data": {
      "application/vnd.plotly.v1+json": {
       "config": {
        "plotlyServerURL": "https://plot.ly"
       },
       "data": [
        {
         "alignmentgroup": "True",
         "hovertemplate": "=Money_saved<br>Month=%{x}<br>Amount in €=%{text}<extra></extra>",
         "insidetextanchor": "middle",
         "legendgroup": "Money_saved",
         "marker": {
          "color": [
           "red",
           "green",
           "red",
           "red",
           "green",
           "red"
          ],
          "pattern": {
           "shape": ""
          }
         },
         "name": "Money_saved",
         "offsetgroup": "Money_saved",
         "orientation": "v",
         "showlegend": true,
         "text": [
          -334,
          278,
          -93,
          -130,
          1166,
          -144
         ],
         "textposition": "inside",
         "type": "bar",
         "x": [
          "January",
          "February",
          "March",
          "April",
          "May",
          "June"
         ],
         "xaxis": "x",
         "y": [
          -334,
          278,
          -93,
          -130,
          1166,
          -144
         ],
         "yaxis": "y"
        }
       ],
       "layout": {
        "barmode": "relative",
        "font": {
         "size": 15
        },
        "height": 700,
        "legend": {
         "title": {
          "text": ""
         },
         "tracegroupgap": 0
        },
        "showlegend": false,
        "template": {
         "data": {
          "bar": [
           {
            "error_x": {
             "color": "#2a3f5f"
            },
            "error_y": {
             "color": "#2a3f5f"
            },
            "marker": {
             "line": {
              "color": "#E5ECF6",
              "width": 0.5
             },
             "pattern": {
              "fillmode": "overlay",
              "size": 10,
              "solidity": 0.2
             }
            },
            "type": "bar"
           }
          ],
          "barpolar": [
           {
            "marker": {
             "line": {
              "color": "#E5ECF6",
              "width": 0.5
             },
             "pattern": {
              "fillmode": "overlay",
              "size": 10,
              "solidity": 0.2
             }
            },
            "type": "barpolar"
           }
          ],
          "carpet": [
           {
            "aaxis": {
             "endlinecolor": "#2a3f5f",
             "gridcolor": "white",
             "linecolor": "white",
             "minorgridcolor": "white",
             "startlinecolor": "#2a3f5f"
            },
            "baxis": {
             "endlinecolor": "#2a3f5f",
             "gridcolor": "white",
             "linecolor": "white",
             "minorgridcolor": "white",
             "startlinecolor": "#2a3f5f"
            },
            "type": "carpet"
           }
          ],
          "choropleth": [
           {
            "colorbar": {
             "outlinewidth": 0,
             "ticks": ""
            },
            "type": "choropleth"
           }
          ],
          "contour": [
           {
            "colorbar": {
             "outlinewidth": 0,
             "ticks": ""
            },
            "colorscale": [
             [
              0,
              "#0d0887"
             ],
             [
              0.1111111111111111,
              "#46039f"
             ],
             [
              0.2222222222222222,
              "#7201a8"
             ],
             [
              0.3333333333333333,
              "#9c179e"
             ],
             [
              0.4444444444444444,
              "#bd3786"
             ],
             [
              0.5555555555555556,
              "#d8576b"
             ],
             [
              0.6666666666666666,
              "#ed7953"
             ],
             [
              0.7777777777777778,
              "#fb9f3a"
             ],
             [
              0.8888888888888888,
              "#fdca26"
             ],
             [
              1,
              "#f0f921"
             ]
            ],
            "type": "contour"
           }
          ],
          "contourcarpet": [
           {
            "colorbar": {
             "outlinewidth": 0,
             "ticks": ""
            },
            "type": "contourcarpet"
           }
          ],
          "heatmap": [
           {
            "colorbar": {
             "outlinewidth": 0,
             "ticks": ""
            },
            "colorscale": [
             [
              0,
              "#0d0887"
             ],
             [
              0.1111111111111111,
              "#46039f"
             ],
             [
              0.2222222222222222,
              "#7201a8"
             ],
             [
              0.3333333333333333,
              "#9c179e"
             ],
             [
              0.4444444444444444,
              "#bd3786"
             ],
             [
              0.5555555555555556,
              "#d8576b"
             ],
             [
              0.6666666666666666,
              "#ed7953"
             ],
             [
              0.7777777777777778,
              "#fb9f3a"
             ],
             [
              0.8888888888888888,
              "#fdca26"
             ],
             [
              1,
              "#f0f921"
             ]
            ],
            "type": "heatmap"
           }
          ],
          "heatmapgl": [
           {
            "colorbar": {
             "outlinewidth": 0,
             "ticks": ""
            },
            "colorscale": [
             [
              0,
              "#0d0887"
             ],
             [
              0.1111111111111111,
              "#46039f"
             ],
             [
              0.2222222222222222,
              "#7201a8"
             ],
             [
              0.3333333333333333,
              "#9c179e"
             ],
             [
              0.4444444444444444,
              "#bd3786"
             ],
             [
              0.5555555555555556,
              "#d8576b"
             ],
             [
              0.6666666666666666,
              "#ed7953"
             ],
             [
              0.7777777777777778,
              "#fb9f3a"
             ],
             [
              0.8888888888888888,
              "#fdca26"
             ],
             [
              1,
              "#f0f921"
             ]
            ],
            "type": "heatmapgl"
           }
          ],
          "histogram": [
           {
            "marker": {
             "pattern": {
              "fillmode": "overlay",
              "size": 10,
              "solidity": 0.2
             }
            },
            "type": "histogram"
           }
          ],
          "histogram2d": [
           {
            "colorbar": {
             "outlinewidth": 0,
             "ticks": ""
            },
            "colorscale": [
             [
              0,
              "#0d0887"
             ],
             [
              0.1111111111111111,
              "#46039f"
             ],
             [
              0.2222222222222222,
              "#7201a8"
             ],
             [
              0.3333333333333333,
              "#9c179e"
             ],
             [
              0.4444444444444444,
              "#bd3786"
             ],
             [
              0.5555555555555556,
              "#d8576b"
             ],
             [
              0.6666666666666666,
              "#ed7953"
             ],
             [
              0.7777777777777778,
              "#fb9f3a"
             ],
             [
              0.8888888888888888,
              "#fdca26"
             ],
             [
              1,
              "#f0f921"
             ]
            ],
            "type": "histogram2d"
           }
          ],
          "histogram2dcontour": [
           {
            "colorbar": {
             "outlinewidth": 0,
             "ticks": ""
            },
            "colorscale": [
             [
              0,
              "#0d0887"
             ],
             [
              0.1111111111111111,
              "#46039f"
             ],
             [
              0.2222222222222222,
              "#7201a8"
             ],
             [
              0.3333333333333333,
              "#9c179e"
             ],
             [
              0.4444444444444444,
              "#bd3786"
             ],
             [
              0.5555555555555556,
              "#d8576b"
             ],
             [
              0.6666666666666666,
              "#ed7953"
             ],
             [
              0.7777777777777778,
              "#fb9f3a"
             ],
             [
              0.8888888888888888,
              "#fdca26"
             ],
             [
              1,
              "#f0f921"
             ]
            ],
            "type": "histogram2dcontour"
           }
          ],
          "mesh3d": [
           {
            "colorbar": {
             "outlinewidth": 0,
             "ticks": ""
            },
            "type": "mesh3d"
           }
          ],
          "parcoords": [
           {
            "line": {
             "colorbar": {
              "outlinewidth": 0,
              "ticks": ""
             }
            },
            "type": "parcoords"
           }
          ],
          "pie": [
           {
            "automargin": true,
            "type": "pie"
           }
          ],
          "scatter": [
           {
            "fillpattern": {
             "fillmode": "overlay",
             "size": 10,
             "solidity": 0.2
            },
            "type": "scatter"
           }
          ],
          "scatter3d": [
           {
            "line": {
             "colorbar": {
              "outlinewidth": 0,
              "ticks": ""
             }
            },
            "marker": {
             "colorbar": {
              "outlinewidth": 0,
              "ticks": ""
             }
            },
            "type": "scatter3d"
           }
          ],
          "scattercarpet": [
           {
            "marker": {
             "colorbar": {
              "outlinewidth": 0,
              "ticks": ""
             }
            },
            "type": "scattercarpet"
           }
          ],
          "scattergeo": [
           {
            "marker": {
             "colorbar": {
              "outlinewidth": 0,
              "ticks": ""
             }
            },
            "type": "scattergeo"
           }
          ],
          "scattergl": [
           {
            "marker": {
             "colorbar": {
              "outlinewidth": 0,
              "ticks": ""
             }
            },
            "type": "scattergl"
           }
          ],
          "scattermapbox": [
           {
            "marker": {
             "colorbar": {
              "outlinewidth": 0,
              "ticks": ""
             }
            },
            "type": "scattermapbox"
           }
          ],
          "scatterpolar": [
           {
            "marker": {
             "colorbar": {
              "outlinewidth": 0,
              "ticks": ""
             }
            },
            "type": "scatterpolar"
           }
          ],
          "scatterpolargl": [
           {
            "marker": {
             "colorbar": {
              "outlinewidth": 0,
              "ticks": ""
             }
            },
            "type": "scatterpolargl"
           }
          ],
          "scatterternary": [
           {
            "marker": {
             "colorbar": {
              "outlinewidth": 0,
              "ticks": ""
             }
            },
            "type": "scatterternary"
           }
          ],
          "surface": [
           {
            "colorbar": {
             "outlinewidth": 0,
             "ticks": ""
            },
            "colorscale": [
             [
              0,
              "#0d0887"
             ],
             [
              0.1111111111111111,
              "#46039f"
             ],
             [
              0.2222222222222222,
              "#7201a8"
             ],
             [
              0.3333333333333333,
              "#9c179e"
             ],
             [
              0.4444444444444444,
              "#bd3786"
             ],
             [
              0.5555555555555556,
              "#d8576b"
             ],
             [
              0.6666666666666666,
              "#ed7953"
             ],
             [
              0.7777777777777778,
              "#fb9f3a"
             ],
             [
              0.8888888888888888,
              "#fdca26"
             ],
             [
              1,
              "#f0f921"
             ]
            ],
            "type": "surface"
           }
          ],
          "table": [
           {
            "cells": {
             "fill": {
              "color": "#EBF0F8"
             },
             "line": {
              "color": "white"
             }
            },
            "header": {
             "fill": {
              "color": "#C8D4E3"
             },
             "line": {
              "color": "white"
             }
            },
            "type": "table"
           }
          ]
         },
         "layout": {
          "annotationdefaults": {
           "arrowcolor": "#2a3f5f",
           "arrowhead": 0,
           "arrowwidth": 1
          },
          "autotypenumbers": "strict",
          "coloraxis": {
           "colorbar": {
            "outlinewidth": 0,
            "ticks": ""
           }
          },
          "colorscale": {
           "diverging": [
            [
             0,
             "#8e0152"
            ],
            [
             0.1,
             "#c51b7d"
            ],
            [
             0.2,
             "#de77ae"
            ],
            [
             0.3,
             "#f1b6da"
            ],
            [
             0.4,
             "#fde0ef"
            ],
            [
             0.5,
             "#f7f7f7"
            ],
            [
             0.6,
             "#e6f5d0"
            ],
            [
             0.7,
             "#b8e186"
            ],
            [
             0.8,
             "#7fbc41"
            ],
            [
             0.9,
             "#4d9221"
            ],
            [
             1,
             "#276419"
            ]
           ],
           "sequential": [
            [
             0,
             "#0d0887"
            ],
            [
             0.1111111111111111,
             "#46039f"
            ],
            [
             0.2222222222222222,
             "#7201a8"
            ],
            [
             0.3333333333333333,
             "#9c179e"
            ],
            [
             0.4444444444444444,
             "#bd3786"
            ],
            [
             0.5555555555555556,
             "#d8576b"
            ],
            [
             0.6666666666666666,
             "#ed7953"
            ],
            [
             0.7777777777777778,
             "#fb9f3a"
            ],
            [
             0.8888888888888888,
             "#fdca26"
            ],
            [
             1,
             "#f0f921"
            ]
           ],
           "sequentialminus": [
            [
             0,
             "#0d0887"
            ],
            [
             0.1111111111111111,
             "#46039f"
            ],
            [
             0.2222222222222222,
             "#7201a8"
            ],
            [
             0.3333333333333333,
             "#9c179e"
            ],
            [
             0.4444444444444444,
             "#bd3786"
            ],
            [
             0.5555555555555556,
             "#d8576b"
            ],
            [
             0.6666666666666666,
             "#ed7953"
            ],
            [
             0.7777777777777778,
             "#fb9f3a"
            ],
            [
             0.8888888888888888,
             "#fdca26"
            ],
            [
             1,
             "#f0f921"
            ]
           ]
          },
          "colorway": [
           "#636efa",
           "#EF553B",
           "#00cc96",
           "#ab63fa",
           "#FFA15A",
           "#19d3f3",
           "#FF6692",
           "#B6E880",
           "#FF97FF",
           "#FECB52"
          ],
          "font": {
           "color": "#2a3f5f"
          },
          "geo": {
           "bgcolor": "white",
           "lakecolor": "white",
           "landcolor": "#E5ECF6",
           "showlakes": true,
           "showland": true,
           "subunitcolor": "white"
          },
          "hoverlabel": {
           "align": "left"
          },
          "hovermode": "closest",
          "mapbox": {
           "style": "light"
          },
          "paper_bgcolor": "white",
          "plot_bgcolor": "#E5ECF6",
          "polar": {
           "angularaxis": {
            "gridcolor": "white",
            "linecolor": "white",
            "ticks": ""
           },
           "bgcolor": "#E5ECF6",
           "radialaxis": {
            "gridcolor": "white",
            "linecolor": "white",
            "ticks": ""
           }
          },
          "scene": {
           "xaxis": {
            "backgroundcolor": "#E5ECF6",
            "gridcolor": "white",
            "gridwidth": 2,
            "linecolor": "white",
            "showbackground": true,
            "ticks": "",
            "zerolinecolor": "white"
           },
           "yaxis": {
            "backgroundcolor": "#E5ECF6",
            "gridcolor": "white",
            "gridwidth": 2,
            "linecolor": "white",
            "showbackground": true,
            "ticks": "",
            "zerolinecolor": "white"
           },
           "zaxis": {
            "backgroundcolor": "#E5ECF6",
            "gridcolor": "white",
            "gridwidth": 2,
            "linecolor": "white",
            "showbackground": true,
            "ticks": "",
            "zerolinecolor": "white"
           }
          },
          "shapedefaults": {
           "line": {
            "color": "#2a3f5f"
           }
          },
          "ternary": {
           "aaxis": {
            "gridcolor": "white",
            "linecolor": "white",
            "ticks": ""
           },
           "baxis": {
            "gridcolor": "white",
            "linecolor": "white",
            "ticks": ""
           },
           "bgcolor": "#E5ECF6",
           "caxis": {
            "gridcolor": "white",
            "linecolor": "white",
            "ticks": ""
           }
          },
          "title": {
           "x": 0.05
          },
          "xaxis": {
           "automargin": true,
           "gridcolor": "white",
           "linecolor": "white",
           "ticks": "",
           "title": {
            "standoff": 15
           },
           "zerolinecolor": "white",
           "zerolinewidth": 2
          },
          "yaxis": {
           "automargin": true,
           "gridcolor": "white",
           "linecolor": "white",
           "ticks": "",
           "title": {
            "standoff": 15
           },
           "zerolinecolor": "white",
           "zerolinewidth": 2
          }
         }
        },
        "title": {
         "font": {
          "family": "Arial Black",
          "size": 20
         },
         "text": "The monthly amount of Money saved",
         "x": 0.08
        },
        "width": 900,
        "xaxis": {
         "anchor": "y",
         "domain": [
          0,
          1
         ],
         "title": {
          "text": "Month"
         }
        },
        "yaxis": {
         "anchor": "x",
         "domain": [
          0,
          1
         ],
         "showgrid": true,
         "title": {
          "text": "Amount in €"
         }
        }
       }
      },
      "text/html": [
       "<div>                            <div id=\"21ff2419-f748-4874-9228-585904168bb5\" class=\"plotly-graph-div\" style=\"height:700px; width:900px;\"></div>            <script type=\"text/javascript\">                require([\"plotly\"], function(Plotly) {                    window.PLOTLYENV=window.PLOTLYENV || {};                                    if (document.getElementById(\"21ff2419-f748-4874-9228-585904168bb5\")) {                    Plotly.newPlot(                        \"21ff2419-f748-4874-9228-585904168bb5\",                        [{\"alignmentgroup\":\"True\",\"hovertemplate\":\"=Money_saved<br>Month=%{x}<br>Amount in \\u20ac=%{text}<extra></extra>\",\"legendgroup\":\"Money_saved\",\"marker\":{\"color\":[\"red\",\"green\",\"red\",\"red\",\"green\",\"red\"],\"pattern\":{\"shape\":\"\"}},\"name\":\"Money_saved\",\"offsetgroup\":\"Money_saved\",\"orientation\":\"v\",\"showlegend\":true,\"text\":[-334.0,278.0,-93.0,-130.0,1166.0,-144.0],\"textposition\":\"inside\",\"x\":[\"January\",\"February\",\"March\",\"April\",\"May\",\"June\"],\"xaxis\":\"x\",\"y\":[-334.0,278.0,-93.0,-130.0,1166.0,-144.0],\"yaxis\":\"y\",\"type\":\"bar\",\"insidetextanchor\":\"middle\"}],                        {\"template\":{\"data\":{\"histogram2dcontour\":[{\"type\":\"histogram2dcontour\",\"colorbar\":{\"outlinewidth\":0,\"ticks\":\"\"},\"colorscale\":[[0.0,\"#0d0887\"],[0.1111111111111111,\"#46039f\"],[0.2222222222222222,\"#7201a8\"],[0.3333333333333333,\"#9c179e\"],[0.4444444444444444,\"#bd3786\"],[0.5555555555555556,\"#d8576b\"],[0.6666666666666666,\"#ed7953\"],[0.7777777777777778,\"#fb9f3a\"],[0.8888888888888888,\"#fdca26\"],[1.0,\"#f0f921\"]]}],\"choropleth\":[{\"type\":\"choropleth\",\"colorbar\":{\"outlinewidth\":0,\"ticks\":\"\"}}],\"histogram2d\":[{\"type\":\"histogram2d\",\"colorbar\":{\"outlinewidth\":0,\"ticks\":\"\"},\"colorscale\":[[0.0,\"#0d0887\"],[0.1111111111111111,\"#46039f\"],[0.2222222222222222,\"#7201a8\"],[0.3333333333333333,\"#9c179e\"],[0.4444444444444444,\"#bd3786\"],[0.5555555555555556,\"#d8576b\"],[0.6666666666666666,\"#ed7953\"],[0.7777777777777778,\"#fb9f3a\"],[0.8888888888888888,\"#fdca26\"],[1.0,\"#f0f921\"]]}],\"heatmap\":[{\"type\":\"heatmap\",\"colorbar\":{\"outlinewidth\":0,\"ticks\":\"\"},\"colorscale\":[[0.0,\"#0d0887\"],[0.1111111111111111,\"#46039f\"],[0.2222222222222222,\"#7201a8\"],[0.3333333333333333,\"#9c179e\"],[0.4444444444444444,\"#bd3786\"],[0.5555555555555556,\"#d8576b\"],[0.6666666666666666,\"#ed7953\"],[0.7777777777777778,\"#fb9f3a\"],[0.8888888888888888,\"#fdca26\"],[1.0,\"#f0f921\"]]}],\"heatmapgl\":[{\"type\":\"heatmapgl\",\"colorbar\":{\"outlinewidth\":0,\"ticks\":\"\"},\"colorscale\":[[0.0,\"#0d0887\"],[0.1111111111111111,\"#46039f\"],[0.2222222222222222,\"#7201a8\"],[0.3333333333333333,\"#9c179e\"],[0.4444444444444444,\"#bd3786\"],[0.5555555555555556,\"#d8576b\"],[0.6666666666666666,\"#ed7953\"],[0.7777777777777778,\"#fb9f3a\"],[0.8888888888888888,\"#fdca26\"],[1.0,\"#f0f921\"]]}],\"contourcarpet\":[{\"type\":\"contourcarpet\",\"colorbar\":{\"outlinewidth\":0,\"ticks\":\"\"}}],\"contour\":[{\"type\":\"contour\",\"colorbar\":{\"outlinewidth\":0,\"ticks\":\"\"},\"colorscale\":[[0.0,\"#0d0887\"],[0.1111111111111111,\"#46039f\"],[0.2222222222222222,\"#7201a8\"],[0.3333333333333333,\"#9c179e\"],[0.4444444444444444,\"#bd3786\"],[0.5555555555555556,\"#d8576b\"],[0.6666666666666666,\"#ed7953\"],[0.7777777777777778,\"#fb9f3a\"],[0.8888888888888888,\"#fdca26\"],[1.0,\"#f0f921\"]]}],\"surface\":[{\"type\":\"surface\",\"colorbar\":{\"outlinewidth\":0,\"ticks\":\"\"},\"colorscale\":[[0.0,\"#0d0887\"],[0.1111111111111111,\"#46039f\"],[0.2222222222222222,\"#7201a8\"],[0.3333333333333333,\"#9c179e\"],[0.4444444444444444,\"#bd3786\"],[0.5555555555555556,\"#d8576b\"],[0.6666666666666666,\"#ed7953\"],[0.7777777777777778,\"#fb9f3a\"],[0.8888888888888888,\"#fdca26\"],[1.0,\"#f0f921\"]]}],\"mesh3d\":[{\"type\":\"mesh3d\",\"colorbar\":{\"outlinewidth\":0,\"ticks\":\"\"}}],\"scatter\":[{\"fillpattern\":{\"fillmode\":\"overlay\",\"size\":10,\"solidity\":0.2},\"type\":\"scatter\"}],\"parcoords\":[{\"type\":\"parcoords\",\"line\":{\"colorbar\":{\"outlinewidth\":0,\"ticks\":\"\"}}}],\"scatterpolargl\":[{\"type\":\"scatterpolargl\",\"marker\":{\"colorbar\":{\"outlinewidth\":0,\"ticks\":\"\"}}}],\"bar\":[{\"error_x\":{\"color\":\"#2a3f5f\"},\"error_y\":{\"color\":\"#2a3f5f\"},\"marker\":{\"line\":{\"color\":\"#E5ECF6\",\"width\":0.5},\"pattern\":{\"fillmode\":\"overlay\",\"size\":10,\"solidity\":0.2}},\"type\":\"bar\"}],\"scattergeo\":[{\"type\":\"scattergeo\",\"marker\":{\"colorbar\":{\"outlinewidth\":0,\"ticks\":\"\"}}}],\"scatterpolar\":[{\"type\":\"scatterpolar\",\"marker\":{\"colorbar\":{\"outlinewidth\":0,\"ticks\":\"\"}}}],\"histogram\":[{\"marker\":{\"pattern\":{\"fillmode\":\"overlay\",\"size\":10,\"solidity\":0.2}},\"type\":\"histogram\"}],\"scattergl\":[{\"type\":\"scattergl\",\"marker\":{\"colorbar\":{\"outlinewidth\":0,\"ticks\":\"\"}}}],\"scatter3d\":[{\"type\":\"scatter3d\",\"line\":{\"colorbar\":{\"outlinewidth\":0,\"ticks\":\"\"}},\"marker\":{\"colorbar\":{\"outlinewidth\":0,\"ticks\":\"\"}}}],\"scattermapbox\":[{\"type\":\"scattermapbox\",\"marker\":{\"colorbar\":{\"outlinewidth\":0,\"ticks\":\"\"}}}],\"scatterternary\":[{\"type\":\"scatterternary\",\"marker\":{\"colorbar\":{\"outlinewidth\":0,\"ticks\":\"\"}}}],\"scattercarpet\":[{\"type\":\"scattercarpet\",\"marker\":{\"colorbar\":{\"outlinewidth\":0,\"ticks\":\"\"}}}],\"carpet\":[{\"aaxis\":{\"endlinecolor\":\"#2a3f5f\",\"gridcolor\":\"white\",\"linecolor\":\"white\",\"minorgridcolor\":\"white\",\"startlinecolor\":\"#2a3f5f\"},\"baxis\":{\"endlinecolor\":\"#2a3f5f\",\"gridcolor\":\"white\",\"linecolor\":\"white\",\"minorgridcolor\":\"white\",\"startlinecolor\":\"#2a3f5f\"},\"type\":\"carpet\"}],\"table\":[{\"cells\":{\"fill\":{\"color\":\"#EBF0F8\"},\"line\":{\"color\":\"white\"}},\"header\":{\"fill\":{\"color\":\"#C8D4E3\"},\"line\":{\"color\":\"white\"}},\"type\":\"table\"}],\"barpolar\":[{\"marker\":{\"line\":{\"color\":\"#E5ECF6\",\"width\":0.5},\"pattern\":{\"fillmode\":\"overlay\",\"size\":10,\"solidity\":0.2}},\"type\":\"barpolar\"}],\"pie\":[{\"automargin\":true,\"type\":\"pie\"}]},\"layout\":{\"autotypenumbers\":\"strict\",\"colorway\":[\"#636efa\",\"#EF553B\",\"#00cc96\",\"#ab63fa\",\"#FFA15A\",\"#19d3f3\",\"#FF6692\",\"#B6E880\",\"#FF97FF\",\"#FECB52\"],\"font\":{\"color\":\"#2a3f5f\"},\"hovermode\":\"closest\",\"hoverlabel\":{\"align\":\"left\"},\"paper_bgcolor\":\"white\",\"plot_bgcolor\":\"#E5ECF6\",\"polar\":{\"bgcolor\":\"#E5ECF6\",\"angularaxis\":{\"gridcolor\":\"white\",\"linecolor\":\"white\",\"ticks\":\"\"},\"radialaxis\":{\"gridcolor\":\"white\",\"linecolor\":\"white\",\"ticks\":\"\"}},\"ternary\":{\"bgcolor\":\"#E5ECF6\",\"aaxis\":{\"gridcolor\":\"white\",\"linecolor\":\"white\",\"ticks\":\"\"},\"baxis\":{\"gridcolor\":\"white\",\"linecolor\":\"white\",\"ticks\":\"\"},\"caxis\":{\"gridcolor\":\"white\",\"linecolor\":\"white\",\"ticks\":\"\"}},\"coloraxis\":{\"colorbar\":{\"outlinewidth\":0,\"ticks\":\"\"}},\"colorscale\":{\"sequential\":[[0.0,\"#0d0887\"],[0.1111111111111111,\"#46039f\"],[0.2222222222222222,\"#7201a8\"],[0.3333333333333333,\"#9c179e\"],[0.4444444444444444,\"#bd3786\"],[0.5555555555555556,\"#d8576b\"],[0.6666666666666666,\"#ed7953\"],[0.7777777777777778,\"#fb9f3a\"],[0.8888888888888888,\"#fdca26\"],[1.0,\"#f0f921\"]],\"sequentialminus\":[[0.0,\"#0d0887\"],[0.1111111111111111,\"#46039f\"],[0.2222222222222222,\"#7201a8\"],[0.3333333333333333,\"#9c179e\"],[0.4444444444444444,\"#bd3786\"],[0.5555555555555556,\"#d8576b\"],[0.6666666666666666,\"#ed7953\"],[0.7777777777777778,\"#fb9f3a\"],[0.8888888888888888,\"#fdca26\"],[1.0,\"#f0f921\"]],\"diverging\":[[0,\"#8e0152\"],[0.1,\"#c51b7d\"],[0.2,\"#de77ae\"],[0.3,\"#f1b6da\"],[0.4,\"#fde0ef\"],[0.5,\"#f7f7f7\"],[0.6,\"#e6f5d0\"],[0.7,\"#b8e186\"],[0.8,\"#7fbc41\"],[0.9,\"#4d9221\"],[1,\"#276419\"]]},\"xaxis\":{\"gridcolor\":\"white\",\"linecolor\":\"white\",\"ticks\":\"\",\"title\":{\"standoff\":15},\"zerolinecolor\":\"white\",\"automargin\":true,\"zerolinewidth\":2},\"yaxis\":{\"gridcolor\":\"white\",\"linecolor\":\"white\",\"ticks\":\"\",\"title\":{\"standoff\":15},\"zerolinecolor\":\"white\",\"automargin\":true,\"zerolinewidth\":2},\"scene\":{\"xaxis\":{\"backgroundcolor\":\"#E5ECF6\",\"gridcolor\":\"white\",\"linecolor\":\"white\",\"showbackground\":true,\"ticks\":\"\",\"zerolinecolor\":\"white\",\"gridwidth\":2},\"yaxis\":{\"backgroundcolor\":\"#E5ECF6\",\"gridcolor\":\"white\",\"linecolor\":\"white\",\"showbackground\":true,\"ticks\":\"\",\"zerolinecolor\":\"white\",\"gridwidth\":2},\"zaxis\":{\"backgroundcolor\":\"#E5ECF6\",\"gridcolor\":\"white\",\"linecolor\":\"white\",\"showbackground\":true,\"ticks\":\"\",\"zerolinecolor\":\"white\",\"gridwidth\":2}},\"shapedefaults\":{\"line\":{\"color\":\"#2a3f5f\"}},\"annotationdefaults\":{\"arrowcolor\":\"#2a3f5f\",\"arrowhead\":0,\"arrowwidth\":1},\"geo\":{\"bgcolor\":\"white\",\"landcolor\":\"#E5ECF6\",\"subunitcolor\":\"white\",\"showland\":true,\"showlakes\":true,\"lakecolor\":\"white\"},\"title\":{\"x\":0.05},\"mapbox\":{\"style\":\"light\"}}},\"xaxis\":{\"anchor\":\"y\",\"domain\":[0.0,1.0],\"title\":{\"text\":\"Month\"}},\"yaxis\":{\"anchor\":\"x\",\"domain\":[0.0,1.0],\"title\":{\"text\":\"Amount in \\u20ac\"},\"showgrid\":true},\"legend\":{\"title\":{\"text\":\"\"},\"tracegroupgap\":0},\"title\":{\"text\":\"The monthly amount of Money saved\",\"font\":{\"size\":20,\"family\":\"Arial Black\"},\"x\":0.08},\"barmode\":\"relative\",\"height\":700,\"width\":900,\"font\":{\"size\":15},\"showlegend\":false},                        {\"responsive\": true}                    ).then(function(){\n",
       "                            \n",
       "var gd = document.getElementById('21ff2419-f748-4874-9228-585904168bb5');\n",
       "var x = new MutationObserver(function (mutations, observer) {{\n",
       "        var display = window.getComputedStyle(gd).display;\n",
       "        if (!display || display === 'none') {{\n",
       "            console.log([gd, 'removed!']);\n",
       "            Plotly.purge(gd);\n",
       "            observer.disconnect();\n",
       "        }}\n",
       "}});\n",
       "\n",
       "// Listen for the removal of the full notebook cells\n",
       "var notebookContainer = gd.closest('#notebook-container');\n",
       "if (notebookContainer) {{\n",
       "    x.observe(notebookContainer, {childList: true});\n",
       "}}\n",
       "\n",
       "// Listen for the clearing of the current output cell\n",
       "var outputEl = gd.closest('.output');\n",
       "if (outputEl) {{\n",
       "    x.observe(outputEl, {childList: true});\n",
       "}}\n",
       "\n",
       "                        })                };                });            </script>        </div>"
      ]
     },
     "metadata": {},
     "output_type": "display_data"
    }
   ],
   "source": [
    "title=\"The monthly amount of Money saved\"\n",
    "fig = px.bar(spent_vs_gained[\"Money_saved\"], \n",
    "             height=700,\n",
    "             width=900,\n",
    "             text=\"value\",\n",
    "             title=title,\n",
    "             labels=dict({\"value\": \"Amount in €\", \"variable\": \"\"})\n",
    "            )\n",
    "fig.update_yaxes(showgrid=False)\n",
    "\n",
    "\n",
    "\n",
    "'''ADD CHART TITLE AND TITLE FONT SIZE'''\n",
    "fig.update_layout(title_font_size=20,font_size=15,showlegend=False,title_font_family=\"Arial Black\",title_x=0.08)\n",
    "fig.update_yaxes(showgrid=True)\n",
    "\n",
    "#add the Value of each Figure with a nice positioning\n",
    "fig.update_traces(textposition=\"inside\",insidetextanchor=\"middle\",marker_color=colors)\n",
    "\n",
    "#save the file \n",
    "fig.write_html(\"Charts\\The_monthly_amount_of_Money_saved.html\")\n",
    "\n",
    "fig.show()"
   ]
  },
  {
   "attachments": {
    "newplot%20%2850%29.png": {
     "image/png": "[encoded data removed]"
    }
   },
   "cell_type": "markdown",
   "metadata": {},
   "source": [
    "![newplot%20%2850%29.png](attachment:newplot%20%2850%29.png)"
   ]
  },
  {
   "cell_type": "markdown",
   "metadata": {},
   "source": [
    "# Transaction Analysis"
   ]
  },
  {
   "cell_type": "markdown",
   "metadata": {},
   "source": [
    "- now lets analyse where is the money being spent on"
   ]
  },
  {
   "cell_type": "code",
   "execution_count": 138,
   "metadata": {
    "scrolled": true
   },
   "outputs": [
    {
     "data": {
      "text/html": [
       "<div>\n",
       "<style scoped>\n",
       "    .dataframe tbody tr th:only-of-type {\n",
       "        vertical-align: middle;\n",
       "    }\n",
       "\n",
       "    .dataframe tbody tr th {\n",
       "        vertical-align: top;\n",
       "    }\n",
       "\n",
       "    .dataframe thead th {\n",
       "        text-align: right;\n",
       "    }\n",
       "</style>\n",
       "<table border=\"1\" class=\"dataframe\">\n",
       "  <thead>\n",
       "    <tr style=\"text-align: right;\">\n",
       "      <th></th>\n",
       "      <th>Date of value</th>\n",
       "      <th>Booking text</th>\n",
       "      <th>Purpose of use</th>\n",
       "      <th>Beguenstigter/Zahlungspflichtiger</th>\n",
       "      <th>Booking amount</th>\n",
       "      <th>Month</th>\n",
       "      <th>Money_Earned</th>\n",
       "      <th>Money_Spent</th>\n",
       "      <th>Art of transaction</th>\n",
       "    </tr>\n",
       "  </thead>\n",
       "  <tbody>\n",
       "    <tr>\n",
       "      <th>0</th>\n",
       "      <td>2022-06-30</td>\n",
       "      <td>ONLINE-UEBERWEISUNG</td>\n",
       "      <td>SVWZ+XNXTLVX PAYOPDATUM XX.XX.XXXX, XX.XX UHRI...</td>\n",
       "      <td>PPRO Payment Services SA</td>\n",
       "      <td>-3</td>\n",
       "      <td>June</td>\n",
       "      <td>NaN</td>\n",
       "      <td>-3.00</td>\n",
       "      <td>Others</td>\n",
       "    </tr>\n",
       "    <tr>\n",
       "      <th>1</th>\n",
       "      <td>2022-06-30</td>\n",
       "      <td>KARTENZAHLUNG</td>\n",
       "      <td>SVWZ+XXXX-XX-XXTXX.XXDebitk.X XXXX-XXABWA+OSAK...</td>\n",
       "      <td>Osakii Mainz GmbH</td>\n",
       "      <td>-50</td>\n",
       "      <td>June</td>\n",
       "      <td>NaN</td>\n",
       "      <td>-50.00</td>\n",
       "      <td>Restaurants and Delivery</td>\n",
       "    </tr>\n",
       "    <tr>\n",
       "      <th>2</th>\n",
       "      <td>2022-06-29</td>\n",
       "      <td>KARTENZAHLUNG</td>\n",
       "      <td>SVWZ+XXXX-XX-XXTXX.XXDebitk.X XXXX-XXABWA+SumU...</td>\n",
       "      <td>Landesbank Hessen-Thuringen Girozentrale</td>\n",
       "      <td>-7</td>\n",
       "      <td>June</td>\n",
       "      <td>NaN</td>\n",
       "      <td>-7.00</td>\n",
       "      <td>Others</td>\n",
       "    </tr>\n",
       "    <tr>\n",
       "      <th>3</th>\n",
       "      <td>2022-06-29</td>\n",
       "      <td>FOLGELASTSCHRIFT</td>\n",
       "      <td>EREF+XXXXXXXXXXXXX PP.XXXX.PP PAYPALMREF+XJTJX...</td>\n",
       "      <td>PayPal (Europe) S.a r.l. et Cie, S.C.A.</td>\n",
       "      <td>-5</td>\n",
       "      <td>June</td>\n",
       "      <td>NaN</td>\n",
       "      <td>-5.00</td>\n",
       "      <td>Others</td>\n",
       "    </tr>\n",
       "    <tr>\n",
       "      <th>4</th>\n",
       "      <td>2022-06-28</td>\n",
       "      <td>KARTENZAHLUNG</td>\n",
       "      <td>SVWZ+XXXX-XX-XXTXX.XXDebitk.X XXXX-XXABWA+REST...</td>\n",
       "      <td>RESTAURANT SAMAN</td>\n",
       "      <td>-14</td>\n",
       "      <td>June</td>\n",
       "      <td>NaN</td>\n",
       "      <td>-14.00</td>\n",
       "      <td>Restaurants and Delivery</td>\n",
       "    </tr>\n",
       "    <tr>\n",
       "      <th>...</th>\n",
       "      <td>...</td>\n",
       "      <td>...</td>\n",
       "      <td>...</td>\n",
       "      <td>...</td>\n",
       "      <td>...</td>\n",
       "      <td>...</td>\n",
       "      <td>...</td>\n",
       "      <td>...</td>\n",
       "      <td>...</td>\n",
       "    </tr>\n",
       "    <tr>\n",
       "      <th>277</th>\n",
       "      <td>2022-01-03</td>\n",
       "      <td>BARGELDAUSZAHLUNG</td>\n",
       "      <td>SVWZ+XXXX-XX-XXTXX.XXDebitk.X XXXX-XXABWA+STAD...</td>\n",
       "      <td>SPARKASSE MAINZ</td>\n",
       "      <td>-45</td>\n",
       "      <td>January</td>\n",
       "      <td>NaN</td>\n",
       "      <td>-45.00</td>\n",
       "      <td>ATM Withdraw</td>\n",
       "    </tr>\n",
       "    <tr>\n",
       "      <th>278</th>\n",
       "      <td>2022-01-03</td>\n",
       "      <td>GUTSCHR. UEBERWEISUNG</td>\n",
       "      <td>EREF+YYWXXXXXXXXXXXXX PAYPALSVWZ+. Takeaway.co...</td>\n",
       "      <td>PayPal (Europe) S.a.r.l. et Cie., S.C.A.</td>\n",
       "      <td>12</td>\n",
       "      <td>January</td>\n",
       "      <td>12.00</td>\n",
       "      <td>NaN</td>\n",
       "      <td>Restaurants and Delivery</td>\n",
       "    </tr>\n",
       "    <tr>\n",
       "      <th>279</th>\n",
       "      <td>2022-01-03</td>\n",
       "      <td>BARGELDAUSZAHLUNG</td>\n",
       "      <td>SVWZ+XXXX-XX-XXTXX.XXDebitk.X XXXX-XXABWA+STAD...</td>\n",
       "      <td>SPARKASSE MAINZ</td>\n",
       "      <td>-45</td>\n",
       "      <td>January</td>\n",
       "      <td>NaN</td>\n",
       "      <td>-45.00</td>\n",
       "      <td>ATM Withdraw</td>\n",
       "    </tr>\n",
       "    <tr>\n",
       "      <th>280</th>\n",
       "      <td>2022-01-03</td>\n",
       "      <td>BARGELDAUSZAHLUNG</td>\n",
       "      <td>SVWZ+XXXX-XX-XXTXX.XXDebitk.X XXXX-XXABWA+MAIN...</td>\n",
       "      <td>SPARKASSE MAINZ</td>\n",
       "      <td>-45</td>\n",
       "      <td>January</td>\n",
       "      <td>NaN</td>\n",
       "      <td>-45.00</td>\n",
       "      <td>ATM Withdraw</td>\n",
       "    </tr>\n",
       "    <tr>\n",
       "      <th>281</th>\n",
       "      <td>2022-01-03</td>\n",
       "      <td>FOLGELASTSCHRIFT</td>\n",
       "      <td>EREF+MZXXX--XXXX-XXXXXXXMREF+MLREFMZXXXXXXXXCR...</td>\n",
       "      <td>RSG Group GmbH</td>\n",
       "      <td>-20</td>\n",
       "      <td>January</td>\n",
       "      <td>NaN</td>\n",
       "      <td>-20.00</td>\n",
       "      <td>Others</td>\n",
       "    </tr>\n",
       "  </tbody>\n",
       "</table>\n",
       "<p>276 rows × 9 columns</p>\n",
       "</div>"
      ],
      "text/plain": [
       "    Date of value           Booking text  \\\n",
       "0      2022-06-30    ONLINE-UEBERWEISUNG   \n",
       "1      2022-06-30          KARTENZAHLUNG   \n",
       "2      2022-06-29          KARTENZAHLUNG   \n",
       "3      2022-06-29       FOLGELASTSCHRIFT   \n",
       "4      2022-06-28          KARTENZAHLUNG   \n",
       "..            ...                    ...   \n",
       "277    2022-01-03      BARGELDAUSZAHLUNG   \n",
       "278    2022-01-03  GUTSCHR. UEBERWEISUNG   \n",
       "279    2022-01-03      BARGELDAUSZAHLUNG   \n",
       "280    2022-01-03      BARGELDAUSZAHLUNG   \n",
       "281    2022-01-03       FOLGELASTSCHRIFT   \n",
       "\n",
       "                                        Purpose of use  \\\n",
       "0    SVWZ+XNXTLVX PAYOPDATUM XX.XX.XXXX, XX.XX UHRI...   \n",
       "1    SVWZ+XXXX-XX-XXTXX.XXDebitk.X XXXX-XXABWA+OSAK...   \n",
       "2    SVWZ+XXXX-XX-XXTXX.XXDebitk.X XXXX-XXABWA+SumU...   \n",
       "3    EREF+XXXXXXXXXXXXX PP.XXXX.PP PAYPALMREF+XJTJX...   \n",
       "4    SVWZ+XXXX-XX-XXTXX.XXDebitk.X XXXX-XXABWA+REST...   \n",
       "..                                                 ...   \n",
       "277  SVWZ+XXXX-XX-XXTXX.XXDebitk.X XXXX-XXABWA+STAD...   \n",
       "278  EREF+YYWXXXXXXXXXXXXX PAYPALSVWZ+. Takeaway.co...   \n",
       "279  SVWZ+XXXX-XX-XXTXX.XXDebitk.X XXXX-XXABWA+STAD...   \n",
       "280  SVWZ+XXXX-XX-XXTXX.XXDebitk.X XXXX-XXABWA+MAIN...   \n",
       "281  EREF+MZXXX--XXXX-XXXXXXXMREF+MLREFMZXXXXXXXXCR...   \n",
       "\n",
       "            Beguenstigter/Zahlungspflichtiger  Booking amount    Month  \\\n",
       "0                    PPRO Payment Services SA              -3     June   \n",
       "1                           Osakii Mainz GmbH             -50     June   \n",
       "2    Landesbank Hessen-Thuringen Girozentrale              -7     June   \n",
       "3     PayPal (Europe) S.a r.l. et Cie, S.C.A.              -5     June   \n",
       "4                            RESTAURANT SAMAN             -14     June   \n",
       "..                                        ...             ...      ...   \n",
       "277                           SPARKASSE MAINZ             -45  January   \n",
       "278  PayPal (Europe) S.a.r.l. et Cie., S.C.A.              12  January   \n",
       "279                           SPARKASSE MAINZ             -45  January   \n",
       "280                           SPARKASSE MAINZ             -45  January   \n",
       "281                            RSG Group GmbH             -20  January   \n",
       "\n",
       "     Money_Earned  Money_Spent        Art of transaction  \n",
       "0             NaN        -3.00                    Others  \n",
       "1             NaN       -50.00  Restaurants and Delivery  \n",
       "2             NaN        -7.00                    Others  \n",
       "3             NaN        -5.00                    Others  \n",
       "4             NaN       -14.00  Restaurants and Delivery  \n",
       "..            ...          ...                       ...  \n",
       "277           NaN       -45.00              ATM Withdraw  \n",
       "278         12.00          NaN  Restaurants and Delivery  \n",
       "279           NaN       -45.00              ATM Withdraw  \n",
       "280           NaN       -45.00              ATM Withdraw  \n",
       "281           NaN       -20.00                    Others  \n",
       "\n",
       "[276 rows x 9 columns]"
      ]
     },
     "execution_count": 138,
     "metadata": {},
     "output_type": "execute_result"
    }
   ],
   "source": [
    "data"
   ]
  },
  {
   "cell_type": "code",
   "execution_count": 139,
   "metadata": {},
   "outputs": [],
   "source": [
    "# so we make a new dataframe with only the amount of the spending\n",
    "money_spent=data[data[\"Booking amount\"]<0]\n",
    "#alternative:money_spent=data[data[\"Money_Spent\"].isnull() == False]"
   ]
  },
  {
   "cell_type": "code",
   "execution_count": 140,
   "metadata": {},
   "outputs": [
    {
     "data": {
      "text/html": [
       "<div>\n",
       "<style scoped>\n",
       "    .dataframe tbody tr th:only-of-type {\n",
       "        vertical-align: middle;\n",
       "    }\n",
       "\n",
       "    .dataframe tbody tr th {\n",
       "        vertical-align: top;\n",
       "    }\n",
       "\n",
       "    .dataframe thead th {\n",
       "        text-align: right;\n",
       "    }\n",
       "</style>\n",
       "<table border=\"1\" class=\"dataframe\">\n",
       "  <thead>\n",
       "    <tr style=\"text-align: right;\">\n",
       "      <th></th>\n",
       "      <th>Month</th>\n",
       "      <th>Art of transaction</th>\n",
       "      <th>Booking amount</th>\n",
       "      <th>Money_Earned</th>\n",
       "      <th>Money_Spent</th>\n",
       "    </tr>\n",
       "  </thead>\n",
       "  <tbody>\n",
       "    <tr>\n",
       "      <th>0</th>\n",
       "      <td>April</td>\n",
       "      <td>ATM Withdraw</td>\n",
       "      <td>-650</td>\n",
       "      <td>0.00</td>\n",
       "      <td>-650.00</td>\n",
       "    </tr>\n",
       "    <tr>\n",
       "      <th>1</th>\n",
       "      <td>April</td>\n",
       "      <td>Groceries</td>\n",
       "      <td>-170</td>\n",
       "      <td>0.00</td>\n",
       "      <td>-170.00</td>\n",
       "    </tr>\n",
       "    <tr>\n",
       "      <th>2</th>\n",
       "      <td>April</td>\n",
       "      <td>Health Insurance</td>\n",
       "      <td>-112</td>\n",
       "      <td>0.00</td>\n",
       "      <td>-112.00</td>\n",
       "    </tr>\n",
       "    <tr>\n",
       "      <th>3</th>\n",
       "      <td>April</td>\n",
       "      <td>Others</td>\n",
       "      <td>-108</td>\n",
       "      <td>0.00</td>\n",
       "      <td>-108.00</td>\n",
       "    </tr>\n",
       "    <tr>\n",
       "      <th>4</th>\n",
       "      <td>April</td>\n",
       "      <td>Rent</td>\n",
       "      <td>-371</td>\n",
       "      <td>0.00</td>\n",
       "      <td>-371.00</td>\n",
       "    </tr>\n",
       "    <tr>\n",
       "      <th>5</th>\n",
       "      <td>April</td>\n",
       "      <td>Restaurants and Delivery</td>\n",
       "      <td>-23</td>\n",
       "      <td>0.00</td>\n",
       "      <td>-23.00</td>\n",
       "    </tr>\n",
       "    <tr>\n",
       "      <th>6</th>\n",
       "      <td>April</td>\n",
       "      <td>Subscriptions</td>\n",
       "      <td>-8</td>\n",
       "      <td>0.00</td>\n",
       "      <td>-8.00</td>\n",
       "    </tr>\n",
       "    <tr>\n",
       "      <th>7</th>\n",
       "      <td>February</td>\n",
       "      <td>ATM Withdraw</td>\n",
       "      <td>-35</td>\n",
       "      <td>0.00</td>\n",
       "      <td>-35.00</td>\n",
       "    </tr>\n",
       "    <tr>\n",
       "      <th>8</th>\n",
       "      <td>February</td>\n",
       "      <td>Clothing</td>\n",
       "      <td>-55</td>\n",
       "      <td>0.00</td>\n",
       "      <td>-55.00</td>\n",
       "    </tr>\n",
       "    <tr>\n",
       "      <th>9</th>\n",
       "      <td>February</td>\n",
       "      <td>Groceries</td>\n",
       "      <td>-159</td>\n",
       "      <td>0.00</td>\n",
       "      <td>-159.00</td>\n",
       "    </tr>\n",
       "    <tr>\n",
       "      <th>10</th>\n",
       "      <td>February</td>\n",
       "      <td>Health Insurance</td>\n",
       "      <td>-112</td>\n",
       "      <td>0.00</td>\n",
       "      <td>-112.00</td>\n",
       "    </tr>\n",
       "    <tr>\n",
       "      <th>11</th>\n",
       "      <td>February</td>\n",
       "      <td>Others</td>\n",
       "      <td>-278</td>\n",
       "      <td>0.00</td>\n",
       "      <td>-278.00</td>\n",
       "    </tr>\n",
       "    <tr>\n",
       "      <th>12</th>\n",
       "      <td>February</td>\n",
       "      <td>Rent</td>\n",
       "      <td>-365</td>\n",
       "      <td>0.00</td>\n",
       "      <td>-365.00</td>\n",
       "    </tr>\n",
       "    <tr>\n",
       "      <th>13</th>\n",
       "      <td>February</td>\n",
       "      <td>Restaurants and Delivery</td>\n",
       "      <td>-22</td>\n",
       "      <td>0.00</td>\n",
       "      <td>-22.00</td>\n",
       "    </tr>\n",
       "    <tr>\n",
       "      <th>14</th>\n",
       "      <td>February</td>\n",
       "      <td>Subscriptions</td>\n",
       "      <td>-8</td>\n",
       "      <td>0.00</td>\n",
       "      <td>-8.00</td>\n",
       "    </tr>\n",
       "    <tr>\n",
       "      <th>15</th>\n",
       "      <td>January</td>\n",
       "      <td>ATM Withdraw</td>\n",
       "      <td>-405</td>\n",
       "      <td>0.00</td>\n",
       "      <td>-405.00</td>\n",
       "    </tr>\n",
       "    <tr>\n",
       "      <th>16</th>\n",
       "      <td>January</td>\n",
       "      <td>Groceries</td>\n",
       "      <td>-133</td>\n",
       "      <td>0.00</td>\n",
       "      <td>-133.00</td>\n",
       "    </tr>\n",
       "    <tr>\n",
       "      <th>17</th>\n",
       "      <td>January</td>\n",
       "      <td>Health Insurance</td>\n",
       "      <td>-111</td>\n",
       "      <td>0.00</td>\n",
       "      <td>-111.00</td>\n",
       "    </tr>\n",
       "    <tr>\n",
       "      <th>18</th>\n",
       "      <td>January</td>\n",
       "      <td>Others</td>\n",
       "      <td>-636</td>\n",
       "      <td>0.00</td>\n",
       "      <td>-636.00</td>\n",
       "    </tr>\n",
       "    <tr>\n",
       "      <th>19</th>\n",
       "      <td>January</td>\n",
       "      <td>Rent</td>\n",
       "      <td>-365</td>\n",
       "      <td>0.00</td>\n",
       "      <td>-365.00</td>\n",
       "    </tr>\n",
       "    <tr>\n",
       "      <th>20</th>\n",
       "      <td>January</td>\n",
       "      <td>Restaurants and Delivery</td>\n",
       "      <td>-82</td>\n",
       "      <td>0.00</td>\n",
       "      <td>-82.00</td>\n",
       "    </tr>\n",
       "    <tr>\n",
       "      <th>21</th>\n",
       "      <td>January</td>\n",
       "      <td>Subscriptions</td>\n",
       "      <td>-13</td>\n",
       "      <td>0.00</td>\n",
       "      <td>-13.00</td>\n",
       "    </tr>\n",
       "    <tr>\n",
       "      <th>22</th>\n",
       "      <td>January</td>\n",
       "      <td>Transport</td>\n",
       "      <td>-5</td>\n",
       "      <td>0.00</td>\n",
       "      <td>-5.00</td>\n",
       "    </tr>\n",
       "    <tr>\n",
       "      <th>23</th>\n",
       "      <td>June</td>\n",
       "      <td>ATM Withdraw</td>\n",
       "      <td>-220</td>\n",
       "      <td>0.00</td>\n",
       "      <td>-220.00</td>\n",
       "    </tr>\n",
       "    <tr>\n",
       "      <th>24</th>\n",
       "      <td>June</td>\n",
       "      <td>Clothing</td>\n",
       "      <td>-360</td>\n",
       "      <td>0.00</td>\n",
       "      <td>-360.00</td>\n",
       "    </tr>\n",
       "    <tr>\n",
       "      <th>25</th>\n",
       "      <td>June</td>\n",
       "      <td>Groceries</td>\n",
       "      <td>-181</td>\n",
       "      <td>0.00</td>\n",
       "      <td>-181.00</td>\n",
       "    </tr>\n",
       "    <tr>\n",
       "      <th>26</th>\n",
       "      <td>June</td>\n",
       "      <td>Others</td>\n",
       "      <td>-1049</td>\n",
       "      <td>0.00</td>\n",
       "      <td>-1049.00</td>\n",
       "    </tr>\n",
       "    <tr>\n",
       "      <th>27</th>\n",
       "      <td>June</td>\n",
       "      <td>Rent</td>\n",
       "      <td>-371</td>\n",
       "      <td>0.00</td>\n",
       "      <td>-371.00</td>\n",
       "    </tr>\n",
       "    <tr>\n",
       "      <th>28</th>\n",
       "      <td>June</td>\n",
       "      <td>Restaurants and Delivery</td>\n",
       "      <td>-214</td>\n",
       "      <td>0.00</td>\n",
       "      <td>-214.00</td>\n",
       "    </tr>\n",
       "    <tr>\n",
       "      <th>29</th>\n",
       "      <td>June</td>\n",
       "      <td>Subscriptions</td>\n",
       "      <td>-8</td>\n",
       "      <td>0.00</td>\n",
       "      <td>-8.00</td>\n",
       "    </tr>\n",
       "    <tr>\n",
       "      <th>30</th>\n",
       "      <td>June</td>\n",
       "      <td>Transport</td>\n",
       "      <td>-100</td>\n",
       "      <td>0.00</td>\n",
       "      <td>-100.00</td>\n",
       "    </tr>\n",
       "    <tr>\n",
       "      <th>31</th>\n",
       "      <td>March</td>\n",
       "      <td>ATM Withdraw</td>\n",
       "      <td>-500</td>\n",
       "      <td>0.00</td>\n",
       "      <td>-500.00</td>\n",
       "    </tr>\n",
       "    <tr>\n",
       "      <th>32</th>\n",
       "      <td>March</td>\n",
       "      <td>Groceries</td>\n",
       "      <td>-57</td>\n",
       "      <td>0.00</td>\n",
       "      <td>-57.00</td>\n",
       "    </tr>\n",
       "    <tr>\n",
       "      <th>33</th>\n",
       "      <td>March</td>\n",
       "      <td>Health Insurance</td>\n",
       "      <td>-112</td>\n",
       "      <td>0.00</td>\n",
       "      <td>-112.00</td>\n",
       "    </tr>\n",
       "    <tr>\n",
       "      <th>34</th>\n",
       "      <td>March</td>\n",
       "      <td>Others</td>\n",
       "      <td>-403</td>\n",
       "      <td>0.00</td>\n",
       "      <td>-403.00</td>\n",
       "    </tr>\n",
       "    <tr>\n",
       "      <th>35</th>\n",
       "      <td>March</td>\n",
       "      <td>Rent</td>\n",
       "      <td>-365</td>\n",
       "      <td>0.00</td>\n",
       "      <td>-365.00</td>\n",
       "    </tr>\n",
       "    <tr>\n",
       "      <th>36</th>\n",
       "      <td>March</td>\n",
       "      <td>Restaurants and Delivery</td>\n",
       "      <td>-66</td>\n",
       "      <td>0.00</td>\n",
       "      <td>-66.00</td>\n",
       "    </tr>\n",
       "    <tr>\n",
       "      <th>37</th>\n",
       "      <td>March</td>\n",
       "      <td>Subscriptions</td>\n",
       "      <td>-13</td>\n",
       "      <td>0.00</td>\n",
       "      <td>-13.00</td>\n",
       "    </tr>\n",
       "    <tr>\n",
       "      <th>38</th>\n",
       "      <td>May</td>\n",
       "      <td>ATM Withdraw</td>\n",
       "      <td>-490</td>\n",
       "      <td>0.00</td>\n",
       "      <td>-490.00</td>\n",
       "    </tr>\n",
       "    <tr>\n",
       "      <th>39</th>\n",
       "      <td>May</td>\n",
       "      <td>Clothing</td>\n",
       "      <td>-30</td>\n",
       "      <td>0.00</td>\n",
       "      <td>-30.00</td>\n",
       "    </tr>\n",
       "    <tr>\n",
       "      <th>40</th>\n",
       "      <td>May</td>\n",
       "      <td>Groceries</td>\n",
       "      <td>-122</td>\n",
       "      <td>0.00</td>\n",
       "      <td>-122.00</td>\n",
       "    </tr>\n",
       "    <tr>\n",
       "      <th>41</th>\n",
       "      <td>May</td>\n",
       "      <td>Health Insurance</td>\n",
       "      <td>-112</td>\n",
       "      <td>0.00</td>\n",
       "      <td>-112.00</td>\n",
       "    </tr>\n",
       "    <tr>\n",
       "      <th>42</th>\n",
       "      <td>May</td>\n",
       "      <td>Others</td>\n",
       "      <td>-453</td>\n",
       "      <td>0.00</td>\n",
       "      <td>-453.00</td>\n",
       "    </tr>\n",
       "    <tr>\n",
       "      <th>43</th>\n",
       "      <td>May</td>\n",
       "      <td>Rent</td>\n",
       "      <td>-371</td>\n",
       "      <td>0.00</td>\n",
       "      <td>-371.00</td>\n",
       "    </tr>\n",
       "    <tr>\n",
       "      <th>44</th>\n",
       "      <td>May</td>\n",
       "      <td>Restaurants and Delivery</td>\n",
       "      <td>-32</td>\n",
       "      <td>0.00</td>\n",
       "      <td>-32.00</td>\n",
       "    </tr>\n",
       "    <tr>\n",
       "      <th>45</th>\n",
       "      <td>May</td>\n",
       "      <td>Subscriptions</td>\n",
       "      <td>-8</td>\n",
       "      <td>0.00</td>\n",
       "      <td>-8.00</td>\n",
       "    </tr>\n",
       "    <tr>\n",
       "      <th>46</th>\n",
       "      <td>May</td>\n",
       "      <td>Transport</td>\n",
       "      <td>-166</td>\n",
       "      <td>0.00</td>\n",
       "      <td>-166.00</td>\n",
       "    </tr>\n",
       "  </tbody>\n",
       "</table>\n",
       "</div>"
      ],
      "text/plain": [
       "       Month        Art of transaction  Booking amount  Money_Earned  \\\n",
       "0      April              ATM Withdraw            -650          0.00   \n",
       "1      April                 Groceries            -170          0.00   \n",
       "2      April          Health Insurance            -112          0.00   \n",
       "3      April                    Others            -108          0.00   \n",
       "4      April                      Rent            -371          0.00   \n",
       "5      April  Restaurants and Delivery             -23          0.00   \n",
       "6      April             Subscriptions              -8          0.00   \n",
       "7   February              ATM Withdraw             -35          0.00   \n",
       "8   February                  Clothing             -55          0.00   \n",
       "9   February                 Groceries            -159          0.00   \n",
       "10  February          Health Insurance            -112          0.00   \n",
       "11  February                    Others            -278          0.00   \n",
       "12  February                      Rent            -365          0.00   \n",
       "13  February  Restaurants and Delivery             -22          0.00   \n",
       "14  February             Subscriptions              -8          0.00   \n",
       "15   January              ATM Withdraw            -405          0.00   \n",
       "16   January                 Groceries            -133          0.00   \n",
       "17   January          Health Insurance            -111          0.00   \n",
       "18   January                    Others            -636          0.00   \n",
       "19   January                      Rent            -365          0.00   \n",
       "20   January  Restaurants and Delivery             -82          0.00   \n",
       "21   January             Subscriptions             -13          0.00   \n",
       "22   January                 Transport              -5          0.00   \n",
       "23      June              ATM Withdraw            -220          0.00   \n",
       "24      June                  Clothing            -360          0.00   \n",
       "25      June                 Groceries            -181          0.00   \n",
       "26      June                    Others           -1049          0.00   \n",
       "27      June                      Rent            -371          0.00   \n",
       "28      June  Restaurants and Delivery            -214          0.00   \n",
       "29      June             Subscriptions              -8          0.00   \n",
       "30      June                 Transport            -100          0.00   \n",
       "31     March              ATM Withdraw            -500          0.00   \n",
       "32     March                 Groceries             -57          0.00   \n",
       "33     March          Health Insurance            -112          0.00   \n",
       "34     March                    Others            -403          0.00   \n",
       "35     March                      Rent            -365          0.00   \n",
       "36     March  Restaurants and Delivery             -66          0.00   \n",
       "37     March             Subscriptions             -13          0.00   \n",
       "38       May              ATM Withdraw            -490          0.00   \n",
       "39       May                  Clothing             -30          0.00   \n",
       "40       May                 Groceries            -122          0.00   \n",
       "41       May          Health Insurance            -112          0.00   \n",
       "42       May                    Others            -453          0.00   \n",
       "43       May                      Rent            -371          0.00   \n",
       "44       May  Restaurants and Delivery             -32          0.00   \n",
       "45       May             Subscriptions              -8          0.00   \n",
       "46       May                 Transport            -166          0.00   \n",
       "\n",
       "    Money_Spent  \n",
       "0       -650.00  \n",
       "1       -170.00  \n",
       "2       -112.00  \n",
       "3       -108.00  \n",
       "4       -371.00  \n",
       "5        -23.00  \n",
       "6         -8.00  \n",
       "7        -35.00  \n",
       "8        -55.00  \n",
       "9       -159.00  \n",
       "10      -112.00  \n",
       "11      -278.00  \n",
       "12      -365.00  \n",
       "13       -22.00  \n",
       "14        -8.00  \n",
       "15      -405.00  \n",
       "16      -133.00  \n",
       "17      -111.00  \n",
       "18      -636.00  \n",
       "19      -365.00  \n",
       "20       -82.00  \n",
       "21       -13.00  \n",
       "22        -5.00  \n",
       "23      -220.00  \n",
       "24      -360.00  \n",
       "25      -181.00  \n",
       "26     -1049.00  \n",
       "27      -371.00  \n",
       "28      -214.00  \n",
       "29        -8.00  \n",
       "30      -100.00  \n",
       "31      -500.00  \n",
       "32       -57.00  \n",
       "33      -112.00  \n",
       "34      -403.00  \n",
       "35      -365.00  \n",
       "36       -66.00  \n",
       "37       -13.00  \n",
       "38      -490.00  \n",
       "39       -30.00  \n",
       "40      -122.00  \n",
       "41      -112.00  \n",
       "42      -453.00  \n",
       "43      -371.00  \n",
       "44       -32.00  \n",
       "45        -8.00  \n",
       "46      -166.00  "
      ]
     },
     "execution_count": 140,
     "metadata": {},
     "output_type": "execute_result"
    }
   ],
   "source": [
    "# we will use groupby to stack the data under each month and each poin of intrest\n",
    "Data_monthly_spent =money_spent.groupby(['Month','Art of transaction'],as_index=False).sum()\n",
    "Data_monthly_spent"
   ]
  },
  {
   "cell_type": "code",
   "execution_count": 141,
   "metadata": {},
   "outputs": [
    {
     "data": {
      "text/plain": [
       "0     True\n",
       "1     True\n",
       "2     True\n",
       "3     True\n",
       "4     True\n",
       "5     True\n",
       "6     True\n",
       "7     True\n",
       "8     True\n",
       "9     True\n",
       "10    True\n",
       "11    True\n",
       "12    True\n",
       "13    True\n",
       "14    True\n",
       "15    True\n",
       "16    True\n",
       "17    True\n",
       "18    True\n",
       "19    True\n",
       "20    True\n",
       "21    True\n",
       "22    True\n",
       "23    True\n",
       "24    True\n",
       "25    True\n",
       "26    True\n",
       "27    True\n",
       "28    True\n",
       "29    True\n",
       "30    True\n",
       "31    True\n",
       "32    True\n",
       "33    True\n",
       "34    True\n",
       "35    True\n",
       "36    True\n",
       "37    True\n",
       "38    True\n",
       "39    True\n",
       "40    True\n",
       "41    True\n",
       "42    True\n",
       "43    True\n",
       "44    True\n",
       "45    True\n",
       "46    True\n",
       "dtype: bool"
      ]
     },
     "execution_count": 141,
     "metadata": {},
     "output_type": "execute_result"
    }
   ],
   "source": [
    "# PS: cause we took only the data where money spend is bigger than 0 --> Booking amount == Money spend\n",
    "Data_monthly_spent['Booking amount']==Data_monthly_spent['Money_Spent']"
   ]
  },
  {
   "cell_type": "code",
   "execution_count": 142,
   "metadata": {},
   "outputs": [
    {
     "data": {
      "text/html": [
       "<div>\n",
       "<style scoped>\n",
       "    .dataframe tbody tr th:only-of-type {\n",
       "        vertical-align: middle;\n",
       "    }\n",
       "\n",
       "    .dataframe tbody tr th {\n",
       "        vertical-align: top;\n",
       "    }\n",
       "\n",
       "    .dataframe thead th {\n",
       "        text-align: right;\n",
       "    }\n",
       "</style>\n",
       "<table border=\"1\" class=\"dataframe\">\n",
       "  <thead>\n",
       "    <tr style=\"text-align: right;\">\n",
       "      <th>Art of transaction</th>\n",
       "      <th>ATM Withdraw</th>\n",
       "      <th>Clothing</th>\n",
       "      <th>Groceries</th>\n",
       "      <th>Health Insurance</th>\n",
       "      <th>Others</th>\n",
       "      <th>Rent</th>\n",
       "      <th>Restaurants and Delivery</th>\n",
       "      <th>Subscriptions</th>\n",
       "      <th>Transport</th>\n",
       "    </tr>\n",
       "    <tr>\n",
       "      <th>Month</th>\n",
       "      <th></th>\n",
       "      <th></th>\n",
       "      <th></th>\n",
       "      <th></th>\n",
       "      <th></th>\n",
       "      <th></th>\n",
       "      <th></th>\n",
       "      <th></th>\n",
       "      <th></th>\n",
       "    </tr>\n",
       "  </thead>\n",
       "  <tbody>\n",
       "    <tr>\n",
       "      <th>April</th>\n",
       "      <td>650.00</td>\n",
       "      <td>NaN</td>\n",
       "      <td>170.00</td>\n",
       "      <td>112.00</td>\n",
       "      <td>108.00</td>\n",
       "      <td>371.00</td>\n",
       "      <td>23.00</td>\n",
       "      <td>8.00</td>\n",
       "      <td>NaN</td>\n",
       "    </tr>\n",
       "    <tr>\n",
       "      <th>February</th>\n",
       "      <td>35.00</td>\n",
       "      <td>55.00</td>\n",
       "      <td>159.00</td>\n",
       "      <td>112.00</td>\n",
       "      <td>278.00</td>\n",
       "      <td>365.00</td>\n",
       "      <td>22.00</td>\n",
       "      <td>8.00</td>\n",
       "      <td>NaN</td>\n",
       "    </tr>\n",
       "    <tr>\n",
       "      <th>January</th>\n",
       "      <td>405.00</td>\n",
       "      <td>NaN</td>\n",
       "      <td>133.00</td>\n",
       "      <td>111.00</td>\n",
       "      <td>636.00</td>\n",
       "      <td>365.00</td>\n",
       "      <td>82.00</td>\n",
       "      <td>13.00</td>\n",
       "      <td>5.00</td>\n",
       "    </tr>\n",
       "    <tr>\n",
       "      <th>June</th>\n",
       "      <td>220.00</td>\n",
       "      <td>360.00</td>\n",
       "      <td>181.00</td>\n",
       "      <td>NaN</td>\n",
       "      <td>1049.00</td>\n",
       "      <td>371.00</td>\n",
       "      <td>214.00</td>\n",
       "      <td>8.00</td>\n",
       "      <td>100.00</td>\n",
       "    </tr>\n",
       "    <tr>\n",
       "      <th>March</th>\n",
       "      <td>500.00</td>\n",
       "      <td>NaN</td>\n",
       "      <td>57.00</td>\n",
       "      <td>112.00</td>\n",
       "      <td>403.00</td>\n",
       "      <td>365.00</td>\n",
       "      <td>66.00</td>\n",
       "      <td>13.00</td>\n",
       "      <td>NaN</td>\n",
       "    </tr>\n",
       "    <tr>\n",
       "      <th>May</th>\n",
       "      <td>490.00</td>\n",
       "      <td>30.00</td>\n",
       "      <td>122.00</td>\n",
       "      <td>112.00</td>\n",
       "      <td>453.00</td>\n",
       "      <td>371.00</td>\n",
       "      <td>32.00</td>\n",
       "      <td>8.00</td>\n",
       "      <td>166.00</td>\n",
       "    </tr>\n",
       "  </tbody>\n",
       "</table>\n",
       "</div>"
      ],
      "text/plain": [
       "Art of transaction  ATM Withdraw  Clothing  Groceries  Health Insurance  \\\n",
       "Month                                                                     \n",
       "April                     650.00       NaN     170.00            112.00   \n",
       "February                   35.00     55.00     159.00            112.00   \n",
       "January                   405.00       NaN     133.00            111.00   \n",
       "June                      220.00    360.00     181.00               NaN   \n",
       "March                     500.00       NaN      57.00            112.00   \n",
       "May                       490.00     30.00     122.00            112.00   \n",
       "\n",
       "Art of transaction  Others   Rent  Restaurants and Delivery  Subscriptions  \\\n",
       "Month                                                                        \n",
       "April               108.00 371.00                     23.00           8.00   \n",
       "February            278.00 365.00                     22.00           8.00   \n",
       "January             636.00 365.00                     82.00          13.00   \n",
       "June               1049.00 371.00                    214.00           8.00   \n",
       "March               403.00 365.00                     66.00          13.00   \n",
       "May                 453.00 371.00                     32.00           8.00   \n",
       "\n",
       "Art of transaction  Transport  \n",
       "Month                          \n",
       "April                     NaN  \n",
       "February                  NaN  \n",
       "January                  5.00  \n",
       "June                   100.00  \n",
       "March                     NaN  \n",
       "May                    166.00  "
      ]
     },
     "execution_count": 142,
     "metadata": {},
     "output_type": "execute_result"
    }
   ],
   "source": [
    "Data_monthly_spent['Booking amount'] = Data_monthly_spent['Booking amount'].abs()\n",
    "DataMonthly=Data_monthly_spent.reset_index().groupby(['Month', 'Art of transaction'])['Booking amount'].aggregate('first').unstack()\n",
    "DataMonthly"
   ]
  },
  {
   "cell_type": "code",
   "execution_count": 143,
   "metadata": {},
   "outputs": [],
   "source": [
    "#here we add the months as numbers so we can sort them\n",
    "DataMonthly[\"Months\"] = pd.to_datetime(DataMonthly.index, format='%B', errors='coerce').month\n",
    "DataMonthly.sort_values(by=\"Months\",inplace=True)"
   ]
  },
  {
   "cell_type": "code",
   "execution_count": 144,
   "metadata": {},
   "outputs": [
    {
     "data": {
      "text/html": [
       "<div>\n",
       "<style scoped>\n",
       "    .dataframe tbody tr th:only-of-type {\n",
       "        vertical-align: middle;\n",
       "    }\n",
       "\n",
       "    .dataframe tbody tr th {\n",
       "        vertical-align: top;\n",
       "    }\n",
       "\n",
       "    .dataframe thead th {\n",
       "        text-align: right;\n",
       "    }\n",
       "</style>\n",
       "<table border=\"1\" class=\"dataframe\">\n",
       "  <thead>\n",
       "    <tr style=\"text-align: right;\">\n",
       "      <th>Art of transaction</th>\n",
       "      <th>ATM Withdraw</th>\n",
       "      <th>Clothing</th>\n",
       "      <th>Groceries</th>\n",
       "      <th>Health Insurance</th>\n",
       "      <th>Others</th>\n",
       "      <th>Rent</th>\n",
       "      <th>Restaurants and Delivery</th>\n",
       "      <th>Subscriptions</th>\n",
       "      <th>Transport</th>\n",
       "      <th>Months</th>\n",
       "    </tr>\n",
       "    <tr>\n",
       "      <th>Month</th>\n",
       "      <th></th>\n",
       "      <th></th>\n",
       "      <th></th>\n",
       "      <th></th>\n",
       "      <th></th>\n",
       "      <th></th>\n",
       "      <th></th>\n",
       "      <th></th>\n",
       "      <th></th>\n",
       "      <th></th>\n",
       "    </tr>\n",
       "  </thead>\n",
       "  <tbody>\n",
       "    <tr>\n",
       "      <th>January</th>\n",
       "      <td>405.00</td>\n",
       "      <td>NaN</td>\n",
       "      <td>133.00</td>\n",
       "      <td>111.00</td>\n",
       "      <td>636.00</td>\n",
       "      <td>365.00</td>\n",
       "      <td>82.00</td>\n",
       "      <td>13.00</td>\n",
       "      <td>5.00</td>\n",
       "      <td>1</td>\n",
       "    </tr>\n",
       "    <tr>\n",
       "      <th>February</th>\n",
       "      <td>35.00</td>\n",
       "      <td>55.00</td>\n",
       "      <td>159.00</td>\n",
       "      <td>112.00</td>\n",
       "      <td>278.00</td>\n",
       "      <td>365.00</td>\n",
       "      <td>22.00</td>\n",
       "      <td>8.00</td>\n",
       "      <td>NaN</td>\n",
       "      <td>2</td>\n",
       "    </tr>\n",
       "    <tr>\n",
       "      <th>March</th>\n",
       "      <td>500.00</td>\n",
       "      <td>NaN</td>\n",
       "      <td>57.00</td>\n",
       "      <td>112.00</td>\n",
       "      <td>403.00</td>\n",
       "      <td>365.00</td>\n",
       "      <td>66.00</td>\n",
       "      <td>13.00</td>\n",
       "      <td>NaN</td>\n",
       "      <td>3</td>\n",
       "    </tr>\n",
       "    <tr>\n",
       "      <th>April</th>\n",
       "      <td>650.00</td>\n",
       "      <td>NaN</td>\n",
       "      <td>170.00</td>\n",
       "      <td>112.00</td>\n",
       "      <td>108.00</td>\n",
       "      <td>371.00</td>\n",
       "      <td>23.00</td>\n",
       "      <td>8.00</td>\n",
       "      <td>NaN</td>\n",
       "      <td>4</td>\n",
       "    </tr>\n",
       "    <tr>\n",
       "      <th>May</th>\n",
       "      <td>490.00</td>\n",
       "      <td>30.00</td>\n",
       "      <td>122.00</td>\n",
       "      <td>112.00</td>\n",
       "      <td>453.00</td>\n",
       "      <td>371.00</td>\n",
       "      <td>32.00</td>\n",
       "      <td>8.00</td>\n",
       "      <td>166.00</td>\n",
       "      <td>5</td>\n",
       "    </tr>\n",
       "    <tr>\n",
       "      <th>June</th>\n",
       "      <td>220.00</td>\n",
       "      <td>360.00</td>\n",
       "      <td>181.00</td>\n",
       "      <td>NaN</td>\n",
       "      <td>1049.00</td>\n",
       "      <td>371.00</td>\n",
       "      <td>214.00</td>\n",
       "      <td>8.00</td>\n",
       "      <td>100.00</td>\n",
       "      <td>6</td>\n",
       "    </tr>\n",
       "  </tbody>\n",
       "</table>\n",
       "</div>"
      ],
      "text/plain": [
       "Art of transaction  ATM Withdraw  Clothing  Groceries  Health Insurance  \\\n",
       "Month                                                                     \n",
       "January                   405.00       NaN     133.00            111.00   \n",
       "February                   35.00     55.00     159.00            112.00   \n",
       "March                     500.00       NaN      57.00            112.00   \n",
       "April                     650.00       NaN     170.00            112.00   \n",
       "May                       490.00     30.00     122.00            112.00   \n",
       "June                      220.00    360.00     181.00               NaN   \n",
       "\n",
       "Art of transaction  Others   Rent  Restaurants and Delivery  Subscriptions  \\\n",
       "Month                                                                        \n",
       "January             636.00 365.00                     82.00          13.00   \n",
       "February            278.00 365.00                     22.00           8.00   \n",
       "March               403.00 365.00                     66.00          13.00   \n",
       "April               108.00 371.00                     23.00           8.00   \n",
       "May                 453.00 371.00                     32.00           8.00   \n",
       "June               1049.00 371.00                    214.00           8.00   \n",
       "\n",
       "Art of transaction  Transport  Months  \n",
       "Month                                  \n",
       "January                  5.00       1  \n",
       "February                  NaN       2  \n",
       "March                     NaN       3  \n",
       "April                     NaN       4  \n",
       "May                    166.00       5  \n",
       "June                   100.00       6  "
      ]
     },
     "execution_count": 144,
     "metadata": {},
     "output_type": "execute_result"
    }
   ],
   "source": [
    "DataMonthly"
   ]
  },
  {
   "cell_type": "code",
   "execution_count": null,
   "metadata": {},
   "outputs": [],
   "source": []
  },
  {
   "cell_type": "code",
   "execution_count": 145,
   "metadata": {},
   "outputs": [],
   "source": [
    "# the name of the sorted columns \"Art of transaction\" is unusable so we might delete\n",
    "DataMonthly.columns.name = None\n",
    "# we should fill the Nan values with 0 for the charts later on\n",
    "DataMonthly.fillna(0,inplace=True)"
   ]
  },
  {
   "cell_type": "code",
   "execution_count": 146,
   "metadata": {},
   "outputs": [
    {
     "name": "stdout",
     "output_type": "stream",
     "text": [
      "<class 'pandas.core.frame.DataFrame'>\n",
      "Index: 6 entries, January to June\n",
      "Data columns (total 10 columns):\n",
      " #   Column                    Non-Null Count  Dtype  \n",
      "---  ------                    --------------  -----  \n",
      " 0   ATM Withdraw              6 non-null      float64\n",
      " 1   Clothing                  6 non-null      float64\n",
      " 2   Groceries                 6 non-null      float64\n",
      " 3   Health Insurance          6 non-null      float64\n",
      " 4   Others                    6 non-null      float64\n",
      " 5   Rent                      6 non-null      float64\n",
      " 6   Restaurants and Delivery  6 non-null      float64\n",
      " 7   Subscriptions             6 non-null      float64\n",
      " 8   Transport                 6 non-null      float64\n",
      " 9   Months                    6 non-null      int64  \n",
      "dtypes: float64(9), int64(1)\n",
      "memory usage: 528.0+ bytes\n"
     ]
    }
   ],
   "source": [
    "DataMonthly.info()"
   ]
  },
  {
   "cell_type": "code",
   "execution_count": 147,
   "metadata": {},
   "outputs": [],
   "source": [
    "# the Months column are not relevant now for the show\n",
    "DataMonthly.drop([\"Months\"],inplace=True, axis=1)"
   ]
  },
  {
   "cell_type": "code",
   "execution_count": 149,
   "metadata": {},
   "outputs": [
    {
     "data": {
      "application/vnd.plotly.v1+json": {
       "config": {
        "plotlyServerURL": "https://plot.ly"
       },
       "data": [
        {
         "alignmentgroup": "True",
         "hovertemplate": "Art of transaction=ATM Withdraw<br>Month=%{x}<br>Amount in €=%{text}<extra></extra>",
         "insidetextanchor": "middle",
         "legendgroup": "ATM Withdraw",
         "marker": {
          "color": "#636efa",
          "pattern": {
           "shape": ""
          }
         },
         "name": "ATM Withdraw",
         "offsetgroup": "ATM Withdraw",
         "orientation": "v",
         "showlegend": true,
         "text": [
          405,
          35,
          500,
          650,
          490,
          220
         ],
         "textposition": "inside",
         "type": "bar",
         "x": [
          "January",
          "February",
          "March",
          "April",
          "May",
          "June"
         ],
         "xaxis": "x",
         "y": [
          405,
          35,
          500,
          650,
          490,
          220
         ],
         "yaxis": "y"
        },
        {
         "alignmentgroup": "True",
         "hovertemplate": "Art of transaction=Clothing<br>Month=%{x}<br>Amount in €=%{text}<extra></extra>",
         "insidetextanchor": "middle",
         "legendgroup": "Clothing",
         "marker": {
          "color": "#EF553B",
          "pattern": {
           "shape": ""
          }
         },
         "name": "Clothing",
         "offsetgroup": "Clothing",
         "orientation": "v",
         "showlegend": true,
         "text": [
          0,
          55,
          0,
          0,
          30,
          360
         ],
         "textposition": "inside",
         "type": "bar",
         "x": [
          "January",
          "February",
          "March",
          "April",
          "May",
          "June"
         ],
         "xaxis": "x",
         "y": [
          0,
          55,
          0,
          0,
          30,
          360
         ],
         "yaxis": "y"
        },
        {
         "alignmentgroup": "True",
         "hovertemplate": "Art of transaction=Groceries<br>Month=%{x}<br>Amount in €=%{text}<extra></extra>",
         "insidetextanchor": "middle",
         "legendgroup": "Groceries",
         "marker": {
          "color": "#00cc96",
          "pattern": {
           "shape": ""
          }
         },
         "name": "Groceries",
         "offsetgroup": "Groceries",
         "orientation": "v",
         "showlegend": true,
         "text": [
          133,
          159,
          57,
          170,
          122,
          181
         ],
         "textposition": "inside",
         "type": "bar",
         "x": [
          "January",
          "February",
          "March",
          "April",
          "May",
          "June"
         ],
         "xaxis": "x",
         "y": [
          133,
          159,
          57,
          170,
          122,
          181
         ],
         "yaxis": "y"
        },
        {
         "alignmentgroup": "True",
         "hovertemplate": "Art of transaction=Health Insurance<br>Month=%{x}<br>Amount in €=%{text}<extra></extra>",
         "insidetextanchor": "middle",
         "legendgroup": "Health Insurance",
         "marker": {
          "color": "#ab63fa",
          "pattern": {
           "shape": ""
          }
         },
         "name": "Health Insurance",
         "offsetgroup": "Health Insurance",
         "orientation": "v",
         "showlegend": true,
         "text": [
          111,
          112,
          112,
          112,
          112,
          0
         ],
         "textposition": "inside",
         "type": "bar",
         "x": [
          "January",
          "February",
          "March",
          "April",
          "May",
          "June"
         ],
         "xaxis": "x",
         "y": [
          111,
          112,
          112,
          112,
          112,
          0
         ],
         "yaxis": "y"
        },
        {
         "alignmentgroup": "True",
         "hovertemplate": "Art of transaction=Others<br>Month=%{x}<br>Amount in €=%{text}<extra></extra>",
         "insidetextanchor": "middle",
         "legendgroup": "Others",
         "marker": {
          "color": "#FFA15A",
          "pattern": {
           "shape": ""
          }
         },
         "name": "Others",
         "offsetgroup": "Others",
         "orientation": "v",
         "showlegend": true,
         "text": [
          636,
          278,
          403,
          108,
          453,
          1049
         ],
         "textposition": "inside",
         "type": "bar",
         "x": [
          "January",
          "February",
          "March",
          "April",
          "May",
          "June"
         ],
         "xaxis": "x",
         "y": [
          636,
          278,
          403,
          108,
          453,
          1049
         ],
         "yaxis": "y"
        },
        {
         "alignmentgroup": "True",
         "hovertemplate": "Art of transaction=Rent<br>Month=%{x}<br>Amount in €=%{text}<extra></extra>",
         "insidetextanchor": "middle",
         "legendgroup": "Rent",
         "marker": {
          "color": "#19d3f3",
          "pattern": {
           "shape": ""
          }
         },
         "name": "Rent",
         "offsetgroup": "Rent",
         "orientation": "v",
         "showlegend": true,
         "text": [
          365,
          365,
          365,
          371,
          371,
          371
         ],
         "textposition": "inside",
         "type": "bar",
         "x": [
          "January",
          "February",
          "March",
          "April",
          "May",
          "June"
         ],
         "xaxis": "x",
         "y": [
          365,
          365,
          365,
          371,
          371,
          371
         ],
         "yaxis": "y"
        },
        {
         "alignmentgroup": "True",
         "hovertemplate": "Art of transaction=Restaurants and Delivery<br>Month=%{x}<br>Amount in €=%{text}<extra></extra>",
         "insidetextanchor": "middle",
         "legendgroup": "Restaurants and Delivery",
         "marker": {
          "color": "#FF6692",
          "pattern": {
           "shape": ""
          }
         },
         "name": "Restaurants and Delivery",
         "offsetgroup": "Restaurants and Delivery",
         "orientation": "v",
         "showlegend": true,
         "text": [
          82,
          22,
          66,
          23,
          32,
          214
         ],
         "textposition": "inside",
         "type": "bar",
         "x": [
          "January",
          "February",
          "March",
          "April",
          "May",
          "June"
         ],
         "xaxis": "x",
         "y": [
          82,
          22,
          66,
          23,
          32,
          214
         ],
         "yaxis": "y"
        },
        {
         "alignmentgroup": "True",
         "hovertemplate": "Art of transaction=Subscriptions<br>Month=%{x}<br>Amount in €=%{text}<extra></extra>",
         "insidetextanchor": "middle",
         "legendgroup": "Subscriptions",
         "marker": {
          "color": "#B6E880",
          "pattern": {
           "shape": ""
          }
         },
         "name": "Subscriptions",
         "offsetgroup": "Subscriptions",
         "orientation": "v",
         "showlegend": true,
         "text": [
          13,
          8,
          13,
          8,
          8,
          8
         ],
         "textposition": "inside",
         "type": "bar",
         "x": [
          "January",
          "February",
          "March",
          "April",
          "May",
          "June"
         ],
         "xaxis": "x",
         "y": [
          13,
          8,
          13,
          8,
          8,
          8
         ],
         "yaxis": "y"
        },
        {
         "alignmentgroup": "True",
         "hovertemplate": "Art of transaction=Transport<br>Month=%{x}<br>Amount in €=%{text}<extra></extra>",
         "insidetextanchor": "middle",
         "legendgroup": "Transport",
         "marker": {
          "color": "#FF97FF",
          "pattern": {
           "shape": ""
          }
         },
         "name": "Transport",
         "offsetgroup": "Transport",
         "orientation": "v",
         "showlegend": true,
         "text": [
          5,
          0,
          0,
          0,
          166,
          100
         ],
         "textposition": "inside",
         "type": "bar",
         "x": [
          "January",
          "February",
          "March",
          "April",
          "May",
          "June"
         ],
         "xaxis": "x",
         "y": [
          5,
          0,
          0,
          0,
          166,
          100
         ],
         "yaxis": "y"
        }
       ],
       "layout": {
        "barmode": "group",
        "font": {
         "size": 15
        },
        "height": 700,
        "legend": {
         "title": {
          "text": "Art of transaction"
         },
         "tracegroupgap": 0
        },
        "showlegend": true,
        "template": {
         "data": {
          "bar": [
           {
            "error_x": {
             "color": "#2a3f5f"
            },
            "error_y": {
             "color": "#2a3f5f"
            },
            "marker": {
             "line": {
              "color": "#E5ECF6",
              "width": 0.5
             },
             "pattern": {
              "fillmode": "overlay",
              "size": 10,
              "solidity": 0.2
             }
            },
            "type": "bar"
           }
          ],
          "barpolar": [
           {
            "marker": {
             "line": {
              "color": "#E5ECF6",
              "width": 0.5
             },
             "pattern": {
              "fillmode": "overlay",
              "size": 10,
              "solidity": 0.2
             }
            },
            "type": "barpolar"
           }
          ],
          "carpet": [
           {
            "aaxis": {
             "endlinecolor": "#2a3f5f",
             "gridcolor": "white",
             "linecolor": "white",
             "minorgridcolor": "white",
             "startlinecolor": "#2a3f5f"
            },
            "baxis": {
             "endlinecolor": "#2a3f5f",
             "gridcolor": "white",
             "linecolor": "white",
             "minorgridcolor": "white",
             "startlinecolor": "#2a3f5f"
            },
            "type": "carpet"
           }
          ],
          "choropleth": [
           {
            "colorbar": {
             "outlinewidth": 0,
             "ticks": ""
            },
            "type": "choropleth"
           }
          ],
          "contour": [
           {
            "colorbar": {
             "outlinewidth": 0,
             "ticks": ""
            },
            "colorscale": [
             [
              0,
              "#0d0887"
             ],
             [
              0.1111111111111111,
              "#46039f"
             ],
             [
              0.2222222222222222,
              "#7201a8"
             ],
             [
              0.3333333333333333,
              "#9c179e"
             ],
             [
              0.4444444444444444,
              "#bd3786"
             ],
             [
              0.5555555555555556,
              "#d8576b"
             ],
             [
              0.6666666666666666,
              "#ed7953"
             ],
             [
              0.7777777777777778,
              "#fb9f3a"
             ],
             [
              0.8888888888888888,
              "#fdca26"
             ],
             [
              1,
              "#f0f921"
             ]
            ],
            "type": "contour"
           }
          ],
          "contourcarpet": [
           {
            "colorbar": {
             "outlinewidth": 0,
             "ticks": ""
            },
            "type": "contourcarpet"
           }
          ],
          "heatmap": [
           {
            "colorbar": {
             "outlinewidth": 0,
             "ticks": ""
            },
            "colorscale": [
             [
              0,
              "#0d0887"
             ],
             [
              0.1111111111111111,
              "#46039f"
             ],
             [
              0.2222222222222222,
              "#7201a8"
             ],
             [
              0.3333333333333333,
              "#9c179e"
             ],
             [
              0.4444444444444444,
              "#bd3786"
             ],
             [
              0.5555555555555556,
              "#d8576b"
             ],
             [
              0.6666666666666666,
              "#ed7953"
             ],
             [
              0.7777777777777778,
              "#fb9f3a"
             ],
             [
              0.8888888888888888,
              "#fdca26"
             ],
             [
              1,
              "#f0f921"
             ]
            ],
            "type": "heatmap"
           }
          ],
          "heatmapgl": [
           {
            "colorbar": {
             "outlinewidth": 0,
             "ticks": ""
            },
            "colorscale": [
             [
              0,
              "#0d0887"
             ],
             [
              0.1111111111111111,
              "#46039f"
             ],
             [
              0.2222222222222222,
              "#7201a8"
             ],
             [
              0.3333333333333333,
              "#9c179e"
             ],
             [
              0.4444444444444444,
              "#bd3786"
             ],
             [
              0.5555555555555556,
              "#d8576b"
             ],
             [
              0.6666666666666666,
              "#ed7953"
             ],
             [
              0.7777777777777778,
              "#fb9f3a"
             ],
             [
              0.8888888888888888,
              "#fdca26"
             ],
             [
              1,
              "#f0f921"
             ]
            ],
            "type": "heatmapgl"
           }
          ],
          "histogram": [
           {
            "marker": {
             "pattern": {
              "fillmode": "overlay",
              "size": 10,
              "solidity": 0.2
             }
            },
            "type": "histogram"
           }
          ],
          "histogram2d": [
           {
            "colorbar": {
             "outlinewidth": 0,
             "ticks": ""
            },
            "colorscale": [
             [
              0,
              "#0d0887"
             ],
             [
              0.1111111111111111,
              "#46039f"
             ],
             [
              0.2222222222222222,
              "#7201a8"
             ],
             [
              0.3333333333333333,
              "#9c179e"
             ],
             [
              0.4444444444444444,
              "#bd3786"
             ],
             [
              0.5555555555555556,
              "#d8576b"
             ],
             [
              0.6666666666666666,
              "#ed7953"
             ],
             [
              0.7777777777777778,
              "#fb9f3a"
             ],
             [
              0.8888888888888888,
              "#fdca26"
             ],
             [
              1,
              "#f0f921"
             ]
            ],
            "type": "histogram2d"
           }
          ],
          "histogram2dcontour": [
           {
            "colorbar": {
             "outlinewidth": 0,
             "ticks": ""
            },
            "colorscale": [
             [
              0,
              "#0d0887"
             ],
             [
              0.1111111111111111,
              "#46039f"
             ],
             [
              0.2222222222222222,
              "#7201a8"
             ],
             [
              0.3333333333333333,
              "#9c179e"
             ],
             [
              0.4444444444444444,
              "#bd3786"
             ],
             [
              0.5555555555555556,
              "#d8576b"
             ],
             [
              0.6666666666666666,
              "#ed7953"
             ],
             [
              0.7777777777777778,
              "#fb9f3a"
             ],
             [
              0.8888888888888888,
              "#fdca26"
             ],
             [
              1,
              "#f0f921"
             ]
            ],
            "type": "histogram2dcontour"
           }
          ],
          "mesh3d": [
           {
            "colorbar": {
             "outlinewidth": 0,
             "ticks": ""
            },
            "type": "mesh3d"
           }
          ],
          "parcoords": [
           {
            "line": {
             "colorbar": {
              "outlinewidth": 0,
              "ticks": ""
             }
            },
            "type": "parcoords"
           }
          ],
          "pie": [
           {
            "automargin": true,
            "type": "pie"
           }
          ],
          "scatter": [
           {
            "fillpattern": {
             "fillmode": "overlay",
             "size": 10,
             "solidity": 0.2
            },
            "type": "scatter"
           }
          ],
          "scatter3d": [
           {
            "line": {
             "colorbar": {
              "outlinewidth": 0,
              "ticks": ""
             }
            },
            "marker": {
             "colorbar": {
              "outlinewidth": 0,
              "ticks": ""
             }
            },
            "type": "scatter3d"
           }
          ],
          "scattercarpet": [
           {
            "marker": {
             "colorbar": {
              "outlinewidth": 0,
              "ticks": ""
             }
            },
            "type": "scattercarpet"
           }
          ],
          "scattergeo": [
           {
            "marker": {
             "colorbar": {
              "outlinewidth": 0,
              "ticks": ""
             }
            },
            "type": "scattergeo"
           }
          ],
          "scattergl": [
           {
            "marker": {
             "colorbar": {
              "outlinewidth": 0,
              "ticks": ""
             }
            },
            "type": "scattergl"
           }
          ],
          "scattermapbox": [
           {
            "marker": {
             "colorbar": {
              "outlinewidth": 0,
              "ticks": ""
             }
            },
            "type": "scattermapbox"
           }
          ],
          "scatterpolar": [
           {
            "marker": {
             "colorbar": {
              "outlinewidth": 0,
              "ticks": ""
             }
            },
            "type": "scatterpolar"
           }
          ],
          "scatterpolargl": [
           {
            "marker": {
             "colorbar": {
              "outlinewidth": 0,
              "ticks": ""
             }
            },
            "type": "scatterpolargl"
           }
          ],
          "scatterternary": [
           {
            "marker": {
             "colorbar": {
              "outlinewidth": 0,
              "ticks": ""
             }
            },
            "type": "scatterternary"
           }
          ],
          "surface": [
           {
            "colorbar": {
             "outlinewidth": 0,
             "ticks": ""
            },
            "colorscale": [
             [
              0,
              "#0d0887"
             ],
             [
              0.1111111111111111,
              "#46039f"
             ],
             [
              0.2222222222222222,
              "#7201a8"
             ],
             [
              0.3333333333333333,
              "#9c179e"
             ],
             [
              0.4444444444444444,
              "#bd3786"
             ],
             [
              0.5555555555555556,
              "#d8576b"
             ],
             [
              0.6666666666666666,
              "#ed7953"
             ],
             [
              0.7777777777777778,
              "#fb9f3a"
             ],
             [
              0.8888888888888888,
              "#fdca26"
             ],
             [
              1,
              "#f0f921"
             ]
            ],
            "type": "surface"
           }
          ],
          "table": [
           {
            "cells": {
             "fill": {
              "color": "#EBF0F8"
             },
             "line": {
              "color": "white"
             }
            },
            "header": {
             "fill": {
              "color": "#C8D4E3"
             },
             "line": {
              "color": "white"
             }
            },
            "type": "table"
           }
          ]
         },
         "layout": {
          "annotationdefaults": {
           "arrowcolor": "#2a3f5f",
           "arrowhead": 0,
           "arrowwidth": 1
          },
          "autotypenumbers": "strict",
          "coloraxis": {
           "colorbar": {
            "outlinewidth": 0,
            "ticks": ""
           }
          },
          "colorscale": {
           "diverging": [
            [
             0,
             "#8e0152"
            ],
            [
             0.1,
             "#c51b7d"
            ],
            [
             0.2,
             "#de77ae"
            ],
            [
             0.3,
             "#f1b6da"
            ],
            [
             0.4,
             "#fde0ef"
            ],
            [
             0.5,
             "#f7f7f7"
            ],
            [
             0.6,
             "#e6f5d0"
            ],
            [
             0.7,
             "#b8e186"
            ],
            [
             0.8,
             "#7fbc41"
            ],
            [
             0.9,
             "#4d9221"
            ],
            [
             1,
             "#276419"
            ]
           ],
           "sequential": [
            [
             0,
             "#0d0887"
            ],
            [
             0.1111111111111111,
             "#46039f"
            ],
            [
             0.2222222222222222,
             "#7201a8"
            ],
            [
             0.3333333333333333,
             "#9c179e"
            ],
            [
             0.4444444444444444,
             "#bd3786"
            ],
            [
             0.5555555555555556,
             "#d8576b"
            ],
            [
             0.6666666666666666,
             "#ed7953"
            ],
            [
             0.7777777777777778,
             "#fb9f3a"
            ],
            [
             0.8888888888888888,
             "#fdca26"
            ],
            [
             1,
             "#f0f921"
            ]
           ],
           "sequentialminus": [
            [
             0,
             "#0d0887"
            ],
            [
             0.1111111111111111,
             "#46039f"
            ],
            [
             0.2222222222222222,
             "#7201a8"
            ],
            [
             0.3333333333333333,
             "#9c179e"
            ],
            [
             0.4444444444444444,
             "#bd3786"
            ],
            [
             0.5555555555555556,
             "#d8576b"
            ],
            [
             0.6666666666666666,
             "#ed7953"
            ],
            [
             0.7777777777777778,
             "#fb9f3a"
            ],
            [
             0.8888888888888888,
             "#fdca26"
            ],
            [
             1,
             "#f0f921"
            ]
           ]
          },
          "colorway": [
           "#636efa",
           "#EF553B",
           "#00cc96",
           "#ab63fa",
           "#FFA15A",
           "#19d3f3",
           "#FF6692",
           "#B6E880",
           "#FF97FF",
           "#FECB52"
          ],
          "font": {
           "color": "#2a3f5f"
          },
          "geo": {
           "bgcolor": "white",
           "lakecolor": "white",
           "landcolor": "#E5ECF6",
           "showlakes": true,
           "showland": true,
           "subunitcolor": "white"
          },
          "hoverlabel": {
           "align": "left"
          },
          "hovermode": "closest",
          "mapbox": {
           "style": "light"
          },
          "paper_bgcolor": "white",
          "plot_bgcolor": "#E5ECF6",
          "polar": {
           "angularaxis": {
            "gridcolor": "white",
            "linecolor": "white",
            "ticks": ""
           },
           "bgcolor": "#E5ECF6",
           "radialaxis": {
            "gridcolor": "white",
            "linecolor": "white",
            "ticks": ""
           }
          },
          "scene": {
           "xaxis": {
            "backgroundcolor": "#E5ECF6",
            "gridcolor": "white",
            "gridwidth": 2,
            "linecolor": "white",
            "showbackground": true,
            "ticks": "",
            "zerolinecolor": "white"
           },
           "yaxis": {
            "backgroundcolor": "#E5ECF6",
            "gridcolor": "white",
            "gridwidth": 2,
            "linecolor": "white",
            "showbackground": true,
            "ticks": "",
            "zerolinecolor": "white"
           },
           "zaxis": {
            "backgroundcolor": "#E5ECF6",
            "gridcolor": "white",
            "gridwidth": 2,
            "linecolor": "white",
            "showbackground": true,
            "ticks": "",
            "zerolinecolor": "white"
           }
          },
          "shapedefaults": {
           "line": {
            "color": "#2a3f5f"
           }
          },
          "ternary": {
           "aaxis": {
            "gridcolor": "white",
            "linecolor": "white",
            "ticks": ""
           },
           "baxis": {
            "gridcolor": "white",
            "linecolor": "white",
            "ticks": ""
           },
           "bgcolor": "#E5ECF6",
           "caxis": {
            "gridcolor": "white",
            "linecolor": "white",
            "ticks": ""
           }
          },
          "title": {
           "x": 0.05
          },
          "xaxis": {
           "automargin": true,
           "gridcolor": "white",
           "linecolor": "white",
           "ticks": "",
           "title": {
            "standoff": 15
           },
           "zerolinecolor": "white",
           "zerolinewidth": 2
          },
          "yaxis": {
           "automargin": true,
           "gridcolor": "white",
           "linecolor": "white",
           "ticks": "",
           "title": {
            "standoff": 15
           },
           "zerolinecolor": "white",
           "zerolinewidth": 2
          }
         }
        },
        "title": {
         "font": {
          "family": "Arial Black",
          "size": 20
         },
         "text": "Monthly distribution of the Amount of spent Money",
         "x": 0.08
        },
        "width": 900,
        "xaxis": {
         "anchor": "y",
         "domain": [
          0,
          1
         ],
         "title": {
          "text": "Month"
         }
        },
        "yaxis": {
         "anchor": "x",
         "domain": [
          0,
          1
         ],
         "showgrid": true,
         "title": {
          "text": "Amount in €"
         }
        }
       }
      },
      "text/html": [
       "<div>                            <div id=\"e363608a-0db8-46e1-9bfe-f41c8e6fb82b\" class=\"plotly-graph-div\" style=\"height:700px; width:900px;\"></div>            <script type=\"text/javascript\">                require([\"plotly\"], function(Plotly) {                    window.PLOTLYENV=window.PLOTLYENV || {};                                    if (document.getElementById(\"e363608a-0db8-46e1-9bfe-f41c8e6fb82b\")) {                    Plotly.newPlot(                        \"e363608a-0db8-46e1-9bfe-f41c8e6fb82b\",                        [{\"alignmentgroup\":\"True\",\"hovertemplate\":\"Art of transaction=ATM Withdraw<br>Month=%{x}<br>Amount in \\u20ac=%{text}<extra></extra>\",\"legendgroup\":\"ATM Withdraw\",\"marker\":{\"color\":\"#636efa\",\"pattern\":{\"shape\":\"\"}},\"name\":\"ATM Withdraw\",\"offsetgroup\":\"ATM Withdraw\",\"orientation\":\"v\",\"showlegend\":true,\"text\":[405.0,35.0,500.0,650.0,490.0,220.0],\"textposition\":\"inside\",\"x\":[\"January\",\"February\",\"March\",\"April\",\"May\",\"June\"],\"xaxis\":\"x\",\"y\":[405.0,35.0,500.0,650.0,490.0,220.0],\"yaxis\":\"y\",\"type\":\"bar\",\"insidetextanchor\":\"middle\"},{\"alignmentgroup\":\"True\",\"hovertemplate\":\"Art of transaction=Clothing<br>Month=%{x}<br>Amount in \\u20ac=%{text}<extra></extra>\",\"legendgroup\":\"Clothing\",\"marker\":{\"color\":\"#EF553B\",\"pattern\":{\"shape\":\"\"}},\"name\":\"Clothing\",\"offsetgroup\":\"Clothing\",\"orientation\":\"v\",\"showlegend\":true,\"text\":[0.0,55.0,0.0,0.0,30.0,360.0],\"textposition\":\"inside\",\"x\":[\"January\",\"February\",\"March\",\"April\",\"May\",\"June\"],\"xaxis\":\"x\",\"y\":[0.0,55.0,0.0,0.0,30.0,360.0],\"yaxis\":\"y\",\"type\":\"bar\",\"insidetextanchor\":\"middle\"},{\"alignmentgroup\":\"True\",\"hovertemplate\":\"Art of transaction=Groceries<br>Month=%{x}<br>Amount in \\u20ac=%{text}<extra></extra>\",\"legendgroup\":\"Groceries\",\"marker\":{\"color\":\"#00cc96\",\"pattern\":{\"shape\":\"\"}},\"name\":\"Groceries\",\"offsetgroup\":\"Groceries\",\"orientation\":\"v\",\"showlegend\":true,\"text\":[133.0,159.0,57.0,170.0,122.0,181.0],\"textposition\":\"inside\",\"x\":[\"January\",\"February\",\"March\",\"April\",\"May\",\"June\"],\"xaxis\":\"x\",\"y\":[133.0,159.0,57.0,170.0,122.0,181.0],\"yaxis\":\"y\",\"type\":\"bar\",\"insidetextanchor\":\"middle\"},{\"alignmentgroup\":\"True\",\"hovertemplate\":\"Art of transaction=Health Insurance<br>Month=%{x}<br>Amount in \\u20ac=%{text}<extra></extra>\",\"legendgroup\":\"Health Insurance\",\"marker\":{\"color\":\"#ab63fa\",\"pattern\":{\"shape\":\"\"}},\"name\":\"Health Insurance\",\"offsetgroup\":\"Health Insurance\",\"orientation\":\"v\",\"showlegend\":true,\"text\":[111.0,112.0,112.0,112.0,112.0,0.0],\"textposition\":\"inside\",\"x\":[\"January\",\"February\",\"March\",\"April\",\"May\",\"June\"],\"xaxis\":\"x\",\"y\":[111.0,112.0,112.0,112.0,112.0,0.0],\"yaxis\":\"y\",\"type\":\"bar\",\"insidetextanchor\":\"middle\"},{\"alignmentgroup\":\"True\",\"hovertemplate\":\"Art of transaction=Others<br>Month=%{x}<br>Amount in \\u20ac=%{text}<extra></extra>\",\"legendgroup\":\"Others\",\"marker\":{\"color\":\"#FFA15A\",\"pattern\":{\"shape\":\"\"}},\"name\":\"Others\",\"offsetgroup\":\"Others\",\"orientation\":\"v\",\"showlegend\":true,\"text\":[636.0,278.0,403.0,108.0,453.0,1049.0],\"textposition\":\"inside\",\"x\":[\"January\",\"February\",\"March\",\"April\",\"May\",\"June\"],\"xaxis\":\"x\",\"y\":[636.0,278.0,403.0,108.0,453.0,1049.0],\"yaxis\":\"y\",\"type\":\"bar\",\"insidetextanchor\":\"middle\"},{\"alignmentgroup\":\"True\",\"hovertemplate\":\"Art of transaction=Rent<br>Month=%{x}<br>Amount in \\u20ac=%{text}<extra></extra>\",\"legendgroup\":\"Rent\",\"marker\":{\"color\":\"#19d3f3\",\"pattern\":{\"shape\":\"\"}},\"name\":\"Rent\",\"offsetgroup\":\"Rent\",\"orientation\":\"v\",\"showlegend\":true,\"text\":[365.0,365.0,365.0,371.0,371.0,371.0],\"textposition\":\"inside\",\"x\":[\"January\",\"February\",\"March\",\"April\",\"May\",\"June\"],\"xaxis\":\"x\",\"y\":[365.0,365.0,365.0,371.0,371.0,371.0],\"yaxis\":\"y\",\"type\":\"bar\",\"insidetextanchor\":\"middle\"},{\"alignmentgroup\":\"True\",\"hovertemplate\":\"Art of transaction=Restaurants and Delivery<br>Month=%{x}<br>Amount in \\u20ac=%{text}<extra></extra>\",\"legendgroup\":\"Restaurants and Delivery\",\"marker\":{\"color\":\"#FF6692\",\"pattern\":{\"shape\":\"\"}},\"name\":\"Restaurants and Delivery\",\"offsetgroup\":\"Restaurants and Delivery\",\"orientation\":\"v\",\"showlegend\":true,\"text\":[82.0,22.0,66.0,23.0,32.0,214.0],\"textposition\":\"inside\",\"x\":[\"January\",\"February\",\"March\",\"April\",\"May\",\"June\"],\"xaxis\":\"x\",\"y\":[82.0,22.0,66.0,23.0,32.0,214.0],\"yaxis\":\"y\",\"type\":\"bar\",\"insidetextanchor\":\"middle\"},{\"alignmentgroup\":\"True\",\"hovertemplate\":\"Art of transaction=Subscriptions<br>Month=%{x}<br>Amount in \\u20ac=%{text}<extra></extra>\",\"legendgroup\":\"Subscriptions\",\"marker\":{\"color\":\"#B6E880\",\"pattern\":{\"shape\":\"\"}},\"name\":\"Subscriptions\",\"offsetgroup\":\"Subscriptions\",\"orientation\":\"v\",\"showlegend\":true,\"text\":[13.0,8.0,13.0,8.0,8.0,8.0],\"textposition\":\"inside\",\"x\":[\"January\",\"February\",\"March\",\"April\",\"May\",\"June\"],\"xaxis\":\"x\",\"y\":[13.0,8.0,13.0,8.0,8.0,8.0],\"yaxis\":\"y\",\"type\":\"bar\",\"insidetextanchor\":\"middle\"},{\"alignmentgroup\":\"True\",\"hovertemplate\":\"Art of transaction=Transport<br>Month=%{x}<br>Amount in \\u20ac=%{text}<extra></extra>\",\"legendgroup\":\"Transport\",\"marker\":{\"color\":\"#FF97FF\",\"pattern\":{\"shape\":\"\"}},\"name\":\"Transport\",\"offsetgroup\":\"Transport\",\"orientation\":\"v\",\"showlegend\":true,\"text\":[5.0,0.0,0.0,0.0,166.0,100.0],\"textposition\":\"inside\",\"x\":[\"January\",\"February\",\"March\",\"April\",\"May\",\"June\"],\"xaxis\":\"x\",\"y\":[5.0,0.0,0.0,0.0,166.0,100.0],\"yaxis\":\"y\",\"type\":\"bar\",\"insidetextanchor\":\"middle\"}],                        {\"template\":{\"data\":{\"histogram2dcontour\":[{\"type\":\"histogram2dcontour\",\"colorbar\":{\"outlinewidth\":0,\"ticks\":\"\"},\"colorscale\":[[0.0,\"#0d0887\"],[0.1111111111111111,\"#46039f\"],[0.2222222222222222,\"#7201a8\"],[0.3333333333333333,\"#9c179e\"],[0.4444444444444444,\"#bd3786\"],[0.5555555555555556,\"#d8576b\"],[0.6666666666666666,\"#ed7953\"],[0.7777777777777778,\"#fb9f3a\"],[0.8888888888888888,\"#fdca26\"],[1.0,\"#f0f921\"]]}],\"choropleth\":[{\"type\":\"choropleth\",\"colorbar\":{\"outlinewidth\":0,\"ticks\":\"\"}}],\"histogram2d\":[{\"type\":\"histogram2d\",\"colorbar\":{\"outlinewidth\":0,\"ticks\":\"\"},\"colorscale\":[[0.0,\"#0d0887\"],[0.1111111111111111,\"#46039f\"],[0.2222222222222222,\"#7201a8\"],[0.3333333333333333,\"#9c179e\"],[0.4444444444444444,\"#bd3786\"],[0.5555555555555556,\"#d8576b\"],[0.6666666666666666,\"#ed7953\"],[0.7777777777777778,\"#fb9f3a\"],[0.8888888888888888,\"#fdca26\"],[1.0,\"#f0f921\"]]}],\"heatmap\":[{\"type\":\"heatmap\",\"colorbar\":{\"outlinewidth\":0,\"ticks\":\"\"},\"colorscale\":[[0.0,\"#0d0887\"],[0.1111111111111111,\"#46039f\"],[0.2222222222222222,\"#7201a8\"],[0.3333333333333333,\"#9c179e\"],[0.4444444444444444,\"#bd3786\"],[0.5555555555555556,\"#d8576b\"],[0.6666666666666666,\"#ed7953\"],[0.7777777777777778,\"#fb9f3a\"],[0.8888888888888888,\"#fdca26\"],[1.0,\"#f0f921\"]]}],\"heatmapgl\":[{\"type\":\"heatmapgl\",\"colorbar\":{\"outlinewidth\":0,\"ticks\":\"\"},\"colorscale\":[[0.0,\"#0d0887\"],[0.1111111111111111,\"#46039f\"],[0.2222222222222222,\"#7201a8\"],[0.3333333333333333,\"#9c179e\"],[0.4444444444444444,\"#bd3786\"],[0.5555555555555556,\"#d8576b\"],[0.6666666666666666,\"#ed7953\"],[0.7777777777777778,\"#fb9f3a\"],[0.8888888888888888,\"#fdca26\"],[1.0,\"#f0f921\"]]}],\"contourcarpet\":[{\"type\":\"contourcarpet\",\"colorbar\":{\"outlinewidth\":0,\"ticks\":\"\"}}],\"contour\":[{\"type\":\"contour\",\"colorbar\":{\"outlinewidth\":0,\"ticks\":\"\"},\"colorscale\":[[0.0,\"#0d0887\"],[0.1111111111111111,\"#46039f\"],[0.2222222222222222,\"#7201a8\"],[0.3333333333333333,\"#9c179e\"],[0.4444444444444444,\"#bd3786\"],[0.5555555555555556,\"#d8576b\"],[0.6666666666666666,\"#ed7953\"],[0.7777777777777778,\"#fb9f3a\"],[0.8888888888888888,\"#fdca26\"],[1.0,\"#f0f921\"]]}],\"surface\":[{\"type\":\"surface\",\"colorbar\":{\"outlinewidth\":0,\"ticks\":\"\"},\"colorscale\":[[0.0,\"#0d0887\"],[0.1111111111111111,\"#46039f\"],[0.2222222222222222,\"#7201a8\"],[0.3333333333333333,\"#9c179e\"],[0.4444444444444444,\"#bd3786\"],[0.5555555555555556,\"#d8576b\"],[0.6666666666666666,\"#ed7953\"],[0.7777777777777778,\"#fb9f3a\"],[0.8888888888888888,\"#fdca26\"],[1.0,\"#f0f921\"]]}],\"mesh3d\":[{\"type\":\"mesh3d\",\"colorbar\":{\"outlinewidth\":0,\"ticks\":\"\"}}],\"scatter\":[{\"fillpattern\":{\"fillmode\":\"overlay\",\"size\":10,\"solidity\":0.2},\"type\":\"scatter\"}],\"parcoords\":[{\"type\":\"parcoords\",\"line\":{\"colorbar\":{\"outlinewidth\":0,\"ticks\":\"\"}}}],\"scatterpolargl\":[{\"type\":\"scatterpolargl\",\"marker\":{\"colorbar\":{\"outlinewidth\":0,\"ticks\":\"\"}}}],\"bar\":[{\"error_x\":{\"color\":\"#2a3f5f\"},\"error_y\":{\"color\":\"#2a3f5f\"},\"marker\":{\"line\":{\"color\":\"#E5ECF6\",\"width\":0.5},\"pattern\":{\"fillmode\":\"overlay\",\"size\":10,\"solidity\":0.2}},\"type\":\"bar\"}],\"scattergeo\":[{\"type\":\"scattergeo\",\"marker\":{\"colorbar\":{\"outlinewidth\":0,\"ticks\":\"\"}}}],\"scatterpolar\":[{\"type\":\"scatterpolar\",\"marker\":{\"colorbar\":{\"outlinewidth\":0,\"ticks\":\"\"}}}],\"histogram\":[{\"marker\":{\"pattern\":{\"fillmode\":\"overlay\",\"size\":10,\"solidity\":0.2}},\"type\":\"histogram\"}],\"scattergl\":[{\"type\":\"scattergl\",\"marker\":{\"colorbar\":{\"outlinewidth\":0,\"ticks\":\"\"}}}],\"scatter3d\":[{\"type\":\"scatter3d\",\"line\":{\"colorbar\":{\"outlinewidth\":0,\"ticks\":\"\"}},\"marker\":{\"colorbar\":{\"outlinewidth\":0,\"ticks\":\"\"}}}],\"scattermapbox\":[{\"type\":\"scattermapbox\",\"marker\":{\"colorbar\":{\"outlinewidth\":0,\"ticks\":\"\"}}}],\"scatterternary\":[{\"type\":\"scatterternary\",\"marker\":{\"colorbar\":{\"outlinewidth\":0,\"ticks\":\"\"}}}],\"scattercarpet\":[{\"type\":\"scattercarpet\",\"marker\":{\"colorbar\":{\"outlinewidth\":0,\"ticks\":\"\"}}}],\"carpet\":[{\"aaxis\":{\"endlinecolor\":\"#2a3f5f\",\"gridcolor\":\"white\",\"linecolor\":\"white\",\"minorgridcolor\":\"white\",\"startlinecolor\":\"#2a3f5f\"},\"baxis\":{\"endlinecolor\":\"#2a3f5f\",\"gridcolor\":\"white\",\"linecolor\":\"white\",\"minorgridcolor\":\"white\",\"startlinecolor\":\"#2a3f5f\"},\"type\":\"carpet\"}],\"table\":[{\"cells\":{\"fill\":{\"color\":\"#EBF0F8\"},\"line\":{\"color\":\"white\"}},\"header\":{\"fill\":{\"color\":\"#C8D4E3\"},\"line\":{\"color\":\"white\"}},\"type\":\"table\"}],\"barpolar\":[{\"marker\":{\"line\":{\"color\":\"#E5ECF6\",\"width\":0.5},\"pattern\":{\"fillmode\":\"overlay\",\"size\":10,\"solidity\":0.2}},\"type\":\"barpolar\"}],\"pie\":[{\"automargin\":true,\"type\":\"pie\"}]},\"layout\":{\"autotypenumbers\":\"strict\",\"colorway\":[\"#636efa\",\"#EF553B\",\"#00cc96\",\"#ab63fa\",\"#FFA15A\",\"#19d3f3\",\"#FF6692\",\"#B6E880\",\"#FF97FF\",\"#FECB52\"],\"font\":{\"color\":\"#2a3f5f\"},\"hovermode\":\"closest\",\"hoverlabel\":{\"align\":\"left\"},\"paper_bgcolor\":\"white\",\"plot_bgcolor\":\"#E5ECF6\",\"polar\":{\"bgcolor\":\"#E5ECF6\",\"angularaxis\":{\"gridcolor\":\"white\",\"linecolor\":\"white\",\"ticks\":\"\"},\"radialaxis\":{\"gridcolor\":\"white\",\"linecolor\":\"white\",\"ticks\":\"\"}},\"ternary\":{\"bgcolor\":\"#E5ECF6\",\"aaxis\":{\"gridcolor\":\"white\",\"linecolor\":\"white\",\"ticks\":\"\"},\"baxis\":{\"gridcolor\":\"white\",\"linecolor\":\"white\",\"ticks\":\"\"},\"caxis\":{\"gridcolor\":\"white\",\"linecolor\":\"white\",\"ticks\":\"\"}},\"coloraxis\":{\"colorbar\":{\"outlinewidth\":0,\"ticks\":\"\"}},\"colorscale\":{\"sequential\":[[0.0,\"#0d0887\"],[0.1111111111111111,\"#46039f\"],[0.2222222222222222,\"#7201a8\"],[0.3333333333333333,\"#9c179e\"],[0.4444444444444444,\"#bd3786\"],[0.5555555555555556,\"#d8576b\"],[0.6666666666666666,\"#ed7953\"],[0.7777777777777778,\"#fb9f3a\"],[0.8888888888888888,\"#fdca26\"],[1.0,\"#f0f921\"]],\"sequentialminus\":[[0.0,\"#0d0887\"],[0.1111111111111111,\"#46039f\"],[0.2222222222222222,\"#7201a8\"],[0.3333333333333333,\"#9c179e\"],[0.4444444444444444,\"#bd3786\"],[0.5555555555555556,\"#d8576b\"],[0.6666666666666666,\"#ed7953\"],[0.7777777777777778,\"#fb9f3a\"],[0.8888888888888888,\"#fdca26\"],[1.0,\"#f0f921\"]],\"diverging\":[[0,\"#8e0152\"],[0.1,\"#c51b7d\"],[0.2,\"#de77ae\"],[0.3,\"#f1b6da\"],[0.4,\"#fde0ef\"],[0.5,\"#f7f7f7\"],[0.6,\"#e6f5d0\"],[0.7,\"#b8e186\"],[0.8,\"#7fbc41\"],[0.9,\"#4d9221\"],[1,\"#276419\"]]},\"xaxis\":{\"gridcolor\":\"white\",\"linecolor\":\"white\",\"ticks\":\"\",\"title\":{\"standoff\":15},\"zerolinecolor\":\"white\",\"automargin\":true,\"zerolinewidth\":2},\"yaxis\":{\"gridcolor\":\"white\",\"linecolor\":\"white\",\"ticks\":\"\",\"title\":{\"standoff\":15},\"zerolinecolor\":\"white\",\"automargin\":true,\"zerolinewidth\":2},\"scene\":{\"xaxis\":{\"backgroundcolor\":\"#E5ECF6\",\"gridcolor\":\"white\",\"linecolor\":\"white\",\"showbackground\":true,\"ticks\":\"\",\"zerolinecolor\":\"white\",\"gridwidth\":2},\"yaxis\":{\"backgroundcolor\":\"#E5ECF6\",\"gridcolor\":\"white\",\"linecolor\":\"white\",\"showbackground\":true,\"ticks\":\"\",\"zerolinecolor\":\"white\",\"gridwidth\":2},\"zaxis\":{\"backgroundcolor\":\"#E5ECF6\",\"gridcolor\":\"white\",\"linecolor\":\"white\",\"showbackground\":true,\"ticks\":\"\",\"zerolinecolor\":\"white\",\"gridwidth\":2}},\"shapedefaults\":{\"line\":{\"color\":\"#2a3f5f\"}},\"annotationdefaults\":{\"arrowcolor\":\"#2a3f5f\",\"arrowhead\":0,\"arrowwidth\":1},\"geo\":{\"bgcolor\":\"white\",\"landcolor\":\"#E5ECF6\",\"subunitcolor\":\"white\",\"showland\":true,\"showlakes\":true,\"lakecolor\":\"white\"},\"title\":{\"x\":0.05},\"mapbox\":{\"style\":\"light\"}}},\"xaxis\":{\"anchor\":\"y\",\"domain\":[0.0,1.0],\"title\":{\"text\":\"Month\"}},\"yaxis\":{\"anchor\":\"x\",\"domain\":[0.0,1.0],\"title\":{\"text\":\"Amount in \\u20ac\"},\"showgrid\":true},\"legend\":{\"title\":{\"text\":\"Art of transaction\"},\"tracegroupgap\":0},\"title\":{\"text\":\"Monthly distribution of the Amount of spent Money\",\"font\":{\"size\":20,\"family\":\"Arial Black\"},\"x\":0.08},\"barmode\":\"group\",\"height\":700,\"width\":900,\"font\":{\"size\":15},\"showlegend\":true},                        {\"responsive\": true}                    ).then(function(){\n",
       "                            \n",
       "var gd = document.getElementById('e363608a-0db8-46e1-9bfe-f41c8e6fb82b');\n",
       "var x = new MutationObserver(function (mutations, observer) {{\n",
       "        var display = window.getComputedStyle(gd).display;\n",
       "        if (!display || display === 'none') {{\n",
       "            console.log([gd, 'removed!']);\n",
       "            Plotly.purge(gd);\n",
       "            observer.disconnect();\n",
       "        }}\n",
       "}});\n",
       "\n",
       "// Listen for the removal of the full notebook cells\n",
       "var notebookContainer = gd.closest('#notebook-container');\n",
       "if (notebookContainer) {{\n",
       "    x.observe(notebookContainer, {childList: true});\n",
       "}}\n",
       "\n",
       "// Listen for the clearing of the current output cell\n",
       "var outputEl = gd.closest('.output');\n",
       "if (outputEl) {{\n",
       "    x.observe(outputEl, {childList: true});\n",
       "}}\n",
       "\n",
       "                        })                };                });            </script>        </div>"
      ]
     },
     "metadata": {},
     "output_type": "display_data"
    }
   ],
   "source": [
    "title=\"Monthly distribution of the Amount of spent Money\"\n",
    "fig = px.bar(DataMonthly, \n",
    "             height=700,\n",
    "             width=900,\n",
    "             text=\"value\",\n",
    "             barmode=\"group\",\n",
    "              title=title,\n",
    "             labels=dict({\"value\": \"Amount in €\", \"variable\": \"Art of transaction\"})\n",
    "            )\n",
    "fig.update_yaxes(showgrid=False)\n",
    "\n",
    "\n",
    "\n",
    "'''ADD CHART TITLE AND TITLE FONT SIZE'''\n",
    "fig.update_layout(title_font_size=20,font_size=15,showlegend=True,title_font_family=\"Arial Black\",title_x=0.08)\n",
    "fig.update_yaxes(showgrid=True)\n",
    "\n",
    "#add the Value of each Figure with a nice positioning\n",
    "fig.update_traces(textposition=\"inside\",insidetextanchor=\"middle\")\n",
    "\n",
    "#save the file \n",
    "fig.write_html(\"Charts\\Monthly_distribution_of_the_Amount_of_spent_Money.html\")\n",
    "\n",
    "\n",
    "fig.show()"
   ]
  },
  {
   "attachments": {
    "newplot%20%2854%29.png": {
     "image/png": "[encoded data removed]"
    }
   },
   "cell_type": "markdown",
   "metadata": {},
   "source": [
    "![newplot%20%2854%29.png](attachment:newplot%20%2854%29.png)"
   ]
  },
  {
   "cell_type": "markdown",
   "metadata": {},
   "source": [
    "- Tip 1 : check others of june to know where the big amount of money went.\n",
    "- Tip 2 : delete the variables that has the same value eachmonth (Rent-Subscriptions. etc)\n",
    "- Tip 3 : do some special comparesions"
   ]
  },
  {
   "cell_type": "code",
   "execution_count": 103,
   "metadata": {},
   "outputs": [],
   "source": [
    "DataMonthly.drop(['Others',\"Rent\",\"Health Insurance\",\"Subscriptions\",\"ATM Withdraw\"],inplace=True, axis=1)"
   ]
  },
  {
   "cell_type": "code",
   "execution_count": 106,
   "metadata": {},
   "outputs": [
    {
     "data": {
      "application/vnd.plotly.v1+json": {
       "config": {
        "plotlyServerURL": "https://plot.ly"
       },
       "data": [
        {
         "alignmentgroup": "True",
         "hovertemplate": "Art of transaction=Clothing<br>Month=%{x}<br>Amount in €=%{text}<extra></extra>",
         "insidetextanchor": "middle",
         "legendgroup": "Clothing",
         "marker": {
          "color": "#003f5c",
          "pattern": {
           "shape": ""
          }
         },
         "name": "Clothing",
         "offsetgroup": "Clothing",
         "orientation": "v",
         "showlegend": true,
         "text": [
          0,
          55,
          0,
          0,
          30,
          360
         ],
         "textposition": "inside",
         "type": "bar",
         "x": [
          "January",
          "February",
          "March",
          "April",
          "May",
          "June"
         ],
         "xaxis": "x",
         "y": [
          0,
          55,
          0,
          0,
          30,
          360
         ],
         "yaxis": "y"
        },
        {
         "alignmentgroup": "True",
         "hovertemplate": "Art of transaction=Groceries<br>Month=%{x}<br>Amount in €=%{text}<extra></extra>",
         "insidetextanchor": "middle",
         "legendgroup": "Groceries",
         "marker": {
          "color": "#7a5195",
          "pattern": {
           "shape": ""
          }
         },
         "name": "Groceries",
         "offsetgroup": "Groceries",
         "orientation": "v",
         "showlegend": true,
         "text": [
          133,
          159,
          57,
          170,
          122,
          181
         ],
         "textposition": "inside",
         "type": "bar",
         "x": [
          "January",
          "February",
          "March",
          "April",
          "May",
          "June"
         ],
         "xaxis": "x",
         "y": [
          133,
          159,
          57,
          170,
          122,
          181
         ],
         "yaxis": "y"
        },
        {
         "alignmentgroup": "True",
         "hovertemplate": "Art of transaction=Restaurants and Delivery<br>Month=%{x}<br>Amount in €=%{text}<extra></extra>",
         "insidetextanchor": "middle",
         "legendgroup": "Restaurants and Delivery",
         "marker": {
          "color": "#ef5675",
          "pattern": {
           "shape": ""
          }
         },
         "name": "Restaurants and Delivery",
         "offsetgroup": "Restaurants and Delivery",
         "orientation": "v",
         "showlegend": true,
         "text": [
          82,
          22,
          66,
          23,
          32,
          214
         ],
         "textposition": "inside",
         "type": "bar",
         "x": [
          "January",
          "February",
          "March",
          "April",
          "May",
          "June"
         ],
         "xaxis": "x",
         "y": [
          82,
          22,
          66,
          23,
          32,
          214
         ],
         "yaxis": "y"
        },
        {
         "alignmentgroup": "True",
         "hovertemplate": "Art of transaction=Transport<br>Month=%{x}<br>Amount in €=%{text}<extra></extra>",
         "insidetextanchor": "middle",
         "legendgroup": "Transport",
         "marker": {
          "color": "#ffa600",
          "pattern": {
           "shape": ""
          }
         },
         "name": "Transport",
         "offsetgroup": "Transport",
         "orientation": "v",
         "showlegend": true,
         "text": [
          5,
          0,
          0,
          0,
          166,
          100
         ],
         "textposition": "inside",
         "type": "bar",
         "x": [
          "January",
          "February",
          "March",
          "April",
          "May",
          "June"
         ],
         "xaxis": "x",
         "y": [
          5,
          0,
          0,
          0,
          166,
          100
         ],
         "yaxis": "y"
        }
       ],
       "layout": {
        "barmode": "group",
        "font": {
         "size": 15
        },
        "height": 700,
        "legend": {
         "title": {
          "text": "Art of transaction"
         },
         "tracegroupgap": 0
        },
        "showlegend": true,
        "template": {
         "data": {
          "bar": [
           {
            "error_x": {
             "color": "rgb(36,36,36)"
            },
            "error_y": {
             "color": "rgb(36,36,36)"
            },
            "marker": {
             "line": {
              "color": "white",
              "width": 0.5
             },
             "pattern": {
              "fillmode": "overlay",
              "size": 10,
              "solidity": 0.2
             }
            },
            "type": "bar"
           }
          ],
          "barpolar": [
           {
            "marker": {
             "line": {
              "color": "white",
              "width": 0.5
             },
             "pattern": {
              "fillmode": "overlay",
              "size": 10,
              "solidity": 0.2
             }
            },
            "type": "barpolar"
           }
          ],
          "carpet": [
           {
            "aaxis": {
             "endlinecolor": "rgb(36,36,36)",
             "gridcolor": "white",
             "linecolor": "white",
             "minorgridcolor": "white",
             "startlinecolor": "rgb(36,36,36)"
            },
            "baxis": {
             "endlinecolor": "rgb(36,36,36)",
             "gridcolor": "white",
             "linecolor": "white",
             "minorgridcolor": "white",
             "startlinecolor": "rgb(36,36,36)"
            },
            "type": "carpet"
           }
          ],
          "choropleth": [
           {
            "colorbar": {
             "outlinewidth": 1,
             "tickcolor": "rgb(36,36,36)",
             "ticks": "outside"
            },
            "type": "choropleth"
           }
          ],
          "contour": [
           {
            "colorbar": {
             "outlinewidth": 1,
             "tickcolor": "rgb(36,36,36)",
             "ticks": "outside"
            },
            "colorscale": [
             [
              0,
              "#440154"
             ],
             [
              0.1111111111111111,
              "#482878"
             ],
             [
              0.2222222222222222,
              "#3e4989"
             ],
             [
              0.3333333333333333,
              "#31688e"
             ],
             [
              0.4444444444444444,
              "#26828e"
             ],
             [
              0.5555555555555556,
              "#1f9e89"
             ],
             [
              0.6666666666666666,
              "#35b779"
             ],
             [
              0.7777777777777778,
              "#6ece58"
             ],
             [
              0.8888888888888888,
              "#b5de2b"
             ],
             [
              1,
              "#fde725"
             ]
            ],
            "type": "contour"
           }
          ],
          "contourcarpet": [
           {
            "colorbar": {
             "outlinewidth": 1,
             "tickcolor": "rgb(36,36,36)",
             "ticks": "outside"
            },
            "type": "contourcarpet"
           }
          ],
          "heatmap": [
           {
            "colorbar": {
             "outlinewidth": 1,
             "tickcolor": "rgb(36,36,36)",
             "ticks": "outside"
            },
            "colorscale": [
             [
              0,
              "#440154"
             ],
             [
              0.1111111111111111,
              "#482878"
             ],
             [
              0.2222222222222222,
              "#3e4989"
             ],
             [
              0.3333333333333333,
              "#31688e"
             ],
             [
              0.4444444444444444,
              "#26828e"
             ],
             [
              0.5555555555555556,
              "#1f9e89"
             ],
             [
              0.6666666666666666,
              "#35b779"
             ],
             [
              0.7777777777777778,
              "#6ece58"
             ],
             [
              0.8888888888888888,
              "#b5de2b"
             ],
             [
              1,
              "#fde725"
             ]
            ],
            "type": "heatmap"
           }
          ],
          "heatmapgl": [
           {
            "colorbar": {
             "outlinewidth": 1,
             "tickcolor": "rgb(36,36,36)",
             "ticks": "outside"
            },
            "colorscale": [
             [
              0,
              "#440154"
             ],
             [
              0.1111111111111111,
              "#482878"
             ],
             [
              0.2222222222222222,
              "#3e4989"
             ],
             [
              0.3333333333333333,
              "#31688e"
             ],
             [
              0.4444444444444444,
              "#26828e"
             ],
             [
              0.5555555555555556,
              "#1f9e89"
             ],
             [
              0.6666666666666666,
              "#35b779"
             ],
             [
              0.7777777777777778,
              "#6ece58"
             ],
             [
              0.8888888888888888,
              "#b5de2b"
             ],
             [
              1,
              "#fde725"
             ]
            ],
            "type": "heatmapgl"
           }
          ],
          "histogram": [
           {
            "marker": {
             "line": {
              "color": "white",
              "width": 0.6
             }
            },
            "type": "histogram"
           }
          ],
          "histogram2d": [
           {
            "colorbar": {
             "outlinewidth": 1,
             "tickcolor": "rgb(36,36,36)",
             "ticks": "outside"
            },
            "colorscale": [
             [
              0,
              "#440154"
             ],
             [
              0.1111111111111111,
              "#482878"
             ],
             [
              0.2222222222222222,
              "#3e4989"
             ],
             [
              0.3333333333333333,
              "#31688e"
             ],
             [
              0.4444444444444444,
              "#26828e"
             ],
             [
              0.5555555555555556,
              "#1f9e89"
             ],
             [
              0.6666666666666666,
              "#35b779"
             ],
             [
              0.7777777777777778,
              "#6ece58"
             ],
             [
              0.8888888888888888,
              "#b5de2b"
             ],
             [
              1,
              "#fde725"
             ]
            ],
            "type": "histogram2d"
           }
          ],
          "histogram2dcontour": [
           {
            "colorbar": {
             "outlinewidth": 1,
             "tickcolor": "rgb(36,36,36)",
             "ticks": "outside"
            },
            "colorscale": [
             [
              0,
              "#440154"
             ],
             [
              0.1111111111111111,
              "#482878"
             ],
             [
              0.2222222222222222,
              "#3e4989"
             ],
             [
              0.3333333333333333,
              "#31688e"
             ],
             [
              0.4444444444444444,
              "#26828e"
             ],
             [
              0.5555555555555556,
              "#1f9e89"
             ],
             [
              0.6666666666666666,
              "#35b779"
             ],
             [
              0.7777777777777778,
              "#6ece58"
             ],
             [
              0.8888888888888888,
              "#b5de2b"
             ],
             [
              1,
              "#fde725"
             ]
            ],
            "type": "histogram2dcontour"
           }
          ],
          "mesh3d": [
           {
            "colorbar": {
             "outlinewidth": 1,
             "tickcolor": "rgb(36,36,36)",
             "ticks": "outside"
            },
            "type": "mesh3d"
           }
          ],
          "parcoords": [
           {
            "line": {
             "colorbar": {
              "outlinewidth": 1,
              "tickcolor": "rgb(36,36,36)",
              "ticks": "outside"
             }
            },
            "type": "parcoords"
           }
          ],
          "pie": [
           {
            "automargin": true,
            "type": "pie"
           }
          ],
          "scatter": [
           {
            "fillpattern": {
             "fillmode": "overlay",
             "size": 10,
             "solidity": 0.2
            },
            "type": "scatter"
           }
          ],
          "scatter3d": [
           {
            "line": {
             "colorbar": {
              "outlinewidth": 1,
              "tickcolor": "rgb(36,36,36)",
              "ticks": "outside"
             }
            },
            "marker": {
             "colorbar": {
              "outlinewidth": 1,
              "tickcolor": "rgb(36,36,36)",
              "ticks": "outside"
             }
            },
            "type": "scatter3d"
           }
          ],
          "scattercarpet": [
           {
            "marker": {
             "colorbar": {
              "outlinewidth": 1,
              "tickcolor": "rgb(36,36,36)",
              "ticks": "outside"
             }
            },
            "type": "scattercarpet"
           }
          ],
          "scattergeo": [
           {
            "marker": {
             "colorbar": {
              "outlinewidth": 1,
              "tickcolor": "rgb(36,36,36)",
              "ticks": "outside"
             }
            },
            "type": "scattergeo"
           }
          ],
          "scattergl": [
           {
            "marker": {
             "colorbar": {
              "outlinewidth": 1,
              "tickcolor": "rgb(36,36,36)",
              "ticks": "outside"
             }
            },
            "type": "scattergl"
           }
          ],
          "scattermapbox": [
           {
            "marker": {
             "colorbar": {
              "outlinewidth": 1,
              "tickcolor": "rgb(36,36,36)",
              "ticks": "outside"
             }
            },
            "type": "scattermapbox"
           }
          ],
          "scatterpolar": [
           {
            "marker": {
             "colorbar": {
              "outlinewidth": 1,
              "tickcolor": "rgb(36,36,36)",
              "ticks": "outside"
             }
            },
            "type": "scatterpolar"
           }
          ],
          "scatterpolargl": [
           {
            "marker": {
             "colorbar": {
              "outlinewidth": 1,
              "tickcolor": "rgb(36,36,36)",
              "ticks": "outside"
             }
            },
            "type": "scatterpolargl"
           }
          ],
          "scatterternary": [
           {
            "marker": {
             "colorbar": {
              "outlinewidth": 1,
              "tickcolor": "rgb(36,36,36)",
              "ticks": "outside"
             }
            },
            "type": "scatterternary"
           }
          ],
          "surface": [
           {
            "colorbar": {
             "outlinewidth": 1,
             "tickcolor": "rgb(36,36,36)",
             "ticks": "outside"
            },
            "colorscale": [
             [
              0,
              "#440154"
             ],
             [
              0.1111111111111111,
              "#482878"
             ],
             [
              0.2222222222222222,
              "#3e4989"
             ],
             [
              0.3333333333333333,
              "#31688e"
             ],
             [
              0.4444444444444444,
              "#26828e"
             ],
             [
              0.5555555555555556,
              "#1f9e89"
             ],
             [
              0.6666666666666666,
              "#35b779"
             ],
             [
              0.7777777777777778,
              "#6ece58"
             ],
             [
              0.8888888888888888,
              "#b5de2b"
             ],
             [
              1,
              "#fde725"
             ]
            ],
            "type": "surface"
           }
          ],
          "table": [
           {
            "cells": {
             "fill": {
              "color": "rgb(237,237,237)"
             },
             "line": {
              "color": "white"
             }
            },
            "header": {
             "fill": {
              "color": "rgb(217,217,217)"
             },
             "line": {
              "color": "white"
             }
            },
            "type": "table"
           }
          ]
         },
         "layout": {
          "annotationdefaults": {
           "arrowhead": 0,
           "arrowwidth": 1
          },
          "autotypenumbers": "strict",
          "coloraxis": {
           "colorbar": {
            "outlinewidth": 1,
            "tickcolor": "rgb(36,36,36)",
            "ticks": "outside"
           }
          },
          "colorscale": {
           "diverging": [
            [
             0,
             "rgb(103,0,31)"
            ],
            [
             0.1,
             "rgb(178,24,43)"
            ],
            [
             0.2,
             "rgb(214,96,77)"
            ],
            [
             0.3,
             "rgb(244,165,130)"
            ],
            [
             0.4,
             "rgb(253,219,199)"
            ],
            [
             0.5,
             "rgb(247,247,247)"
            ],
            [
             0.6,
             "rgb(209,229,240)"
            ],
            [
             0.7,
             "rgb(146,197,222)"
            ],
            [
             0.8,
             "rgb(67,147,195)"
            ],
            [
             0.9,
             "rgb(33,102,172)"
            ],
            [
             1,
             "rgb(5,48,97)"
            ]
           ],
           "sequential": [
            [
             0,
             "#440154"
            ],
            [
             0.1111111111111111,
             "#482878"
            ],
            [
             0.2222222222222222,
             "#3e4989"
            ],
            [
             0.3333333333333333,
             "#31688e"
            ],
            [
             0.4444444444444444,
             "#26828e"
            ],
            [
             0.5555555555555556,
             "#1f9e89"
            ],
            [
             0.6666666666666666,
             "#35b779"
            ],
            [
             0.7777777777777778,
             "#6ece58"
            ],
            [
             0.8888888888888888,
             "#b5de2b"
            ],
            [
             1,
             "#fde725"
            ]
           ],
           "sequentialminus": [
            [
             0,
             "#440154"
            ],
            [
             0.1111111111111111,
             "#482878"
            ],
            [
             0.2222222222222222,
             "#3e4989"
            ],
            [
             0.3333333333333333,
             "#31688e"
            ],
            [
             0.4444444444444444,
             "#26828e"
            ],
            [
             0.5555555555555556,
             "#1f9e89"
            ],
            [
             0.6666666666666666,
             "#35b779"
            ],
            [
             0.7777777777777778,
             "#6ece58"
            ],
            [
             0.8888888888888888,
             "#b5de2b"
            ],
            [
             1,
             "#fde725"
            ]
           ]
          },
          "colorway": [
           "#1F77B4",
           "#FF7F0E",
           "#2CA02C",
           "#D62728",
           "#9467BD",
           "#8C564B",
           "#E377C2",
           "#7F7F7F",
           "#BCBD22",
           "#17BECF"
          ],
          "font": {
           "color": "rgb(36,36,36)"
          },
          "geo": {
           "bgcolor": "white",
           "lakecolor": "white",
           "landcolor": "white",
           "showlakes": true,
           "showland": true,
           "subunitcolor": "white"
          },
          "hoverlabel": {
           "align": "left"
          },
          "hovermode": "closest",
          "mapbox": {
           "style": "light"
          },
          "paper_bgcolor": "white",
          "plot_bgcolor": "white",
          "polar": {
           "angularaxis": {
            "gridcolor": "rgb(232,232,232)",
            "linecolor": "rgb(36,36,36)",
            "showgrid": false,
            "showline": true,
            "ticks": "outside"
           },
           "bgcolor": "white",
           "radialaxis": {
            "gridcolor": "rgb(232,232,232)",
            "linecolor": "rgb(36,36,36)",
            "showgrid": false,
            "showline": true,
            "ticks": "outside"
           }
          },
          "scene": {
           "xaxis": {
            "backgroundcolor": "white",
            "gridcolor": "rgb(232,232,232)",
            "gridwidth": 2,
            "linecolor": "rgb(36,36,36)",
            "showbackground": true,
            "showgrid": false,
            "showline": true,
            "ticks": "outside",
            "zeroline": false,
            "zerolinecolor": "rgb(36,36,36)"
           },
           "yaxis": {
            "backgroundcolor": "white",
            "gridcolor": "rgb(232,232,232)",
            "gridwidth": 2,
            "linecolor": "rgb(36,36,36)",
            "showbackground": true,
            "showgrid": false,
            "showline": true,
            "ticks": "outside",
            "zeroline": false,
            "zerolinecolor": "rgb(36,36,36)"
           },
           "zaxis": {
            "backgroundcolor": "white",
            "gridcolor": "rgb(232,232,232)",
            "gridwidth": 2,
            "linecolor": "rgb(36,36,36)",
            "showbackground": true,
            "showgrid": false,
            "showline": true,
            "ticks": "outside",
            "zeroline": false,
            "zerolinecolor": "rgb(36,36,36)"
           }
          },
          "shapedefaults": {
           "fillcolor": "black",
           "line": {
            "width": 0
           },
           "opacity": 0.3
          },
          "ternary": {
           "aaxis": {
            "gridcolor": "rgb(232,232,232)",
            "linecolor": "rgb(36,36,36)",
            "showgrid": false,
            "showline": true,
            "ticks": "outside"
           },
           "baxis": {
            "gridcolor": "rgb(232,232,232)",
            "linecolor": "rgb(36,36,36)",
            "showgrid": false,
            "showline": true,
            "ticks": "outside"
           },
           "bgcolor": "white",
           "caxis": {
            "gridcolor": "rgb(232,232,232)",
            "linecolor": "rgb(36,36,36)",
            "showgrid": false,
            "showline": true,
            "ticks": "outside"
           }
          },
          "title": {
           "x": 0.05
          },
          "xaxis": {
           "automargin": true,
           "gridcolor": "rgb(232,232,232)",
           "linecolor": "rgb(36,36,36)",
           "showgrid": false,
           "showline": true,
           "ticks": "outside",
           "title": {
            "standoff": 15
           },
           "zeroline": false,
           "zerolinecolor": "rgb(36,36,36)"
          },
          "yaxis": {
           "automargin": true,
           "gridcolor": "rgb(232,232,232)",
           "linecolor": "rgb(36,36,36)",
           "showgrid": false,
           "showline": true,
           "ticks": "outside",
           "title": {
            "standoff": 15
           },
           "zeroline": false,
           "zerolinecolor": "rgb(36,36,36)"
          }
         }
        },
        "title": {
         "font": {
          "family": "Arial Black",
          "size": 20
         },
         "text": "Monthly distribution of the Amount of spent Money",
         "x": 0.08
        },
        "width": 900,
        "xaxis": {
         "anchor": "y",
         "domain": [
          0,
          1
         ],
         "title": {
          "text": "Month"
         }
        },
        "yaxis": {
         "anchor": "x",
         "domain": [
          0,
          1
         ],
         "showgrid": true,
         "title": {
          "text": "Amount in €"
         }
        }
       }
      },
      "text/html": [
       "<div>                            <div id=\"58cb8de4-8b07-43be-8e8f-f9599621035e\" class=\"plotly-graph-div\" style=\"height:700px; width:900px;\"></div>            <script type=\"text/javascript\">                require([\"plotly\"], function(Plotly) {                    window.PLOTLYENV=window.PLOTLYENV || {};                                    if (document.getElementById(\"58cb8de4-8b07-43be-8e8f-f9599621035e\")) {                    Plotly.newPlot(                        \"58cb8de4-8b07-43be-8e8f-f9599621035e\",                        [{\"alignmentgroup\":\"True\",\"hovertemplate\":\"Art of transaction=Clothing<br>Month=%{x}<br>Amount in \\u20ac=%{text}<extra></extra>\",\"legendgroup\":\"Clothing\",\"marker\":{\"color\":\"#003f5c\",\"pattern\":{\"shape\":\"\"}},\"name\":\"Clothing\",\"offsetgroup\":\"Clothing\",\"orientation\":\"v\",\"showlegend\":true,\"text\":[0.0,55.0,0.0,0.0,30.0,360.0],\"textposition\":\"inside\",\"x\":[\"January\",\"February\",\"March\",\"April\",\"May\",\"June\"],\"xaxis\":\"x\",\"y\":[0.0,55.0,0.0,0.0,30.0,360.0],\"yaxis\":\"y\",\"type\":\"bar\",\"insidetextanchor\":\"middle\"},{\"alignmentgroup\":\"True\",\"hovertemplate\":\"Art of transaction=Groceries<br>Month=%{x}<br>Amount in \\u20ac=%{text}<extra></extra>\",\"legendgroup\":\"Groceries\",\"marker\":{\"color\":\"#7a5195\",\"pattern\":{\"shape\":\"\"}},\"name\":\"Groceries\",\"offsetgroup\":\"Groceries\",\"orientation\":\"v\",\"showlegend\":true,\"text\":[133.0,159.0,57.0,170.0,122.0,181.0],\"textposition\":\"inside\",\"x\":[\"January\",\"February\",\"March\",\"April\",\"May\",\"June\"],\"xaxis\":\"x\",\"y\":[133.0,159.0,57.0,170.0,122.0,181.0],\"yaxis\":\"y\",\"type\":\"bar\",\"insidetextanchor\":\"middle\"},{\"alignmentgroup\":\"True\",\"hovertemplate\":\"Art of transaction=Restaurants and Delivery<br>Month=%{x}<br>Amount in \\u20ac=%{text}<extra></extra>\",\"legendgroup\":\"Restaurants and Delivery\",\"marker\":{\"color\":\"#ef5675\",\"pattern\":{\"shape\":\"\"}},\"name\":\"Restaurants and Delivery\",\"offsetgroup\":\"Restaurants and Delivery\",\"orientation\":\"v\",\"showlegend\":true,\"text\":[82.0,22.0,66.0,23.0,32.0,214.0],\"textposition\":\"inside\",\"x\":[\"January\",\"February\",\"March\",\"April\",\"May\",\"June\"],\"xaxis\":\"x\",\"y\":[82.0,22.0,66.0,23.0,32.0,214.0],\"yaxis\":\"y\",\"type\":\"bar\",\"insidetextanchor\":\"middle\"},{\"alignmentgroup\":\"True\",\"hovertemplate\":\"Art of transaction=Transport<br>Month=%{x}<br>Amount in \\u20ac=%{text}<extra></extra>\",\"legendgroup\":\"Transport\",\"marker\":{\"color\":\"#ffa600\",\"pattern\":{\"shape\":\"\"}},\"name\":\"Transport\",\"offsetgroup\":\"Transport\",\"orientation\":\"v\",\"showlegend\":true,\"text\":[5.0,0.0,0.0,0.0,166.0,100.0],\"textposition\":\"inside\",\"x\":[\"January\",\"February\",\"March\",\"April\",\"May\",\"June\"],\"xaxis\":\"x\",\"y\":[5.0,0.0,0.0,0.0,166.0,100.0],\"yaxis\":\"y\",\"type\":\"bar\",\"insidetextanchor\":\"middle\"}],                        {\"template\":{\"data\":{\"barpolar\":[{\"marker\":{\"line\":{\"color\":\"white\",\"width\":0.5},\"pattern\":{\"fillmode\":\"overlay\",\"size\":10,\"solidity\":0.2}},\"type\":\"barpolar\"}],\"bar\":[{\"error_x\":{\"color\":\"rgb(36,36,36)\"},\"error_y\":{\"color\":\"rgb(36,36,36)\"},\"marker\":{\"line\":{\"color\":\"white\",\"width\":0.5},\"pattern\":{\"fillmode\":\"overlay\",\"size\":10,\"solidity\":0.2}},\"type\":\"bar\"}],\"carpet\":[{\"aaxis\":{\"endlinecolor\":\"rgb(36,36,36)\",\"gridcolor\":\"white\",\"linecolor\":\"white\",\"minorgridcolor\":\"white\",\"startlinecolor\":\"rgb(36,36,36)\"},\"baxis\":{\"endlinecolor\":\"rgb(36,36,36)\",\"gridcolor\":\"white\",\"linecolor\":\"white\",\"minorgridcolor\":\"white\",\"startlinecolor\":\"rgb(36,36,36)\"},\"type\":\"carpet\"}],\"choropleth\":[{\"colorbar\":{\"outlinewidth\":1,\"tickcolor\":\"rgb(36,36,36)\",\"ticks\":\"outside\"},\"type\":\"choropleth\"}],\"contourcarpet\":[{\"colorbar\":{\"outlinewidth\":1,\"tickcolor\":\"rgb(36,36,36)\",\"ticks\":\"outside\"},\"type\":\"contourcarpet\"}],\"contour\":[{\"colorbar\":{\"outlinewidth\":1,\"tickcolor\":\"rgb(36,36,36)\",\"ticks\":\"outside\"},\"colorscale\":[[0.0,\"#440154\"],[0.1111111111111111,\"#482878\"],[0.2222222222222222,\"#3e4989\"],[0.3333333333333333,\"#31688e\"],[0.4444444444444444,\"#26828e\"],[0.5555555555555556,\"#1f9e89\"],[0.6666666666666666,\"#35b779\"],[0.7777777777777778,\"#6ece58\"],[0.8888888888888888,\"#b5de2b\"],[1.0,\"#fde725\"]],\"type\":\"contour\"}],\"heatmapgl\":[{\"colorbar\":{\"outlinewidth\":1,\"tickcolor\":\"rgb(36,36,36)\",\"ticks\":\"outside\"},\"colorscale\":[[0.0,\"#440154\"],[0.1111111111111111,\"#482878\"],[0.2222222222222222,\"#3e4989\"],[0.3333333333333333,\"#31688e\"],[0.4444444444444444,\"#26828e\"],[0.5555555555555556,\"#1f9e89\"],[0.6666666666666666,\"#35b779\"],[0.7777777777777778,\"#6ece58\"],[0.8888888888888888,\"#b5de2b\"],[1.0,\"#fde725\"]],\"type\":\"heatmapgl\"}],\"heatmap\":[{\"colorbar\":{\"outlinewidth\":1,\"tickcolor\":\"rgb(36,36,36)\",\"ticks\":\"outside\"},\"colorscale\":[[0.0,\"#440154\"],[0.1111111111111111,\"#482878\"],[0.2222222222222222,\"#3e4989\"],[0.3333333333333333,\"#31688e\"],[0.4444444444444444,\"#26828e\"],[0.5555555555555556,\"#1f9e89\"],[0.6666666666666666,\"#35b779\"],[0.7777777777777778,\"#6ece58\"],[0.8888888888888888,\"#b5de2b\"],[1.0,\"#fde725\"]],\"type\":\"heatmap\"}],\"histogram2dcontour\":[{\"colorbar\":{\"outlinewidth\":1,\"tickcolor\":\"rgb(36,36,36)\",\"ticks\":\"outside\"},\"colorscale\":[[0.0,\"#440154\"],[0.1111111111111111,\"#482878\"],[0.2222222222222222,\"#3e4989\"],[0.3333333333333333,\"#31688e\"],[0.4444444444444444,\"#26828e\"],[0.5555555555555556,\"#1f9e89\"],[0.6666666666666666,\"#35b779\"],[0.7777777777777778,\"#6ece58\"],[0.8888888888888888,\"#b5de2b\"],[1.0,\"#fde725\"]],\"type\":\"histogram2dcontour\"}],\"histogram2d\":[{\"colorbar\":{\"outlinewidth\":1,\"tickcolor\":\"rgb(36,36,36)\",\"ticks\":\"outside\"},\"colorscale\":[[0.0,\"#440154\"],[0.1111111111111111,\"#482878\"],[0.2222222222222222,\"#3e4989\"],[0.3333333333333333,\"#31688e\"],[0.4444444444444444,\"#26828e\"],[0.5555555555555556,\"#1f9e89\"],[0.6666666666666666,\"#35b779\"],[0.7777777777777778,\"#6ece58\"],[0.8888888888888888,\"#b5de2b\"],[1.0,\"#fde725\"]],\"type\":\"histogram2d\"}],\"histogram\":[{\"marker\":{\"line\":{\"color\":\"white\",\"width\":0.6}},\"type\":\"histogram\"}],\"mesh3d\":[{\"colorbar\":{\"outlinewidth\":1,\"tickcolor\":\"rgb(36,36,36)\",\"ticks\":\"outside\"},\"type\":\"mesh3d\"}],\"parcoords\":[{\"line\":{\"colorbar\":{\"outlinewidth\":1,\"tickcolor\":\"rgb(36,36,36)\",\"ticks\":\"outside\"}},\"type\":\"parcoords\"}],\"pie\":[{\"automargin\":true,\"type\":\"pie\"}],\"scatter3d\":[{\"line\":{\"colorbar\":{\"outlinewidth\":1,\"tickcolor\":\"rgb(36,36,36)\",\"ticks\":\"outside\"}},\"marker\":{\"colorbar\":{\"outlinewidth\":1,\"tickcolor\":\"rgb(36,36,36)\",\"ticks\":\"outside\"}},\"type\":\"scatter3d\"}],\"scattercarpet\":[{\"marker\":{\"colorbar\":{\"outlinewidth\":1,\"tickcolor\":\"rgb(36,36,36)\",\"ticks\":\"outside\"}},\"type\":\"scattercarpet\"}],\"scattergeo\":[{\"marker\":{\"colorbar\":{\"outlinewidth\":1,\"tickcolor\":\"rgb(36,36,36)\",\"ticks\":\"outside\"}},\"type\":\"scattergeo\"}],\"scattergl\":[{\"marker\":{\"colorbar\":{\"outlinewidth\":1,\"tickcolor\":\"rgb(36,36,36)\",\"ticks\":\"outside\"}},\"type\":\"scattergl\"}],\"scattermapbox\":[{\"marker\":{\"colorbar\":{\"outlinewidth\":1,\"tickcolor\":\"rgb(36,36,36)\",\"ticks\":\"outside\"}},\"type\":\"scattermapbox\"}],\"scatterpolargl\":[{\"marker\":{\"colorbar\":{\"outlinewidth\":1,\"tickcolor\":\"rgb(36,36,36)\",\"ticks\":\"outside\"}},\"type\":\"scatterpolargl\"}],\"scatterpolar\":[{\"marker\":{\"colorbar\":{\"outlinewidth\":1,\"tickcolor\":\"rgb(36,36,36)\",\"ticks\":\"outside\"}},\"type\":\"scatterpolar\"}],\"scatter\":[{\"fillpattern\":{\"fillmode\":\"overlay\",\"size\":10,\"solidity\":0.2},\"type\":\"scatter\"}],\"scatterternary\":[{\"marker\":{\"colorbar\":{\"outlinewidth\":1,\"tickcolor\":\"rgb(36,36,36)\",\"ticks\":\"outside\"}},\"type\":\"scatterternary\"}],\"surface\":[{\"colorbar\":{\"outlinewidth\":1,\"tickcolor\":\"rgb(36,36,36)\",\"ticks\":\"outside\"},\"colorscale\":[[0.0,\"#440154\"],[0.1111111111111111,\"#482878\"],[0.2222222222222222,\"#3e4989\"],[0.3333333333333333,\"#31688e\"],[0.4444444444444444,\"#26828e\"],[0.5555555555555556,\"#1f9e89\"],[0.6666666666666666,\"#35b779\"],[0.7777777777777778,\"#6ece58\"],[0.8888888888888888,\"#b5de2b\"],[1.0,\"#fde725\"]],\"type\":\"surface\"}],\"table\":[{\"cells\":{\"fill\":{\"color\":\"rgb(237,237,237)\"},\"line\":{\"color\":\"white\"}},\"header\":{\"fill\":{\"color\":\"rgb(217,217,217)\"},\"line\":{\"color\":\"white\"}},\"type\":\"table\"}]},\"layout\":{\"annotationdefaults\":{\"arrowhead\":0,\"arrowwidth\":1},\"autotypenumbers\":\"strict\",\"coloraxis\":{\"colorbar\":{\"outlinewidth\":1,\"tickcolor\":\"rgb(36,36,36)\",\"ticks\":\"outside\"}},\"colorscale\":{\"diverging\":[[0.0,\"rgb(103,0,31)\"],[0.1,\"rgb(178,24,43)\"],[0.2,\"rgb(214,96,77)\"],[0.3,\"rgb(244,165,130)\"],[0.4,\"rgb(253,219,199)\"],[0.5,\"rgb(247,247,247)\"],[0.6,\"rgb(209,229,240)\"],[0.7,\"rgb(146,197,222)\"],[0.8,\"rgb(67,147,195)\"],[0.9,\"rgb(33,102,172)\"],[1.0,\"rgb(5,48,97)\"]],\"sequential\":[[0.0,\"#440154\"],[0.1111111111111111,\"#482878\"],[0.2222222222222222,\"#3e4989\"],[0.3333333333333333,\"#31688e\"],[0.4444444444444444,\"#26828e\"],[0.5555555555555556,\"#1f9e89\"],[0.6666666666666666,\"#35b779\"],[0.7777777777777778,\"#6ece58\"],[0.8888888888888888,\"#b5de2b\"],[1.0,\"#fde725\"]],\"sequentialminus\":[[0.0,\"#440154\"],[0.1111111111111111,\"#482878\"],[0.2222222222222222,\"#3e4989\"],[0.3333333333333333,\"#31688e\"],[0.4444444444444444,\"#26828e\"],[0.5555555555555556,\"#1f9e89\"],[0.6666666666666666,\"#35b779\"],[0.7777777777777778,\"#6ece58\"],[0.8888888888888888,\"#b5de2b\"],[1.0,\"#fde725\"]]},\"colorway\":[\"#1F77B4\",\"#FF7F0E\",\"#2CA02C\",\"#D62728\",\"#9467BD\",\"#8C564B\",\"#E377C2\",\"#7F7F7F\",\"#BCBD22\",\"#17BECF\"],\"font\":{\"color\":\"rgb(36,36,36)\"},\"geo\":{\"bgcolor\":\"white\",\"lakecolor\":\"white\",\"landcolor\":\"white\",\"showlakes\":true,\"showland\":true,\"subunitcolor\":\"white\"},\"hoverlabel\":{\"align\":\"left\"},\"hovermode\":\"closest\",\"mapbox\":{\"style\":\"light\"},\"paper_bgcolor\":\"white\",\"plot_bgcolor\":\"white\",\"polar\":{\"angularaxis\":{\"gridcolor\":\"rgb(232,232,232)\",\"linecolor\":\"rgb(36,36,36)\",\"showgrid\":false,\"showline\":true,\"ticks\":\"outside\"},\"bgcolor\":\"white\",\"radialaxis\":{\"gridcolor\":\"rgb(232,232,232)\",\"linecolor\":\"rgb(36,36,36)\",\"showgrid\":false,\"showline\":true,\"ticks\":\"outside\"}},\"scene\":{\"xaxis\":{\"backgroundcolor\":\"white\",\"gridcolor\":\"rgb(232,232,232)\",\"gridwidth\":2,\"linecolor\":\"rgb(36,36,36)\",\"showbackground\":true,\"showgrid\":false,\"showline\":true,\"ticks\":\"outside\",\"zeroline\":false,\"zerolinecolor\":\"rgb(36,36,36)\"},\"yaxis\":{\"backgroundcolor\":\"white\",\"gridcolor\":\"rgb(232,232,232)\",\"gridwidth\":2,\"linecolor\":\"rgb(36,36,36)\",\"showbackground\":true,\"showgrid\":false,\"showline\":true,\"ticks\":\"outside\",\"zeroline\":false,\"zerolinecolor\":\"rgb(36,36,36)\"},\"zaxis\":{\"backgroundcolor\":\"white\",\"gridcolor\":\"rgb(232,232,232)\",\"gridwidth\":2,\"linecolor\":\"rgb(36,36,36)\",\"showbackground\":true,\"showgrid\":false,\"showline\":true,\"ticks\":\"outside\",\"zeroline\":false,\"zerolinecolor\":\"rgb(36,36,36)\"}},\"shapedefaults\":{\"fillcolor\":\"black\",\"line\":{\"width\":0},\"opacity\":0.3},\"ternary\":{\"aaxis\":{\"gridcolor\":\"rgb(232,232,232)\",\"linecolor\":\"rgb(36,36,36)\",\"showgrid\":false,\"showline\":true,\"ticks\":\"outside\"},\"baxis\":{\"gridcolor\":\"rgb(232,232,232)\",\"linecolor\":\"rgb(36,36,36)\",\"showgrid\":false,\"showline\":true,\"ticks\":\"outside\"},\"bgcolor\":\"white\",\"caxis\":{\"gridcolor\":\"rgb(232,232,232)\",\"linecolor\":\"rgb(36,36,36)\",\"showgrid\":false,\"showline\":true,\"ticks\":\"outside\"}},\"title\":{\"x\":0.05},\"xaxis\":{\"automargin\":true,\"gridcolor\":\"rgb(232,232,232)\",\"linecolor\":\"rgb(36,36,36)\",\"showgrid\":false,\"showline\":true,\"ticks\":\"outside\",\"title\":{\"standoff\":15},\"zeroline\":false,\"zerolinecolor\":\"rgb(36,36,36)\"},\"yaxis\":{\"automargin\":true,\"gridcolor\":\"rgb(232,232,232)\",\"linecolor\":\"rgb(36,36,36)\",\"showgrid\":false,\"showline\":true,\"ticks\":\"outside\",\"title\":{\"standoff\":15},\"zeroline\":false,\"zerolinecolor\":\"rgb(36,36,36)\"}}},\"xaxis\":{\"anchor\":\"y\",\"domain\":[0.0,1.0],\"title\":{\"text\":\"Month\"}},\"yaxis\":{\"anchor\":\"x\",\"domain\":[0.0,1.0],\"title\":{\"text\":\"Amount in \\u20ac\"},\"showgrid\":true},\"legend\":{\"title\":{\"text\":\"Art of transaction\"},\"tracegroupgap\":0},\"title\":{\"text\":\"Monthly distribution of the Amount of spent Money\",\"font\":{\"size\":20,\"family\":\"Arial Black\"},\"x\":0.08},\"barmode\":\"group\",\"height\":700,\"width\":900,\"font\":{\"size\":15},\"showlegend\":true},                        {\"responsive\": true}                    ).then(function(){\n",
       "                            \n",
       "var gd = document.getElementById('58cb8de4-8b07-43be-8e8f-f9599621035e');\n",
       "var x = new MutationObserver(function (mutations, observer) {{\n",
       "        var display = window.getComputedStyle(gd).display;\n",
       "        if (!display || display === 'none') {{\n",
       "            console.log([gd, 'removed!']);\n",
       "            Plotly.purge(gd);\n",
       "            observer.disconnect();\n",
       "        }}\n",
       "}});\n",
       "\n",
       "// Listen for the removal of the full notebook cells\n",
       "var notebookContainer = gd.closest('#notebook-container');\n",
       "if (notebookContainer) {{\n",
       "    x.observe(notebookContainer, {childList: true});\n",
       "}}\n",
       "\n",
       "// Listen for the clearing of the current output cell\n",
       "var outputEl = gd.closest('.output');\n",
       "if (outputEl) {{\n",
       "    x.observe(outputEl, {childList: true});\n",
       "}}\n",
       "\n",
       "                        })                };                });            </script>        </div>"
      ]
     },
     "metadata": {},
     "output_type": "display_data"
    }
   ],
   "source": [
    "title=\"Monthly distribution of the Amount of spent Money\"\n",
    "fig = px.bar(DataMonthly, \n",
    "             height=700,\n",
    "             width=900,\n",
    "             color_discrete_sequence=[\"#003f5c\",\"#7a5195\",\"#ef5675\",\"#ffa600\"],\n",
    "             text=\"value\",\n",
    "             barmode=\"group\",\n",
    "             template=\"simple_white\",\n",
    "             title=title,\n",
    "             labels=dict({\"value\": \"Amount in €\", \"variable\": \"Art of transaction\"})\n",
    "            )\n",
    "fig.update_yaxes(showgrid=False)\n",
    "\n",
    "\n",
    "\n",
    "'''ADD CHART TITLE AND TITLE FONT SIZE'''\n",
    "fig.update_layout(title_font_size=20,font_size=15,showlegend=True,title_font_family=\"Arial Black\",title_x=0.08)\n",
    "fig.update_yaxes(showgrid=True)\n",
    "\n",
    "#add the Value of each Figure with a nice positioning\n",
    "fig.update_traces(textposition=\"inside\",insidetextanchor=\"middle\")\n",
    "\n",
    "#save the file \n",
    "fig.write_html(\"Charts\\Monthly_distribution_of_the_Amount_of_spent_Money_mini.html\")\n",
    "\n",
    "\n",
    "fig.show()"
   ]
  },
  {
   "attachments": {
    "newplot%20%2852%29.png": {
     "image/png": "[encoded data removed]"
    }
   },
   "cell_type": "markdown",
   "metadata": {},
   "source": [
    "![newplot%20%2852%29.png](attachment:newplot%20%2852%29.png)"
   ]
  },
  {
   "cell_type": "markdown",
   "metadata": {},
   "source": [
    "# Next Steps:\n",
    "- predict how much money gonna be spent and where\n",
    "- predicts the savings\n",
    "- never make a future payments with cash so it will be easier to analyse and track the purchases"
   ]
  },
  {
   "cell_type": "code",
   "execution_count": null,
   "metadata": {},
   "outputs": [],
   "source": []
  }
 ],
 "metadata": {
  "kernelspec": {
   "display_name": "Python 3 (ipykernel)",
   "language": "python",
   "name": "python3"
  },
  "language_info": {
   "codemirror_mode": {
    "name": "ipython",
    "version": 3
   },
   "file_extension": ".py",
   "mimetype": "text/x-python",
   "name": "python",
   "nbconvert_exporter": "python",
   "pygments_lexer": "ipython3",
   "version": "3.9.7"
  }
 },
 "nbformat": 4,
 "nbformat_minor": 4
}
